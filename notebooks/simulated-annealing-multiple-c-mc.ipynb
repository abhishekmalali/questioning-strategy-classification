{
 "cells": [
  {
   "cell_type": "code",
   "execution_count": 1,
   "metadata": {
    "collapsed": true
   },
   "outputs": [],
   "source": [
    "import numpy as np\n",
    "import pymc as pm\n",
    "import matplotlib.pyplot as plt\n",
    "%matplotlib inline"
   ]
  },
  {
   "cell_type": "code",
   "execution_count": 2,
   "metadata": {
    "collapsed": false
   },
   "outputs": [
    {
     "data": {
      "text/plain": [
       "(100, 5, 4)"
      ]
     },
     "execution_count": 2,
     "metadata": {},
     "output_type": "execute_result"
    }
   ],
   "source": [
    "#Reading in the data\n",
    "data = np.load('../data/same_preset_MC_100_5_4.npz.npy')\n",
    "trueCls = np.load('../data/same_preset_MC_100_5_4_reference_classes.npy')\n",
    "data.shape"
   ]
  },
  {
   "cell_type": "code",
   "execution_count": 3,
   "metadata": {
    "collapsed": true
   },
   "outputs": [],
   "source": [
    "#Inferring the number of classes and data length\n",
    "numData = data.shape[0]\n",
    "numExperts = data.shape[1]\n",
    "numClasses = data.shape[2]"
   ]
  },
  {
   "cell_type": "code",
   "execution_count": 4,
   "metadata": {
    "collapsed": true
   },
   "outputs": [],
   "source": [
    "def swap_class(z, row_idx, numClasses):\n",
    "    new_z = np.copy(z)\n",
    "    classes = list(range(numClasses))\n",
    "    old_class = np.where(z[row_idx,:] == 1)[0][0]\n",
    "    #Removing the old class\n",
    "    del classes[old_class]\n",
    "    new_class = np.random.choice(classes)\n",
    "    new_row = np.zeros(numClasses)\n",
    "    new_row[new_class] = 1.\n",
    "    new_z[row_idx] = new_row\n",
    "    return new_z"
   ]
  },
  {
   "cell_type": "code",
   "execution_count": 5,
   "metadata": {
    "collapsed": true
   },
   "outputs": [],
   "source": [
    "def gen_confusion_matrix(z, data):\n",
    "    numClasses = data.shape[2]\n",
    "    numExperts = data.shape[1]\n",
    "    numData = data.shape[0]\n",
    "    confMat = 0.01*np.ones((numExperts, numClasses, numClasses))\n",
    "    for data_idx in range(numData):\n",
    "        dat = data[data_idx]\n",
    "        observed_cls = z[data_idx,:]\n",
    "        class_num = np.where(observed_cls == 1)[0][0]\n",
    "        for exp_idx in range(numExperts):\n",
    "            confMat[exp_idx,class_num,:] += dat[exp_idx,:]\n",
    "    confMat = confMat/confMat.sum(axis=(2))[:,:,np.newaxis]\n",
    "    return confMat"
   ]
  },
  {
   "cell_type": "code",
   "execution_count": 6,
   "metadata": {
    "collapsed": true
   },
   "outputs": [],
   "source": [
    "def mc_likelihood(data, z, confMatArray):\n",
    "    log_like = 0\n",
    "    numData = data.shape[0]\n",
    "    numExperts = data.shape[1]\n",
    "    numClasses = data.shape[2]\n",
    "    for data_idx in range(numData):\n",
    "        data_val = data[data_idx]\n",
    "        z_val = z[data_idx]\n",
    "        obs_val = np.where(z_val == 1)[0][0]\n",
    "        \"\"\"\n",
    "        for cls_idx in range(numClasses):\n",
    "            log_like += z_val[cls_idx]*( \\\n",
    "                    np.sum(np.multiply(np.log(confMatArray[:, obs_val, cls_idx]), \\\n",
    "                                data_val[:, cls_idx])))\n",
    "        \"\"\"\n",
    "        log_like += np.sum(np.multiply(z_val, np.sum(np.multiply(np.log(confMatArray[:, obs_val, :]), \\\n",
    "                                data_val), axis=0)))\n",
    "    return log_like"
   ]
  },
  {
   "cell_type": "code",
   "execution_count": 7,
   "metadata": {
    "collapsed": true
   },
   "outputs": [],
   "source": [
    "def compute_pi(z, numData):\n",
    "    return z.sum(axis=0)/numData"
   ]
  },
  {
   "cell_type": "code",
   "execution_count": 8,
   "metadata": {
    "collapsed": false
   },
   "outputs": [],
   "source": [
    "\"\"\"\n",
    "data_num = np.random.choice(range(numClasses), size=numData)\n",
    "z = np.eye(numClasses)[data_num]\n",
    "\"\"\"\n",
    "inferred_labels = np.argmax(data.sum(axis=1), axis=1)\n",
    "z = np.eye(numClasses)[inferred_labels]\n",
    "confMat = gen_confusion_matrix(z, data)\n",
    "pi = compute_pi(z, numData)"
   ]
  },
  {
   "cell_type": "code",
   "execution_count": 9,
   "metadata": {
    "collapsed": true
   },
   "outputs": [],
   "source": [
    "def simulated_annealing_mc(z, confMat, data, starting_temp=10, reanneal=0.001, num_iterations=100):\n",
    "    #Inferring the number of classes and data length\n",
    "    numData = data.shape[0]\n",
    "    numExperts = data.shape[1]\n",
    "    numClasses = data.shape[2]\n",
    "    numAccepts = 0\n",
    "    temp = starting_temp\n",
    "    likelihood_trace = []\n",
    "    best_likelihood_trace = []\n",
    "    temp_trace = []\n",
    "    best_start = z\n",
    "    best_conf = confMat\n",
    "    best_lik = -np.inf\n",
    "    for i in range(num_iterations):\n",
    "        swap_idx = np.random.choice(range(numData), size=1, replace=False)[0]\n",
    "        z_new = swap_class(z, swap_idx, numClasses)\n",
    "        confMatNew = gen_confusion_matrix(z_new, data)\n",
    "        new_lik = mc_likelihood(data, z_new, confMatNew)\n",
    "        old_lik = mc_likelihood(data, z, confMat)\n",
    "        u = np.random.uniform()\n",
    "        prob = min([1, np.exp((new_lik - old_lik)/temp)])\n",
    "        #print prob, u\n",
    "        #Always accepting if the likelihood increases\n",
    "        if new_lik > old_lik:\n",
    "            z = z_new\n",
    "            confMat = confMatNew\n",
    "            if new_lik > best_lik:\n",
    "                best_lik = new_lik\n",
    "                best_start = z_new\n",
    "                best_conf = confMat\n",
    "            likelihood_trace.append(new_lik)\n",
    "            numAccepts += 1\n",
    "        #Accepting based on the probability if the error does not reduce\n",
    "        elif prob >= u:\n",
    "            z = z_new\n",
    "            confMat = confMatNew\n",
    "            if new_lik > best_lik:\n",
    "                best_lik = new_lik\n",
    "                best_start = z\n",
    "                best_conf = confMat\n",
    "            likelihood_trace.append(new_lik)\n",
    "            numAccepts += 1\n",
    "        else:\n",
    "            likelihood_trace.append(old_lik)\n",
    "        #Reducing temperature every 10th iteration\n",
    "        if i%10 == 0:\n",
    "            temp = temp*0.99\n",
    "        if (i+1)%1000 == 0:\n",
    "            print \"#\",\n",
    "        #Reannealing if the temperature is too low\n",
    "        if temp < reanneal:\n",
    "            temp = 10\n",
    "        temp_trace.append(temp)\n",
    "        best_likelihood_trace.append(best_lik)\n",
    "    return likelihood_trace, best_likelihood_trace, temp_trace, best_start, best_lik, best_conf, numAccepts"
   ]
  },
  {
   "cell_type": "code",
   "execution_count": 10,
   "metadata": {
    "collapsed": false
   },
   "outputs": [
    {
     "name": "stdout",
     "output_type": "stream",
     "text": [
      "# # # # # # # # # #\n"
     ]
    }
   ],
   "source": [
    "likelihood_trace, best_likelihood_trace, temp_trace, best_start, best_lik, best_conf, numAccepts =\\\n",
    "simulated_annealing_mc(z, confMat, data, num_iterations=10000)"
   ]
  },
  {
   "cell_type": "code",
   "execution_count": 14,
   "metadata": {
    "collapsed": false
   },
   "outputs": [
    {
     "data": {
      "text/plain": [
       "[<matplotlib.lines.Line2D at 0x113b1e7d0>]"
      ]
     },
     "execution_count": 14,
     "metadata": {},
     "output_type": "execute_result"
    },
    {
     "data": {
      "image/png": "[encoded data removed]",
      "text/plain": [
       "<matplotlib.figure.Figure at 0x1135b11d0>"
      ]
     },
     "metadata": {},
     "output_type": "display_data"
    }
   ],
   "source": [
    "plt.plot(likelihood_trace)"
   ]
  },
  {
   "cell_type": "code",
   "execution_count": 12,
   "metadata": {
    "collapsed": false
   },
   "outputs": [
    {
     "name": "stdout",
     "output_type": "stream",
     "text": [
      "Accuracy : 0 %\n"
     ]
    }
   ],
   "source": [
    "print \"Accuracy :\", np.sum(np.argmax(best_start, axis=1) == trueCls)*100/numData, \"%\""
   ]
  },
  {
   "cell_type": "code",
   "execution_count": 13,
   "metadata": {
    "collapsed": false
   },
   "outputs": [
    {
     "data": {
      "text/plain": [
       "array([[  4.99001996e-04,   2.00099800e-01,   4.49600798e-01,\n",
       "          3.49800399e-01],\n",
       "       [  3.56990014e-01,   3.56633381e-04,   4.28316690e-01,\n",
       "          2.14336662e-01],\n",
       "       [  2.96227811e-01,   2.59245562e-01,   3.69822485e-04,\n",
       "          4.44156805e-01],\n",
       "       [  1.60143770e-01,   4.79632588e-01,   3.59824281e-01,\n",
       "          3.99361022e-04]])"
      ]
     },
     "execution_count": 13,
     "metadata": {},
     "output_type": "execute_result"
    }
   ],
   "source": [
    "best_conf[0]"
   ]
  },
  {
   "cell_type": "code",
   "execution_count": 15,
   "metadata": {
    "collapsed": false
   },
   "outputs": [
    {
     "data": {
      "text/plain": [
       "0.0"
      ]
     },
     "execution_count": 15,
     "metadata": {},
     "output_type": "execute_result"
    }
   ],
   "source": [
    "best_lik"
   ]
  },
  {
   "cell_type": "code",
   "execution_count": null,
   "metadata": {
    "collapsed": true
   },
   "outputs": [],
   "source": []
  }
 ],
 "metadata": {
  "kernelspec": {
   "display_name": "Python 2",
   "language": "python",
   "name": "python2"
  },
  "language_info": {
   "codemirror_mode": {
    "name": "ipython",
    "version": 2
   },
   "file_extension": ".py",
   "mimetype": "text/x-python",
   "name": "python",
   "nbconvert_exporter": "python",
   "pygments_lexer": "ipython2",
   "version": "2.7.11"
  }
 },
 "nbformat": 4,
 "nbformat_minor": 0
}
