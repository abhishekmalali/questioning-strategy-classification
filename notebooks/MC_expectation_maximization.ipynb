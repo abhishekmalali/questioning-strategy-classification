{
 "cells": [
  {
   "cell_type": "code",
   "execution_count": 214,
   "metadata": {
    "collapsed": true
   },
   "outputs": [],
   "source": [
    "import numpy as np\n",
    "import matplotlib.pyplot as plt\n",
    "%matplotlib inline"
   ]
  },
  {
   "cell_type": "code",
   "execution_count": 215,
   "metadata": {
    "collapsed": true
   },
   "outputs": [],
   "source": [
    "#Reading in the data\n",
    "data = np.load('MC_500_5_4.npz.npy')\n",
    "trueCls = np.load('MC_500_5_4_reference_classes.npy')"
   ]
  },
  {
   "cell_type": "code",
   "execution_count": 216,
   "metadata": {
    "collapsed": false
   },
   "outputs": [
    {
     "data": {
      "text/plain": [
       "(500, 5, 4)"
      ]
     },
     "execution_count": 216,
     "metadata": {},
     "output_type": "execute_result"
    }
   ],
   "source": [
    "data.shape"
   ]
  },
  {
   "cell_type": "code",
   "execution_count": 254,
   "metadata": {
    "collapsed": true
   },
   "outputs": [],
   "source": [
    "#Inferring the number of classes and data length\n",
    "numData = data.shape[0]\n",
    "numExperts = data.shape[1]\n",
    "numClasses = data.shape[2]"
   ]
  },
  {
   "cell_type": "code",
   "execution_count": 255,
   "metadata": {
    "collapsed": false
   },
   "outputs": [],
   "source": [
    "#Initialization\n",
    "alpha = [1, 1, 1, 1]\n",
    "z = np.random.dirichlet(alpha, size=numData)\n",
    "observed_classes = np.argmax(z, axis=1)\n",
    "lam = 10\n",
    "lambda_mat = lam*np.eye( numClasses) + np.ones((numClasses, numClasses))\n",
    "ConfMatList = []\n",
    "for exp_index in range(numExperts):\n",
    "    confMat = []\n",
    "    for cls_idx in range(numClasses):\n",
    "        confMat.append(np.random.dirichlet(lambda_mat[cls_idx,:],1)[0])\n",
    "    ConfMatList.append(np.array(confMat))"
   ]
  },
  {
   "cell_type": "code",
   "execution_count": 256,
   "metadata": {
    "collapsed": false
   },
   "outputs": [],
   "source": [
    "def calc_log_like(data, confMatList, z):\n",
    "    log_like = 0\n",
    "    numData = data.shape[0]\n",
    "    numExperts = data.shape[1]\n",
    "    numClasses = data.shape[2]\n",
    "    for data_idx in range(numData):\n",
    "        dat = data[data_idx]\n",
    "        observed_cls = z[data_idx]\n",
    "        for expert_idx in range(numExperts):\n",
    "            dat_exp = dat[expert_idx]\n",
    "            confMat = confMatList[expert_idx]\n",
    "            for class_idx_row in range(numClasses):\n",
    "                for class_idx_column in range(numClasses):\n",
    "                    log_like += observed_cls[class_idx_row]\\\n",
    "                    *np.sum(np.multiply(dat_exp ,np.log(confMat[class_idx_row])))\n",
    "    return log_like"
   ]
  },
  {
   "cell_type": "code",
   "execution_count": 257,
   "metadata": {
    "collapsed": false
   },
   "outputs": [
    {
     "data": {
      "text/plain": [
       "-24529.784860181484"
      ]
     },
     "execution_count": 257,
     "metadata": {},
     "output_type": "execute_result"
    }
   ],
   "source": [
    "calc_log_like(data, ConfMatList, z)"
   ]
  },
  {
   "cell_type": "code",
   "execution_count": 258,
   "metadata": {
    "collapsed": false
   },
   "outputs": [],
   "source": [
    "def E_Step(data, ConfMatList, z, observed_classes):\n",
    "    numData = data.shape[0]\n",
    "    numExperts = data.shape[1]\n",
    "    numClasses = data.shape[2]\n",
    "    \n",
    "    posterior = np.zeros(z.shape)\n",
    "    unique_classes = np.unique(observed_classes)\n",
    "    class_dist = {}\n",
    "    for cls in unique_classes:\n",
    "        class_dist[cls] = float(len(observed_classes == cls))/numData\n",
    "            \n",
    "    for d_idx in range(numData):\n",
    "        dat = data[d_idx]\n",
    "        prior_z = z[d_idx]\n",
    "        obs_class = observed_classes[d_idx]\n",
    "        for cls_idx in range(numClasses):\n",
    "            for exp_idx in range(numExperts):\n",
    "                posterior[d_idx, cls_idx] += dat[exp_idx, cls_idx] * \\\n",
    "                np.log(ConfMatList[exp_idx][obs_class,cls_idx])\n",
    "            posterior[d_idx, cls_idx] += np.log(class_dist[cls_idx])\n",
    "    row_sum = posterior.sum(axis=1)\n",
    "    return posterior/row_sum[:, np.newaxis]"
   ]
  },
  {
   "cell_type": "code",
   "execution_count": 259,
   "metadata": {
    "collapsed": false
   },
   "outputs": [],
   "source": [
    "def M_Step(data, confMatList, z, observed_classes):\n",
    "    numData = data.shape[0]\n",
    "    numExperts = data.shape[1]\n",
    "    numClasses = data.shape[2]\n",
    "    \n",
    "    newConfMatList = [0.01*np.ones((numClasses, numClasses)) for idx in range(numExperts)]\n",
    "    for e_idx in range(numExperts):\n",
    "        for row_cls_idx in range(numClasses):\n",
    "            dat = data[observed_classes == row_cls_idx]\n",
    "            z_dat = z[observed_classes == row_cls_idx]\n",
    "            for cls_idx in range(numClasses):\n",
    "                for dat_idx in range(len(dat)):\n",
    "                    newConfMatList[e_idx][row_cls_idx, cls_idx] += \\\n",
    "                    dat[dat_idx][e_idx][cls_idx]*z_dat[dat_idx][cls_idx]\n",
    "        row_sum = newConfMatList[e_idx].sum(axis = 0)\n",
    "        newConfMatList[e_idx] = newConfMatList[e_idx]/row_sum[:, np.newaxis]\n",
    "    return newConfMatList"
   ]
  },
  {
   "cell_type": "code",
   "execution_count": 260,
   "metadata": {
    "collapsed": false
   },
   "outputs": [],
   "source": [
    "new_z = E_Step(data, ConfMatList, z, observed_classes)\n",
    "new_observed_classes = np.argmax(z, axis=1)"
   ]
  },
  {
   "cell_type": "code",
   "execution_count": 261,
   "metadata": {
    "collapsed": false
   },
   "outputs": [],
   "source": [
    "newConfMatList = M_Step(data, ConfMatList, new_z, new_observed_classes)"
   ]
  },
  {
   "cell_type": "code",
   "execution_count": 262,
   "metadata": {
    "collapsed": false
   },
   "outputs": [
    {
     "data": {
      "text/plain": [
       "-17044.463463475273"
      ]
     },
     "execution_count": 262,
     "metadata": {},
     "output_type": "execute_result"
    }
   ],
   "source": [
    "calc_log_like(data, newConfMatList, new_z)"
   ]
  },
  {
   "cell_type": "code",
   "execution_count": 264,
   "metadata": {
    "collapsed": false
   },
   "outputs": [
    {
     "name": "stdout",
     "output_type": "stream",
     "text": [
      "-17633.6138018\n",
      "-21433.5843091\n",
      "-17652.5149441\n",
      "-21445.8471023\n",
      "-17656.7596778\n",
      "-21448.75493\n",
      "-17657.7321385\n",
      "-21449.43183\n",
      "-17657.9557317\n",
      "-21449.5883809\n"
     ]
    }
   ],
   "source": [
    "for i in range(10):\n",
    "    z = E_Step(data, ConfMatList, z, observed_classes)\n",
    "    observed_classes = np.argmax(z, axis=1)\n",
    "    ConfMatList = M_Step(data, ConfMatList, z, observed_classes)\n",
    "    print calc_log_like(data, ConfMatList, z)"
   ]
  },
  {
   "cell_type": "code",
   "execution_count": 242,
   "metadata": {
    "collapsed": false
   },
   "outputs": [
    {
     "data": {
      "text/plain": [
       "133"
      ]
     },
     "execution_count": 242,
     "metadata": {},
     "output_type": "execute_result"
    }
   ],
   "source": [
    "np.sum(np.argmax(z, axis=1) == trueCls)"
   ]
  },
  {
   "cell_type": "code",
   "execution_count": 243,
   "metadata": {
    "collapsed": false
   },
   "outputs": [
    {
     "data": {
      "text/plain": [
       "(array([1, 2, 0, 1, 2, 0, 2, 1, 0, 3, 2, 3, 1, 2, 2, 3, 0, 1, 0, 2, 1, 0, 3,\n",
       "        2, 3, 0, 0, 2, 1, 1, 2, 0, 3, 0, 0, 1, 2, 3, 2, 3, 0, 3, 0, 1, 0, 2,\n",
       "        1, 3, 0, 1, 0, 0, 0, 2, 3, 1, 1, 3, 3, 3, 2, 1, 0, 1, 0, 1, 2, 2, 0,\n",
       "        2, 2, 3, 2, 2, 0, 0, 1, 3, 2, 0, 3, 3, 3, 1, 2, 3, 1, 1, 3, 3, 1, 0,\n",
       "        3, 3, 2, 3, 0, 2, 2, 3, 2, 0, 0, 2, 0, 3, 1, 2, 3, 3, 3, 1, 0, 1, 0,\n",
       "        3, 0, 0, 3, 3, 1, 1, 0, 3, 2, 3, 2, 0, 2, 1, 2, 1, 3, 0, 3, 1, 2, 1,\n",
       "        1, 1, 0, 0, 1, 0, 2, 0, 3, 2, 2, 2, 1, 1, 1, 3, 2, 2, 1, 1, 1, 1, 1,\n",
       "        2, 1, 2, 0, 0, 0, 3, 3, 2, 1, 0, 1, 1, 2, 0, 3, 0, 2, 1, 2, 0, 0, 1,\n",
       "        3, 0, 3, 0, 0, 3, 1, 2, 3, 0, 0, 0, 3, 1, 2, 3, 2, 1, 3, 3, 3, 1, 1,\n",
       "        3, 0, 0, 0, 1, 0, 1, 3, 1, 3, 0, 0, 3, 3, 2, 2, 1, 0, 3, 1, 1, 0, 2,\n",
       "        0, 0, 2, 2, 0, 1, 3, 1, 3, 0, 2, 3, 3, 0, 2, 3, 2, 3, 3, 0, 0, 1, 3,\n",
       "        2, 0, 0, 2, 2, 1, 3, 3, 3, 0, 3, 1, 3, 2, 3, 3, 1, 0, 1, 2, 3, 0, 1,\n",
       "        1, 0, 3, 0, 3, 3, 2, 2, 3, 0, 0, 0, 3, 3, 0, 1, 2, 2, 2, 2, 3, 3, 3,\n",
       "        0, 3, 3, 1, 3, 3, 1, 2, 3, 2, 0, 1, 2, 2, 3, 1, 2, 0, 3, 3, 1, 3, 1,\n",
       "        3, 1, 3, 0, 3, 0, 0, 2, 0, 1, 2, 0, 2, 0, 1, 3, 1, 0, 3, 3, 0, 1, 1,\n",
       "        1, 1, 0, 3, 2, 1, 2, 2, 3, 3, 1, 2, 0, 3, 2, 0, 1, 3, 3, 3, 2, 3, 0,\n",
       "        2, 1, 2, 3, 3, 3, 2, 0, 1, 1, 0, 1, 2, 2, 3, 2, 0, 0, 2, 1, 3, 0, 3,\n",
       "        3, 3, 2, 0, 0, 2, 2, 3, 1, 2, 3, 1, 1, 2, 2, 3, 2, 2, 2, 3, 1, 0, 3,\n",
       "        0, 2, 1, 2, 2, 2, 1, 2, 2, 0, 1, 2, 3, 1, 2, 1, 3, 3, 3, 2, 0, 0, 3,\n",
       "        2, 2, 2, 3, 3, 3, 3, 2, 1, 0, 1, 3, 2, 3, 3, 3, 1, 1, 3, 0, 2, 2, 2,\n",
       "        1, 1, 1, 1, 1, 0, 0, 3, 0, 2, 3, 1, 3, 0, 1, 2, 0, 3, 1, 2, 2, 0, 3,\n",
       "        0, 3, 1, 1, 0, 2, 3, 1, 0, 0, 0, 0, 1, 2, 3, 0, 0]),\n",
       " array([1, 3, 3, 3, 3, 0, 3, 2, 3, 0, 0, 1, 2, 2, 1, 3, 2, 1, 3, 2, 3, 0, 3,\n",
       "        2, 0, 2, 1, 3, 3, 0, 0, 0, 1, 0, 1, 0, 3, 2, 1, 2, 2, 0, 2, 1, 2, 0,\n",
       "        3, 2, 1, 2, 2, 3, 2, 1, 0, 3, 2, 0, 1, 0, 3, 1, 1, 3, 1, 1, 0, 0, 2,\n",
       "        1, 1, 1, 1, 1, 2, 3, 2, 2, 0, 0, 3, 2, 3, 1, 1, 2, 0, 1, 2, 0, 1, 3,\n",
       "        3, 2, 1, 1, 1, 0, 1, 1, 3, 2, 3, 3, 3, 1, 2, 0, 0, 2, 3, 0, 0, 2, 3,\n",
       "        3, 0, 0, 2, 2, 3, 1, 2, 0, 0, 1, 1, 0, 0, 3, 3, 1, 3, 2, 0, 1, 3, 1,\n",
       "        2, 1, 3, 3, 3, 0, 0, 3, 1, 1, 0, 1, 3, 3, 1, 1, 1, 2, 0, 3, 0, 1, 0,\n",
       "        2, 1, 3, 1, 2, 1, 2, 0, 0, 3, 1, 0, 2, 2, 1, 3, 0, 2, 0, 3, 0, 1, 1,\n",
       "        3, 2, 0, 1, 0, 2, 2, 0, 3, 3, 3, 0, 1, 0, 0, 3, 2, 1, 3, 2, 0, 0, 3,\n",
       "        0, 0, 2, 3, 0, 1, 0, 2, 0, 2, 2, 0, 0, 3, 3, 0, 2, 0, 1, 3, 1, 1, 3,\n",
       "        0, 0, 3, 1, 2, 1, 0, 0, 3, 2, 3, 2, 2, 2, 3, 1, 3, 1, 3, 3, 0, 1, 1,\n",
       "        1, 2, 0, 0, 1, 3, 0, 1, 1, 3, 3, 1, 3, 2, 0, 1, 0, 3, 2, 0, 2, 1, 0,\n",
       "        0, 0, 1, 1, 1, 3, 0, 1, 0, 0, 3, 3, 2, 1, 0, 1, 3, 2, 1, 3, 0, 0, 0,\n",
       "        3, 3, 0, 1, 0, 3, 0, 3, 0, 3, 0, 0, 0, 1, 3, 1, 2, 0, 1, 0, 1, 1, 1,\n",
       "        3, 1, 2, 2, 1, 3, 3, 0, 1, 3, 0, 3, 3, 0, 0, 3, 0, 1, 3, 2, 0, 0, 2,\n",
       "        0, 3, 3, 1, 2, 1, 0, 0, 1, 0, 0, 0, 3, 0, 3, 0, 1, 2, 0, 3, 3, 2, 0,\n",
       "        2, 1, 0, 3, 3, 1, 0, 2, 1, 0, 0, 0, 2, 2, 0, 0, 0, 0, 1, 0, 3, 3, 3,\n",
       "        3, 3, 0, 2, 2, 3, 1, 1, 2, 0, 1, 1, 3, 3, 1, 0, 3, 1, 2, 3, 1, 0, 0,\n",
       "        1, 0, 1, 1, 3, 0, 0, 1, 3, 0, 2, 2, 0, 2, 2, 0, 0, 3, 1, 3, 2, 1, 2,\n",
       "        3, 2, 0, 2, 2, 0, 0, 1, 0, 1, 1, 2, 3, 2, 1, 3, 0, 2, 2, 0, 3, 3, 0,\n",
       "        3, 2, 0, 2, 0, 1, 2, 0, 2, 2, 2, 3, 2, 1, 0, 3, 0, 1, 0, 3, 1, 2, 2,\n",
       "        3, 3, 1, 2, 2, 0, 0, 1, 1, 0, 1, 2, 2, 2, 1, 3, 3]))"
      ]
     },
     "execution_count": 243,
     "metadata": {},
     "output_type": "execute_result"
    }
   ],
   "source": [
    "np.argmax(z, axis=1), trueCls"
   ]
  },
  {
   "cell_type": "markdown",
   "metadata": {},
   "source": [
    "# "
   ]
  }
 ],
 "metadata": {
  "kernelspec": {
   "display_name": "Python 2",
   "language": "python",
   "name": "python2"
  },
  "language_info": {
   "codemirror_mode": {
    "name": "ipython",
    "version": 2
   },
   "file_extension": ".py",
   "mimetype": "text/x-python",
   "name": "python",
   "nbconvert_exporter": "python",
   "pygments_lexer": "ipython2",
   "version": "2.7.11"
  }
 },
 "nbformat": 4,
 "nbformat_minor": 0
}
