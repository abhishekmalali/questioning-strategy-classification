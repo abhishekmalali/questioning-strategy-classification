{
 "cells": [
  {
   "cell_type": "code",
   "execution_count": 5,
   "metadata": {
    "collapsed": true
   },
   "outputs": [],
   "source": [
    "import numpy as np\n",
    "import pymc as pm\n",
    "import matplotlib.pyplot as plt\n",
    "%matplotlib inline"
   ]
  },
  {
   "cell_type": "code",
   "execution_count": 165,
   "metadata": {
    "collapsed": false
   },
   "outputs": [
    {
     "data": {
      "text/plain": [
       "(40, 5, 4, 2)"
      ]
     },
     "execution_count": 165,
     "metadata": {},
     "output_type": "execute_result"
    }
   ],
   "source": [
    "#Reading in the data\n",
    "data = np.load('../data/same_preset_YN_40_5_4.npz.npy')\n",
    "trueCls = np.load('../data/same_preset_MC_40_5_4_reference_classes.npy')\n",
    "data.shape"
   ]
  },
  {
   "cell_type": "code",
   "execution_count": 166,
   "metadata": {
    "collapsed": true
   },
   "outputs": [],
   "source": [
    "#Inferring the number of classes and data length\n",
    "numData = data.shape[0]\n",
    "numExperts = data.shape[1]\n",
    "numClasses = data.shape[2]"
   ]
  },
  {
   "cell_type": "code",
   "execution_count": 167,
   "metadata": {
    "collapsed": true
   },
   "outputs": [],
   "source": [
    "def swap_class(z, row_idx, numClasses):\n",
    "    new_z = np.copy(z)\n",
    "    classes = list(range(numClasses))\n",
    "    old_class = np.where(z[row_idx,:] == 1)[0][0]\n",
    "    #Removing the old class\n",
    "    del classes[old_class]\n",
    "    new_class = np.random.choice(classes)\n",
    "    new_row = np.zeros(numClasses)\n",
    "    new_row[new_class] = 1.\n",
    "    new_z[row_idx] = new_row\n",
    "    return new_z"
   ]
  },
  {
   "cell_type": "code",
   "execution_count": 168,
   "metadata": {
    "collapsed": true
   },
   "outputs": [],
   "source": [
    "def gen_confusion_matrix(z, data):\n",
    "    numClasses = data.shape[2]\n",
    "    numData = data.shape[0]\n",
    "    confMat = 0.01*np.ones((numClasses, numClasses))\n",
    "    for data_idx in range(numData):\n",
    "        dat = data[data_idx]\n",
    "        data_val = np.sum(dat, axis=0)\n",
    "        observed_cls = z[data_idx,:]\n",
    "        class_num = np.where(observed_cls == 1)[0][0]\n",
    "        confMat[class_num,:] += data_val[:,1]\n",
    "    confMat = confMat/np.sum(confMat, axis=1)[:, np.newaxis]\n",
    "    return confMat"
   ]
  },
  {
   "cell_type": "code",
   "execution_count": 169,
   "metadata": {
    "collapsed": false
   },
   "outputs": [],
   "source": [
    "def mc_likelihood(value=data, z=z, confMatHat=confMat):\n",
    "    \"\"\"\n",
    "    value - data\n",
    "    z - observed classes\n",
    "    confMat - confidence matrix\n",
    "    \"\"\"\n",
    "    log_like = 0\n",
    "    numData = data.shape[0]\n",
    "    numExperts = data.shape[1]\n",
    "    numClasses = data.shape[2]\n",
    "    for data_idx in range(numData):\n",
    "        dat = data[data_idx]\n",
    "        observed_cls = z[data_idx]\n",
    "        class_num = np.where(observed_cls == 1)[0][0]\n",
    "        data_val = np.sum(dat, axis=0)\n",
    "        computed_val = np.sum(np.multiply(data_val[:,1], np.log(confMatHat[class_num]))) + \\\n",
    "                        np.sum(np.multiply(data_val[:,0], np.log(1-confMatHat[class_num])))\n",
    "        log_like += np.sum(np.multiply(observed_cls, computed_val))\n",
    "    \n",
    "    return log_like"
   ]
  },
  {
   "cell_type": "code",
   "execution_count": 170,
   "metadata": {
    "collapsed": false
   },
   "outputs": [],
   "source": [
    "\"\"\"\n",
    "#Randomly generating the z's\n",
    "data_num = np.random.choice(range(numClasses), size=numData)\n",
    "z = np.eye(numClasses)[data_num]\n",
    "\"\"\"\n",
    "inferred_labels = np.argmax(data.sum(axis=1)[:,:,1], axis=1)\n",
    "z = np.eye(numClasses)[inferred_labels]\n",
    "confMat = gen_confusion_matrix(z, data)"
   ]
  },
  {
   "cell_type": "code",
   "execution_count": 171,
   "metadata": {
    "collapsed": false
   },
   "outputs": [],
   "source": [
    "def simulated_annealing_mc(z, confMat, data, starting_temp=1, reanneal=0.1, num_iterations=100):\n",
    "    #Inferring the number of classes and data length\n",
    "    numData = data.shape[0]\n",
    "    numExperts = data.shape[1]\n",
    "    numClasses = data.shape[2]\n",
    "    numAccepts = 0\n",
    "    temp = starting_temp\n",
    "    likelihood_trace = []\n",
    "    best_likelihood_trace = []\n",
    "    temp_trace = []\n",
    "    best_start = z\n",
    "    best_conf = confMat\n",
    "    best_lik = -np.inf\n",
    "    for i in range(num_iterations):\n",
    "        swap_idx = np.random.choice(range(numData), size=1, replace=False)[0]\n",
    "        z_new = swap_class(z, swap_idx, numClasses)\n",
    "        confMatNew = gen_confusion_matrix(z_new, data)\n",
    "        new_lik = mc_likelihood(data, z_new, confMatNew)\n",
    "        old_lik = mc_likelihood(data, z, confMat)\n",
    "        u = np.random.uniform()\n",
    "        prob = min([1, np.exp((new_lik - old_lik)/temp)])\n",
    "        #print prob, u\n",
    "        #Always accepting if the likelihood increases\n",
    "        if new_lik > old_lik:\n",
    "            z = z_new\n",
    "            confMat = confMatNew\n",
    "            if new_lik > best_lik:\n",
    "                best_lik = new_lik\n",
    "                best_start = z_new\n",
    "                best_conf = confMat\n",
    "            likelihood_trace.append(new_lik)\n",
    "            numAccepts += 1\n",
    "        #Accepting based on the probability if the error does not reduce\n",
    "        elif prob >= u:\n",
    "            z = z_new\n",
    "            confMat = confMatNew\n",
    "            if new_lik > best_lik:\n",
    "                best_lik = new_lik\n",
    "                best_start = z\n",
    "                best_conf = confMat\n",
    "            likelihood_trace.append(new_lik)\n",
    "            numAccepts += 1\n",
    "        else:\n",
    "            likelihood_trace.append(old_lik)\n",
    "        #Reducing temperature every 10th iteration\n",
    "        if i%10 == 0:\n",
    "            temp = temp*0.99\n",
    "        if i%1000 == 0:\n",
    "            print \"#\",\n",
    "        #Reannealing if the temperature is too low\n",
    "        if temp < reanneal:\n",
    "            temp = 1\n",
    "        temp_trace.append(temp)\n",
    "        best_likelihood_trace.append(best_lik)\n",
    "    return likelihood_trace, best_likelihood_trace, temp_trace, best_start, best_lik, best_conf, numAccepts"
   ]
  },
  {
   "cell_type": "code",
   "execution_count": 172,
   "metadata": {
    "collapsed": false
   },
   "outputs": [
    {
     "name": "stdout",
     "output_type": "stream",
     "text": [
      "# # # # # # # # # #\n"
     ]
    }
   ],
   "source": [
    "likelihood_trace, best_likelihood_trace, temp_trace, best_start, best_lik, best_conf, numAccepts =\\\n",
    "simulated_annealing_mc(z, confMat, data, num_iterations=10000)"
   ]
  },
  {
   "cell_type": "markdown",
   "metadata": {},
   "source": [
    "#### Using Harder Datasets"
   ]
  },
  {
   "cell_type": "markdown",
   "metadata": {},
   "source": [
    "#### For extrahard_YN_40_5_4.npz.npy"
   ]
  },
  {
   "cell_type": "code",
   "execution_count": 135,
   "metadata": {
    "collapsed": false
   },
   "outputs": [
    {
     "data": {
      "text/plain": [
       "[<matplotlib.lines.Line2D at 0x115c88950>]"
      ]
     },
     "execution_count": 135,
     "metadata": {},
     "output_type": "execute_result"
    },
    {
     "data": {
      "image/png": "[encoded data removed]",
      "text/plain": [
       "<matplotlib.figure.Figure at 0x11580c6d0>"
      ]
     },
     "metadata": {},
     "output_type": "display_data"
    }
   ],
   "source": [
    "plt.plot(likelihood_trace)"
   ]
  },
  {
   "cell_type": "code",
   "execution_count": 136,
   "metadata": {
    "collapsed": false
   },
   "outputs": [
    {
     "name": "stdout",
     "output_type": "stream",
     "text": [
      "Accuracy : 97 %\n"
     ]
    }
   ],
   "source": [
    "print \"Accuracy :\", np.sum(np.argmax(best_start, axis=1) == trueCls)*100/numData, \"%\""
   ]
  },
  {
   "cell_type": "code",
   "execution_count": 137,
   "metadata": {
    "collapsed": false
   },
   "outputs": [
    {
     "data": {
      "text/plain": [
       "array([[ 0.80899144,  0.04781161,  0.09538535,  0.04781161],\n",
       "       [ 0.0639881 ,  0.63796769,  0.14902211,  0.14902211],\n",
       "       [ 0.04272959,  0.14902211,  0.65922619,  0.14902211],\n",
       "       [ 0.0962721 ,  0.05784012,  0.13470407,  0.7111837 ]])"
      ]
     },
     "execution_count": 137,
     "metadata": {},
     "output_type": "execute_result"
    }
   ],
   "source": [
    "best_conf"
   ]
  },
  {
   "cell_type": "markdown",
   "metadata": {},
   "source": [
    "#### For extrahard_YN_80_5_4.npz.npy"
   ]
  },
  {
   "cell_type": "code",
   "execution_count": 146,
   "metadata": {
    "collapsed": false
   },
   "outputs": [
    {
     "data": {
      "text/plain": [
       "[<matplotlib.lines.Line2D at 0x115dca910>]"
      ]
     },
     "execution_count": 146,
     "metadata": {},
     "output_type": "execute_result"
    },
    {
     "data": {
      "image/png": "[encoded data removed]",
      "text/plain": [
       "<matplotlib.figure.Figure at 0x114f371d0>"
      ]
     },
     "metadata": {},
     "output_type": "display_data"
    }
   ],
   "source": [
    "plt.plot(likelihood_trace)"
   ]
  },
  {
   "cell_type": "code",
   "execution_count": 147,
   "metadata": {
    "collapsed": false
   },
   "outputs": [
    {
     "name": "stdout",
     "output_type": "stream",
     "text": [
      "Accuracy : 92 %\n"
     ]
    }
   ],
   "source": [
    "print \"Accuracy :\", np.sum(np.argmax(best_start, axis=1) == trueCls)*100/numData, \"%\""
   ]
  },
  {
   "cell_type": "code",
   "execution_count": 148,
   "metadata": {
    "collapsed": false
   },
   "outputs": [
    {
     "data": {
      "text/plain": [
       "array([[ 0.67659532,  0.13136107,  0.11116721,  0.08087641],\n",
       "       [ 0.11256872,  0.76224388,  0.05009995,  0.07508746],\n",
       "       [ 0.12967419,  0.09265087,  0.70353573,  0.07413921],\n",
       "       [ 0.11822973,  0.13640494,  0.10914213,  0.63622319]])"
      ]
     },
     "execution_count": 148,
     "metadata": {},
     "output_type": "execute_result"
    }
   ],
   "source": [
    "best_conf"
   ]
  },
  {
   "cell_type": "markdown",
   "metadata": {},
   "source": [
    "#### For extrahard_YN_100_5_4.npz.npy"
   ]
  },
  {
   "cell_type": "code",
   "execution_count": 98,
   "metadata": {
    "collapsed": false
   },
   "outputs": [
    {
     "data": {
      "text/plain": [
       "[<matplotlib.lines.Line2D at 0x114f28210>]"
      ]
     },
     "execution_count": 98,
     "metadata": {},
     "output_type": "execute_result"
    },
    {
     "data": {
      "image/png": "[encoded data removed]",
      "text/plain": [
       "<matplotlib.figure.Figure at 0x1146fdd50>"
      ]
     },
     "metadata": {},
     "output_type": "display_data"
    }
   ],
   "source": [
    "plt.plot(likelihood_trace)"
   ]
  },
  {
   "cell_type": "code",
   "execution_count": 99,
   "metadata": {
    "collapsed": false
   },
   "outputs": [
    {
     "name": "stdout",
     "output_type": "stream",
     "text": [
      "Accuracy : 99 %\n"
     ]
    }
   ],
   "source": [
    "print \"Accuracy :\", np.sum(np.argmax(best_start, axis=1) == trueCls)*100/numData, \"%\""
   ]
  },
  {
   "cell_type": "code",
   "execution_count": 100,
   "metadata": {
    "collapsed": false
   },
   "outputs": [
    {
     "data": {
      "text/plain": [
       "array([[ 0.62400737,  0.12060408,  0.15605502,  0.09933352],\n",
       "       [ 0.10691392,  0.6868895 ,  0.12980769,  0.07638889],\n",
       "       [ 0.14507021,  0.05349512,  0.70215201,  0.09928266],\n",
       "       [ 0.05474852,  0.10941893,  0.10941893,  0.72641362]])"
      ]
     },
     "execution_count": 100,
     "metadata": {},
     "output_type": "execute_result"
    }
   ],
   "source": [
    "best_conf"
   ]
  },
  {
   "cell_type": "markdown",
   "metadata": {},
   "source": [
    "#### For extrahard_YN_200_5_4.npz.npy"
   ]
  },
  {
   "cell_type": "code",
   "execution_count": 109,
   "metadata": {
    "collapsed": false
   },
   "outputs": [
    {
     "data": {
      "text/plain": [
       "[<matplotlib.lines.Line2D at 0x1158f5210>]"
      ]
     },
     "execution_count": 109,
     "metadata": {},
     "output_type": "execute_result"
    },
    {
     "data": {
      "image/png": "[encoded data removed]",
      "text/plain": [
       "<matplotlib.figure.Figure at 0x114e7cf10>"
      ]
     },
     "metadata": {},
     "output_type": "display_data"
    }
   ],
   "source": [
    "plt.plot(likelihood_trace)"
   ]
  },
  {
   "cell_type": "code",
   "execution_count": 110,
   "metadata": {
    "collapsed": false
   },
   "outputs": [
    {
     "name": "stdout",
     "output_type": "stream",
     "text": [
      "Accuracy : 96 %\n"
     ]
    }
   ],
   "source": [
    "print \"Accuracy :\", np.sum(np.argmax(best_start, axis=1) == trueCls)*100/numData, \"%\""
   ]
  },
  {
   "cell_type": "code",
   "execution_count": 111,
   "metadata": {
    "collapsed": false
   },
   "outputs": [
    {
     "data": {
      "text/plain": [
       "array([[ 0.72341312,  0.13638085,  0.06442206,  0.07578397],\n",
       "       [ 0.11205609,  0.70531862,  0.09546133,  0.08716396],\n",
       "       [ 0.09377441,  0.10549133,  0.69524293,  0.10549133],\n",
       "       [ 0.0916587 ,  0.10360899,  0.09564213,  0.70909018]])"
      ]
     },
     "execution_count": 111,
     "metadata": {},
     "output_type": "execute_result"
    }
   ],
   "source": [
    "best_conf"
   ]
  },
  {
   "cell_type": "markdown",
   "metadata": {},
   "source": [
    "#### For extrahard_YN_500_5_4.npz.npy"
   ]
  },
  {
   "cell_type": "code",
   "execution_count": 120,
   "metadata": {
    "collapsed": false
   },
   "outputs": [
    {
     "data": {
      "text/plain": [
       "[<matplotlib.lines.Line2D at 0x115aab9d0>]"
      ]
     },
     "execution_count": 120,
     "metadata": {},
     "output_type": "execute_result"
    },
    {
     "data": {
      "image/png": "[encoded data removed]",
      "text/plain": [
       "<matplotlib.figure.Figure at 0x1140a62d0>"
      ]
     },
     "metadata": {},
     "output_type": "display_data"
    }
   ],
   "source": [
    "plt.plot(likelihood_trace)"
   ]
  },
  {
   "cell_type": "code",
   "execution_count": 121,
   "metadata": {
    "collapsed": false
   },
   "outputs": [
    {
     "name": "stdout",
     "output_type": "stream",
     "text": [
      "Accuracy : 96 %\n"
     ]
    }
   ],
   "source": [
    "print \"Accuracy :\", np.sum(np.argmax(best_start, axis=1) == trueCls)*100/numData, \"%\""
   ]
  },
  {
   "cell_type": "code",
   "execution_count": 122,
   "metadata": {
    "collapsed": false
   },
   "outputs": [
    {
     "data": {
      "text/plain": [
       "array([[ 0.67648883,  0.09749793,  0.10045197,  0.12556127],\n",
       "       [ 0.09236673,  0.70538501,  0.09873575,  0.10351252],\n",
       "       [ 0.10244862,  0.12033364,  0.69428005,  0.0829377 ],\n",
       "       [ 0.0946947 ,  0.08638961,  0.12127101,  0.69764467]])"
      ]
     },
     "execution_count": 122,
     "metadata": {},
     "output_type": "execute_result"
    }
   ],
   "source": [
    "best_conf"
   ]
  },
  {
   "cell_type": "markdown",
   "metadata": {},
   "source": [
    "#### Using Preset Datasets"
   ]
  },
  {
   "cell_type": "markdown",
   "metadata": {},
   "source": [
    "#### For same_preset_YN_500_5_4.npz.npy"
   ]
  },
  {
   "cell_type": "code",
   "execution_count": 74,
   "metadata": {
    "collapsed": false
   },
   "outputs": [
    {
     "data": {
      "text/plain": [
       "[<matplotlib.lines.Line2D at 0x114771290>]"
      ]
     },
     "execution_count": 74,
     "metadata": {},
     "output_type": "execute_result"
    },
    {
     "data": {
      "image/png": "[encoded data removed]",
      "text/plain": [
       "<matplotlib.figure.Figure at 0x11442ba50>"
      ]
     },
     "metadata": {},
     "output_type": "display_data"
    }
   ],
   "source": [
    "plt.plot(likelihood_trace)"
   ]
  },
  {
   "cell_type": "code",
   "execution_count": 75,
   "metadata": {
    "collapsed": false
   },
   "outputs": [
    {
     "name": "stdout",
     "output_type": "stream",
     "text": [
      "Accuracy : 99 %\n"
     ]
    }
   ],
   "source": [
    "print \"Accuracy :\", np.sum(np.argmax(best_start, axis=1) == trueCls)*100/numData, \"%\""
   ]
  },
  {
   "cell_type": "code",
   "execution_count": 76,
   "metadata": {
    "collapsed": false
   },
   "outputs": [
    {
     "data": {
      "text/plain": [
       "array([[ 0.85820597,  0.05548194,  0.0369931 ,  0.04931899],\n",
       "       [ 0.04362657,  0.87223537,  0.04051149,  0.04362657],\n",
       "       [ 0.03619828,  0.03455365,  0.88318203,  0.04606605],\n",
       "       [ 0.05137712,  0.04174692,  0.04495699,  0.86191898]])"
      ]
     },
     "execution_count": 76,
     "metadata": {},
     "output_type": "execute_result"
    }
   ],
   "source": [
    "best_conf"
   ]
  },
  {
   "cell_type": "markdown",
   "metadata": {},
   "source": [
    "#### For same_preset_YN_200_5_4.npz.npy"
   ]
  },
  {
   "cell_type": "code",
   "execution_count": 63,
   "metadata": {
    "collapsed": false
   },
   "outputs": [
    {
     "data": {
      "text/plain": [
       "[<matplotlib.lines.Line2D at 0x11455f9d0>]"
      ]
     },
     "execution_count": 63,
     "metadata": {},
     "output_type": "execute_result"
    },
    {
     "data": {
      "image/png": "[encoded data removed]",
      "text/plain": [
       "<matplotlib.figure.Figure at 0x1145ba690>"
      ]
     },
     "metadata": {},
     "output_type": "display_data"
    }
   ],
   "source": [
    "plt.plot(likelihood_trace)"
   ]
  },
  {
   "cell_type": "code",
   "execution_count": 64,
   "metadata": {
    "collapsed": false
   },
   "outputs": [
    {
     "name": "stdout",
     "output_type": "stream",
     "text": [
      "Accuracy : 100 %\n"
     ]
    }
   ],
   "source": [
    "print \"Accuracy :\", np.sum(np.argmax(best_start, axis=1) == trueCls)*100/numData, \"%\""
   ]
  },
  {
   "cell_type": "code",
   "execution_count": 65,
   "metadata": {
    "collapsed": false
   },
   "outputs": [
    {
     "data": {
      "text/plain": [
       "array([[ 0.87018909,  0.04187584,  0.03350904,  0.05442604],\n",
       "       [ 0.03589069,  0.8763942 ,  0.04385755,  0.04385755],\n",
       "       [ 0.02792384,  0.03987412,  0.88037763,  0.05182441],\n",
       "       [ 0.03546686,  0.03546686,  0.07089435,  0.85817194]])"
      ]
     },
     "execution_count": 65,
     "metadata": {},
     "output_type": "execute_result"
    }
   ],
   "source": [
    "best_conf"
   ]
  },
  {
   "cell_type": "markdown",
   "metadata": {},
   "source": [
    "#### For same_preset_YN_100_5_4.npz.npy"
   ]
  },
  {
   "cell_type": "code",
   "execution_count": 52,
   "metadata": {
    "collapsed": false
   },
   "outputs": [
    {
     "data": {
      "text/plain": [
       "[<matplotlib.lines.Line2D at 0x114409490>]"
      ]
     },
     "execution_count": 52,
     "metadata": {},
     "output_type": "execute_result"
    },
    {
     "data": {
      "image/png": "[encoded data removed]",
      "text/plain": [
       "<matplotlib.figure.Figure at 0x113fc8210>"
      ]
     },
     "metadata": {},
     "output_type": "display_data"
    }
   ],
   "source": [
    "plt.plot(likelihood_trace)"
   ]
  },
  {
   "cell_type": "code",
   "execution_count": 53,
   "metadata": {
    "collapsed": false
   },
   "outputs": [
    {
     "name": "stdout",
     "output_type": "stream",
     "text": [
      "Accuracy : 100 %\n"
     ]
    }
   ],
   "source": [
    "print \"Accuracy :\", np.sum(np.argmax(best_start, axis=1) == trueCls)*100/numData, \"%\""
   ]
  },
  {
   "cell_type": "code",
   "execution_count": 54,
   "metadata": {
    "collapsed": false
   },
   "outputs": [
    {
     "data": {
      "text/plain": [
       "array([[ 0.87076749,  0.02426637,  0.06457594,  0.0403902 ],\n",
       "       [ 0.06928637,  0.83059059,  0.05390649,  0.04621655],\n",
       "       [ 0.03131834,  0.0391284 ,  0.88261481,  0.04693846],\n",
       "       [ 0.03131834,  0.0391284 ,  0.02350828,  0.90604499]])"
      ]
     },
     "execution_count": 54,
     "metadata": {},
     "output_type": "execute_result"
    }
   ],
   "source": [
    "best_conf"
   ]
  },
  {
   "cell_type": "markdown",
   "metadata": {},
   "source": [
    "#### For same_preset_YN_40_5_4.npz.npy"
   ]
  },
  {
   "cell_type": "code",
   "execution_count": 173,
   "metadata": {
    "collapsed": false
   },
   "outputs": [
    {
     "data": {
      "text/plain": [
       "[<matplotlib.lines.Line2D at 0x116286e90>]"
      ]
     },
     "execution_count": 173,
     "metadata": {},
     "output_type": "execute_result"
    },
    {
     "data": {
      "image/png": "[encoded data removed]",
      "text/plain": [
       "<matplotlib.figure.Figure at 0x115dee8d0>"
      ]
     },
     "metadata": {},
     "output_type": "display_data"
    }
   ],
   "source": [
    "plt.plot(likelihood_trace)"
   ]
  },
  {
   "cell_type": "code",
   "execution_count": 174,
   "metadata": {
    "collapsed": false
   },
   "outputs": [
    {
     "name": "stdout",
     "output_type": "stream",
     "text": [
      "Accuracy : 100 %\n"
     ]
    }
   ],
   "source": [
    "print \"Accuracy :\", np.sum(np.argmax(best_start, axis=1) == trueCls)*100/numData, \"%\""
   ]
  },
  {
   "cell_type": "code",
   "execution_count": 175,
   "metadata": {
    "collapsed": false
   },
   "outputs": [
    {
     "data": {
      "text/plain": [
       "array([[  8.48604827e-01,   1.13310709e-01,   1.90422323e-02,\n",
       "          1.90422323e-02],\n",
       "       [  7.85658307e-02,   8.62264890e-01,   5.89733542e-02,\n",
       "          1.95924765e-04],\n",
       "       [  5.37116345e-02,   7.15560314e-02,   8.38865096e-01,\n",
       "          3.58672377e-02],\n",
       "       [  3.46312888e-02,   1.55237767e-01,   3.46312888e-02,\n",
       "          7.75499655e-01]])"
      ]
     },
     "execution_count": 175,
     "metadata": {},
     "output_type": "execute_result"
    }
   ],
   "source": [
    "best_conf"
   ]
  },
  {
   "cell_type": "markdown",
   "metadata": {},
   "source": [
    "#### For same_preset_YN_80_5_4.npz.npy"
   ]
  },
  {
   "cell_type": "code",
   "execution_count": 162,
   "metadata": {
    "collapsed": false
   },
   "outputs": [
    {
     "data": {
      "text/plain": [
       "[<matplotlib.lines.Line2D at 0x11613fc50>]"
      ]
     },
     "execution_count": 162,
     "metadata": {},
     "output_type": "execute_result"
    },
    {
     "data": {
      "image/png": "[encoded data removed]",
      "text/plain": [
       "<matplotlib.figure.Figure at 0x115a05590>"
      ]
     },
     "metadata": {},
     "output_type": "display_data"
    }
   ],
   "source": [
    "plt.plot(likelihood_trace)"
   ]
  },
  {
   "cell_type": "code",
   "execution_count": 163,
   "metadata": {
    "collapsed": false
   },
   "outputs": [
    {
     "name": "stdout",
     "output_type": "stream",
     "text": [
      "Accuracy : 100 %\n"
     ]
    }
   ],
   "source": [
    "print \"Accuracy :\", np.sum(np.argmax(best_start, axis=1) == trueCls)*100/numData, \"%\""
   ]
  },
  {
   "cell_type": "code",
   "execution_count": 164,
   "metadata": {
    "collapsed": false
   },
   "outputs": [
    {
     "data": {
      "text/plain": [
       "array([[ 0.84290474,  0.05889847,  0.02949824,  0.06869855],\n",
       "       [ 0.03039176,  0.87853393,  0.02029483,  0.07077948],\n",
       "       [ 0.04048869,  0.03039176,  0.84824313,  0.08087641],\n",
       "       [ 0.05889847,  0.04909839,  0.04909839,  0.84290474]])"
      ]
     },
     "execution_count": 164,
     "metadata": {},
     "output_type": "execute_result"
    }
   ],
   "source": [
    "best_conf"
   ]
  },
  {
   "cell_type": "code",
   "execution_count": null,
   "metadata": {
    "collapsed": true
   },
   "outputs": [],
   "source": []
  }
 ],
 "metadata": {
  "kernelspec": {
   "display_name": "Python 2",
   "language": "python",
   "name": "python2"
  },
  "language_info": {
   "codemirror_mode": {
    "name": "ipython",
    "version": 2
   },
   "file_extension": ".py",
   "mimetype": "text/x-python",
   "name": "python",
   "nbconvert_exporter": "python",
   "pygments_lexer": "ipython2",
   "version": "2.7.11"
  }
 },
 "nbformat": 4,
 "nbformat_minor": 0
}
