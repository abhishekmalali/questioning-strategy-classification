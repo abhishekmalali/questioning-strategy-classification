{
 "cells": [
  {
   "cell_type": "markdown",
   "metadata": {},
   "source": [
    "This notebook is for estimating the parameters using the YN question framework."
   ]
  },
  {
   "cell_type": "code",
   "execution_count": 1,
   "metadata": {
    "collapsed": true
   },
   "outputs": [],
   "source": [
    "import numpy as np\n",
    "import pymc as pm\n",
    "import matplotlib.pyplot as plt\n",
    "%matplotlib inline"
   ]
  },
  {
   "cell_type": "code",
   "execution_count": 2,
   "metadata": {
    "collapsed": false
   },
   "outputs": [
    {
     "data": {
      "text/plain": [
       "(100, 5, 4, 2)"
      ]
     },
     "execution_count": 2,
     "metadata": {},
     "output_type": "execute_result"
    }
   ],
   "source": [
    "#Reading in the data\n",
    "data = np.load('../data/preset_YN_100_5_4.npz.npy')\n",
    "trueCls = np.load('../data/preset_MC_100_5_4_reference_classes.npy')\n",
    "data.shape"
   ]
  },
  {
   "cell_type": "code",
   "execution_count": 3,
   "metadata": {
    "collapsed": true
   },
   "outputs": [],
   "source": [
    "#Inferring the number of classes and data length\n",
    "numData = data.shape[0]\n",
    "numExperts = data.shape[1]\n",
    "numClasses = data.shape[2]"
   ]
  },
  {
   "cell_type": "code",
   "execution_count": 4,
   "metadata": {
    "collapsed": true
   },
   "outputs": [],
   "source": [
    "alpha = [1, 1, 1, 1]\n",
    "rho = pm.Dirichlet('rho',theta=alpha, plot=False)\n",
    "rho_completedD = pm.CompletedDirichlet('rho_completed', rho, plot=False)\n",
    "z = pm.Container([pm.Multinomial('z_%i' %i,n=1,p=rho, plot=False) for i in range(numData)])\n",
    "lam = 10\n",
    "lambda_mat = lam*np.eye( numClasses) + np.ones((numClasses, numClasses))\n",
    "confMat = pm.Container([pm.Dirichlet(name='theta_row_'+str(i), theta=lambda_mat[i,:], plot=False)\\\n",
    "                      for i in range(numClasses)])\n",
    "confMatHat = pm.Container([pm.CompletedDirichlet('theta_row_hat'+str(i),\\\n",
    "                    confMat[i], plot=False) for i in range(numClasses)])"
   ]
  },
  {
   "cell_type": "code",
   "execution_count": 5,
   "metadata": {
    "collapsed": false
   },
   "outputs": [],
   "source": [
    "@pm.observed\n",
    "def mc_likelihood(value=data, z=z, confMatHat=confMatHat, rho=rho_completedD):\n",
    "    \"\"\"\n",
    "    value - data\n",
    "    z - observed classes\n",
    "    confMat - confidence matrix\n",
    "    \"\"\"\n",
    "    log_like = 0\n",
    "    numData = data.shape[0]\n",
    "    numExperts = data.shape[1]\n",
    "    numClasses = data.shape[2]\n",
    "    for data_idx in range(numData):\n",
    "        dat = data[data_idx]\n",
    "        observed_cls = z[data_idx]\n",
    "        class_num = np.where(observed_cls == 1)[0][0]\n",
    "        data_val = np.sum(dat, axis=0)\n",
    "        for cls_idx in range(numClasses):\n",
    "            log_like += observed_cls[cls_idx]*(data_val[cls_idx, 1]*np.log(confMatHat[class_num])[0][cls_idx]+\\\n",
    "                                              data_val[cls_idx, 0]*np.log(1-confMatHat[class_num])[0][cls_idx])\n",
    "    return log_like"
   ]
  },
  {
   "cell_type": "code",
   "execution_count": 5,
   "metadata": {
    "collapsed": true
   },
   "outputs": [],
   "source": [
    "@pm.observed\n",
    "def mc_likelihood2(value=data, z=z, confMatHat=confMatHat, rho=rho_completedD):\n",
    "    \"\"\"\n",
    "    value - data\n",
    "    z - observed classes\n",
    "    confMat - confidence matrix\n",
    "    \"\"\"\n",
    "    log_like = 0\n",
    "    numData = data.shape[0]\n",
    "    numExperts = data.shape[1]\n",
    "    numClasses = data.shape[2]\n",
    "    for data_idx in range(numData):\n",
    "        dat = data[data_idx]\n",
    "        observed_cls = z[data_idx]\n",
    "        class_num = np.where(observed_cls == 1)[0][0]\n",
    "        data_val = np.sum(dat, axis=0)\n",
    "        computed_val = np.sum(np.multiply(data_val[:,1], np.log(confMatHat[class_num]))) + \\\n",
    "                        np.sum(np.multiply(data_val[:,0], np.log(1-confMatHat[class_num])))\n",
    "        log_like += np.sum(np.multiply(observed_cls, computed_val))\n",
    "    \n",
    "    return log_like"
   ]
  },
  {
   "cell_type": "code",
   "execution_count": 6,
   "metadata": {
    "collapsed": true
   },
   "outputs": [],
   "source": [
    "mod = pm.Model([rho_completedD, z, confMatHat, mc_likelihood2])"
   ]
  },
  {
   "cell_type": "code",
   "execution_count": 7,
   "metadata": {
    "collapsed": false
   },
   "outputs": [
    {
     "name": "stdout",
     "output_type": "stream",
     "text": [
      " [-----------------100%-----------------] 10000 of 10000 complete in 862.1 sec"
     ]
    }
   ],
   "source": [
    "mcmc = pm.MCMC(mod)\n",
    "mcmc.sample(iter=10000, burn=1000, thin=5)\n",
    "pm.Matplot.plot(mcmc)"
   ]
  },
  {
   "cell_type": "markdown",
   "metadata": {},
   "source": [
    "#### For the data file preset_MC_200_5_4.npz.npy"
   ]
  },
  {
   "cell_type": "code",
   "execution_count": null,
   "metadata": {
    "collapsed": true
   },
   "outputs": [],
   "source": [
    "print \"Confusion Matrix\"\n",
    "for idx in range(numClasses):\n",
    "    print np.mean(confMatHat[idx].trace()[:], axis=0)"
   ]
  },
  {
   "cell_type": "code",
   "execution_count": null,
   "metadata": {
    "collapsed": true
   },
   "outputs": [],
   "source": [
    "final_z = []\n",
    "for i in range(numData):\n",
    "    final_z.append(np.argmax(np.mean(z[i].trace()[-1000:], axis=0)))"
   ]
  },
  {
   "cell_type": "code",
   "execution_count": null,
   "metadata": {
    "collapsed": true
   },
   "outputs": [],
   "source": [
    "np.sum(final_z == trueCls)"
   ]
  },
  {
   "cell_type": "code",
   "execution_count": null,
   "metadata": {
    "collapsed": true
   },
   "outputs": [],
   "source": [
    "np.mean(rho_completedD.trace(), axis=0)"
   ]
  },
  {
   "cell_type": "markdown",
   "metadata": {},
   "source": [
    "#### For the data file preset_MC_100_5_4.npz.npy"
   ]
  },
  {
   "cell_type": "code",
   "execution_count": 8,
   "metadata": {
    "collapsed": false
   },
   "outputs": [
    {
     "name": "stdout",
     "output_type": "stream",
     "text": [
      "Confusion Matrix\n",
      "[[ 0.79862261  0.0713451   0.06464208  0.0653902 ]]\n",
      "[[ 0.13356432  0.69175226  0.1012729   0.07341052]]\n",
      "[[ 0.14487684  0.07301555  0.72523597  0.05687164]]\n",
      "[[ 0.08823133  0.09162233  0.08660616  0.73354018]]\n"
     ]
    }
   ],
   "source": [
    "print \"Confusion Matrix\"\n",
    "for idx in range(numClasses):\n",
    "    print np.mean(confMatHat[idx].trace()[:], axis=0)"
   ]
  },
  {
   "cell_type": "code",
   "execution_count": 12,
   "metadata": {
    "collapsed": true
   },
   "outputs": [],
   "source": [
    "final_z = []\n",
    "for i in range(numData):\n",
    "    final_z.append(np.argmax(np.mean(z[i].trace()[:], axis=0)))"
   ]
  },
  {
   "cell_type": "code",
   "execution_count": 13,
   "metadata": {
    "collapsed": false
   },
   "outputs": [
    {
     "data": {
      "text/plain": [
       "97"
      ]
     },
     "execution_count": 13,
     "metadata": {},
     "output_type": "execute_result"
    }
   ],
   "source": [
    "np.sum(final_z == trueCls)"
   ]
  },
  {
   "cell_type": "code",
   "execution_count": 14,
   "metadata": {
    "collapsed": false
   },
   "outputs": [
    {
     "data": {
      "text/plain": [
       "array([[ 0.22791403,  0.24588491,  0.26319636,  0.2630047 ]])"
      ]
     },
     "execution_count": 14,
     "metadata": {},
     "output_type": "execute_result"
    }
   ],
   "source": [
    "np.mean(rho_completedD.trace(), axis=0)"
   ]
  },
  {
   "cell_type": "markdown",
   "metadata": {},
   "source": [
    "#### For the data file preset_MC_40_5_4.npz.npy"
   ]
  },
  {
   "cell_type": "code",
   "execution_count": 8,
   "metadata": {
    "collapsed": false
   },
   "outputs": [
    {
     "name": "stdout",
     "output_type": "stream",
     "text": [
      "Confusion Matrix\n",
      "[[ 0.84907127  0.02285125  0.06902741  0.05905007]]\n",
      "[[ 0.03317905  0.82001513  0.07106986  0.07573595]]\n",
      "[[ 0.04217676  0.08334965  0.76888768  0.1055859 ]]\n",
      "[[ 0.01488788  0.05694666  0.07228057  0.85588489]]\n"
     ]
    }
   ],
   "source": [
    "print \"Confusion Matrix\"\n",
    "for idx in range(numClasses):\n",
    "    print np.mean(confMatHat[idx].trace()[:], axis=0)"
   ]
  },
  {
   "cell_type": "code",
   "execution_count": 9,
   "metadata": {
    "collapsed": true
   },
   "outputs": [],
   "source": [
    "final_z = []\n",
    "for i in range(numData):\n",
    "    final_z.append(np.argmax(np.mean(z[i].trace()[-1000:], axis=0)))"
   ]
  },
  {
   "cell_type": "code",
   "execution_count": 12,
   "metadata": {
    "collapsed": false
   },
   "outputs": [
    {
     "data": {
      "text/plain": [
       "40"
      ]
     },
     "execution_count": 12,
     "metadata": {},
     "output_type": "execute_result"
    }
   ],
   "source": [
    "np.sum(final_z == trueCls)"
   ]
  },
  {
   "cell_type": "code",
   "execution_count": 10,
   "metadata": {
    "collapsed": false
   },
   "outputs": [
    {
     "data": {
      "text/plain": [
       "(array([0, 1, 1, 3, 1, 2, 0, 1, 2, 0, 2, 0, 1, 3, 0, 2, 3, 3, 1, 3, 2, 3, 3,\n",
       "        0, 2, 2, 2, 1, 0, 3, 0, 2, 1, 1, 1, 0, 0, 2, 3, 3]),\n",
       " array([0, 1, 1, 3, 1, 2, 0, 1, 2, 0, 2, 0, 1, 3, 0, 2, 3, 3, 1, 3, 2, 3, 3,\n",
       "        0, 2, 2, 2, 1, 0, 3, 0, 2, 1, 1, 1, 0, 0, 2, 3, 3]))"
      ]
     },
     "execution_count": 10,
     "metadata": {},
     "output_type": "execute_result"
    }
   ],
   "source": [
    "np.array(final_z), trueCls"
   ]
  },
  {
   "cell_type": "code",
   "execution_count": 11,
   "metadata": {
    "collapsed": false
   },
   "outputs": [
    {
     "data": {
      "text/plain": [
       "array([[ 0.24865265,  0.25481833,  0.24264308,  0.25388593]])"
      ]
     },
     "execution_count": 11,
     "metadata": {},
     "output_type": "execute_result"
    }
   ],
   "source": [
    "np.mean(rho_completedD.trace(), axis=0)"
   ]
  },
  {
   "cell_type": "code",
   "execution_count": null,
   "metadata": {
    "collapsed": true
   },
   "outputs": [],
   "source": []
  }
 ],
 "metadata": {
  "kernelspec": {
   "display_name": "Python 2",
   "language": "python",
   "name": "python2"
  },
  "language_info": {
   "codemirror_mode": {
    "name": "ipython",
    "version": 2
   },
   "file_extension": ".py",
   "mimetype": "text/x-python",
   "name": "python",
   "nbconvert_exporter": "python",
   "pygments_lexer": "ipython2",
   "version": "2.7.11"
  }
 },
 "nbformat": 4,
 "nbformat_minor": 0
}
