{
 "cells": [
  {
   "cell_type": "code",
   "execution_count": 383,
   "metadata": {
    "collapsed": true
   },
   "outputs": [],
   "source": [
    "import numpy as np\n",
    "import pymc as pm\n",
    "import matplotlib.pyplot as plt\n",
    "%matplotlib inline"
   ]
  },
  {
   "cell_type": "code",
   "execution_count": 560,
   "metadata": {
    "collapsed": false
   },
   "outputs": [
    {
     "data": {
      "text/plain": [
       "(500, 5, 4)"
      ]
     },
     "execution_count": 560,
     "metadata": {},
     "output_type": "execute_result"
    }
   ],
   "source": [
    "#Reading in the data\n",
    "data = np.load('../data/same_preset_MC_500_5_4.npz.npy')\n",
    "trueCls = np.load('../data/same_preset_MC_500_5_4_reference_classes.npy')\n",
    "data.shape"
   ]
  },
  {
   "cell_type": "code",
   "execution_count": 561,
   "metadata": {
    "collapsed": true
   },
   "outputs": [],
   "source": [
    "#Inferring the number of classes and data length\n",
    "numData = data.shape[0]\n",
    "numExperts = data.shape[1]\n",
    "numClasses = data.shape[2]"
   ]
  },
  {
   "cell_type": "code",
   "execution_count": 562,
   "metadata": {
    "collapsed": true
   },
   "outputs": [],
   "source": [
    "def swap_class(z, row_idx, numClasses):\n",
    "    \"\"\"\n",
    "    INPUT-\n",
    "    z - class assignments for every data point(one-hot encoded)\n",
    "    row_idx - row index for which the class is to be changed\n",
    "    numClasses - number of classes.\n",
    "    OUTPUT-\n",
    "    new_z - class assignments for every data point after the swap\n",
    "    \"\"\"\n",
    "    new_z = np.copy(z)\n",
    "    classes = list(range(numClasses))\n",
    "    old_class = np.where(z[row_idx,:] == 1)[0][0]\n",
    "    #Removing the old class\n",
    "    del classes[old_class]\n",
    "    new_class = np.random.choice(classes)\n",
    "    new_row = np.zeros(numClasses)\n",
    "    new_row[new_class] = 1.\n",
    "    new_z[row_idx] = new_row\n",
    "    return new_z"
   ]
  },
  {
   "cell_type": "markdown",
   "metadata": {},
   "source": [
    "Generate confusion matrix using the data and the class assignments"
   ]
  },
  {
   "cell_type": "code",
   "execution_count": 563,
   "metadata": {
    "collapsed": true
   },
   "outputs": [],
   "source": [
    "def gen_confusion_matrix(z, data):\n",
    "    \"\"\"\n",
    "    INPUT\n",
    "    z - class assignments for every data point(one-hot encoded)\n",
    "    data - data used to infer the class distribution and assignments\n",
    "    OUTPUT\n",
    "    confMat - confusion matrix\n",
    "    \"\"\"\n",
    "    numClasses = data.shape[2]\n",
    "    numData = data.shape[0]\n",
    "    confMat = 0.01*np.ones((numClasses, numClasses))\n",
    "    for data_idx in range(numData):\n",
    "        dat = data[data_idx]\n",
    "        data_val = np.sum(dat, axis=0)\n",
    "        observed_cls = z[data_idx,:]\n",
    "        class_num = np.where(observed_cls == 1)[0][0]\n",
    "        confMat[class_num,:] += data_val\n",
    "    confMat = confMat/np.sum(confMat, axis=1)[:, np.newaxis]\n",
    "    return confMat"
   ]
  },
  {
   "cell_type": "markdown",
   "metadata": {},
   "source": [
    "Likelihood function for the Multiclass data case."
   ]
  },
  {
   "cell_type": "code",
   "execution_count": 564,
   "metadata": {
    "collapsed": true
   },
   "outputs": [],
   "source": [
    "def mc_likelihood(value=data, z=z, confMat=confMat):\n",
    "    \"\"\"\n",
    "    value - data\n",
    "    z - observed classes\n",
    "    confMat - confidence matrix\n",
    "    \"\"\"\n",
    "    log_like = 0\n",
    "    numData = data.shape[0]\n",
    "    numExperts = data.shape[1]\n",
    "    numClasses = data.shape[2]\n",
    "    for data_idx in range(numData):\n",
    "        dat = data[data_idx]\n",
    "        observed_cls = z[data_idx]\n",
    "        class_num = np.where(observed_cls == 1)[0][0]\n",
    "        log_like += np.sum(np.multiply(observed_cls,np.sum(np.multiply(np.sum(dat, axis=0),\\\n",
    "                            np.log(confMat[class_num])))))\n",
    "    return log_like"
   ]
  },
  {
   "cell_type": "code",
   "execution_count": 565,
   "metadata": {
    "collapsed": true
   },
   "outputs": [],
   "source": [
    "\"\"\"\n",
    "#Randomly generating the z's\n",
    "data_num = np.random.choice(range(numClasses), size=numData)\n",
    "z = np.eye(numClasses)[data_num]\n",
    "\"\"\"\n",
    "inferred_labels = np.argmax(data.sum(axis=1), axis=1)\n",
    "z = np.eye(numClasses)[inferred_labels]\n",
    "confMat = gen_confusion_matrix(z, data)"
   ]
  },
  {
   "cell_type": "markdown",
   "metadata": {},
   "source": [
    "Simulated annealing code where we try to maximize the likelihood."
   ]
  },
  {
   "cell_type": "code",
   "execution_count": 566,
   "metadata": {
    "collapsed": true
   },
   "outputs": [],
   "source": [
    "def simulated_annealing_mc(z, confMat, data, starting_temp=1, reanneal=0.001, num_iterations=100):\n",
    "    #Inferring the number of classes and data length\n",
    "    numData = data.shape[0]\n",
    "    numExperts = data.shape[1]\n",
    "    numClasses = data.shape[2]\n",
    "    numAccepts = 0\n",
    "    temp = starting_temp\n",
    "    likelihood_trace = []\n",
    "    best_likelihood_trace = []\n",
    "    temp_trace = []\n",
    "    best_start = z\n",
    "    best_conf = confMat\n",
    "    best_lik = -np.inf\n",
    "    for i in range(num_iterations):\n",
    "        swap_idx = np.random.choice(range(numData), size=1, replace=False)[0]\n",
    "        z_new = swap_class(z, swap_idx, numClasses)\n",
    "        confMatNew = gen_confusion_matrix(z_new, data)\n",
    "        new_lik = mc_likelihood(data, z_new, confMatNew)\n",
    "        old_lik = mc_likelihood(data, z, confMat)\n",
    "        u = np.random.uniform()\n",
    "        prob = min([1, np.exp((new_lik - old_lik)/temp)])\n",
    "        #print prob, u\n",
    "        #Always accepting if the likelihood increases\n",
    "        if new_lik > old_lik:\n",
    "            z = z_new\n",
    "            confMat = confMatNew\n",
    "            if new_lik > best_lik:\n",
    "                best_lik = new_lik\n",
    "                best_start = z_new\n",
    "                best_conf = confMat\n",
    "            likelihood_trace.append(new_lik)\n",
    "            numAccepts += 1\n",
    "        #Accepting based on the probability if the error does not reduce\n",
    "        elif prob >= u:\n",
    "            z = z_new\n",
    "            confMat = confMatNew\n",
    "            if new_lik > best_lik:\n",
    "                best_lik = new_lik\n",
    "                best_start = z\n",
    "                best_conf = confMat\n",
    "            likelihood_trace.append(new_lik)\n",
    "            numAccepts += 1\n",
    "        else:\n",
    "            likelihood_trace.append(old_lik)\n",
    "        #Reducing temperature every 10th iteration\n",
    "        if i%10 == 0:\n",
    "            temp = temp*0.99\n",
    "        if i%1000 == 0:\n",
    "            print \"#\",\n",
    "        #Reannealing if the temperature is too low\n",
    "        if temp < reanneal:\n",
    "            temp = 1\n",
    "        temp_trace.append(temp)\n",
    "        best_likelihood_trace.append(best_lik)\n",
    "    return likelihood_trace, best_likelihood_trace, temp_trace, best_start, best_lik, best_conf, numAccepts"
   ]
  },
  {
   "cell_type": "code",
   "execution_count": 567,
   "metadata": {
    "collapsed": false
   },
   "outputs": [
    {
     "name": "stdout",
     "output_type": "stream",
     "text": [
      "# # # # # # # # # #\n"
     ]
    }
   ],
   "source": [
    "likelihood_trace, best_likelihood_trace, temp_trace, best_start, best_lik, best_conf, numAccepts =\\\n",
    "simulated_annealing_mc(z, confMat, data, num_iterations=10000)"
   ]
  },
  {
   "cell_type": "markdown",
   "metadata": {},
   "source": [
    "#### All Results for Simulated annealing for Multiclass data"
   ]
  },
  {
   "cell_type": "markdown",
   "metadata": {},
   "source": [
    "#### Using Harder Datasets"
   ]
  },
  {
   "cell_type": "markdown",
   "metadata": {},
   "source": [
    "#### For extrahard_MC_40_5_4.npz.npy"
   ]
  },
  {
   "cell_type": "code",
   "execution_count": 502,
   "metadata": {
    "collapsed": false
   },
   "outputs": [
    {
     "data": {
      "text/plain": [
       "[<matplotlib.lines.Line2D at 0x122736dd0>]"
      ]
     },
     "execution_count": 502,
     "metadata": {},
     "output_type": "execute_result"
    },
    {
     "data": {
      "image/png": "[encoded data removed]",
      "text/plain": [
       "<matplotlib.figure.Figure at 0x122480b90>"
      ]
     },
     "metadata": {},
     "output_type": "display_data"
    }
   ],
   "source": [
    "plt.plot(likelihood_trace)"
   ]
  },
  {
   "cell_type": "code",
   "execution_count": 503,
   "metadata": {
    "collapsed": false
   },
   "outputs": [
    {
     "name": "stdout",
     "output_type": "stream",
     "text": [
      "Accuracy : 87 %\n"
     ]
    }
   ],
   "source": [
    "print \"Accuracy :\", np.sum(np.argmax(best_start, axis=1) == trueCls)*100/numData, \"%\""
   ]
  },
  {
   "cell_type": "code",
   "execution_count": 504,
   "metadata": {
    "collapsed": false
   },
   "outputs": [
    {
     "data": {
      "text/plain": [
       "array([[ 0.7107016 ,  0.02242451,  0.06682948,  0.2000444 ],\n",
       "       [ 0.18186773,  0.61791424,  0.12736192,  0.0728561 ],\n",
       "       [ 0.044627  ,  0.044627  ,  0.75510657,  0.15563943],\n",
       "       [ 0.09102471,  0.10919331,  0.21820494,  0.58157703]])"
      ]
     },
     "execution_count": 504,
     "metadata": {},
     "output_type": "execute_result"
    }
   ],
   "source": [
    "best_conf"
   ]
  },
  {
   "cell_type": "markdown",
   "metadata": {},
   "source": [
    "#### For extrahard_MC_80_5_4.npz.npy"
   ]
  },
  {
   "cell_type": "code",
   "execution_count": 513,
   "metadata": {
    "collapsed": false
   },
   "outputs": [
    {
     "data": {
      "text/plain": [
       "[<matplotlib.lines.Line2D at 0x12283af90>]"
      ]
     },
     "execution_count": 513,
     "metadata": {},
     "output_type": "execute_result"
    },
    {
     "data": {
      "image/png": "[encoded data removed]",
      "text/plain": [
       "<matplotlib.figure.Figure at 0x12227e590>"
      ]
     },
     "metadata": {},
     "output_type": "display_data"
    }
   ],
   "source": [
    "plt.plot(likelihood_trace)"
   ]
  },
  {
   "cell_type": "code",
   "execution_count": 514,
   "metadata": {
    "collapsed": false
   },
   "outputs": [
    {
     "name": "stdout",
     "output_type": "stream",
     "text": [
      "Accuracy : 85 %\n"
     ]
    }
   ],
   "source": [
    "print \"Accuracy :\", np.sum(np.argmax(best_start, axis=1) == trueCls)*100/numData, \"%\""
   ]
  },
  {
   "cell_type": "code",
   "execution_count": 515,
   "metadata": {
    "collapsed": false
   },
   "outputs": [
    {
     "data": {
      "text/plain": [
       "array([[ 0.77113078,  0.07153055,  0.07153055,  0.08580811],\n",
       "       [ 0.14289794,  0.69506855,  0.13337776,  0.02865575],\n",
       "       [ 0.10004998,  0.06672776,  0.74150283,  0.09171943],\n",
       "       [ 0.09529703,  0.16193831,  0.03817593,  0.70458873]])"
      ]
     },
     "execution_count": 515,
     "metadata": {},
     "output_type": "execute_result"
    }
   ],
   "source": [
    "best_conf"
   ]
  },
  {
   "cell_type": "markdown",
   "metadata": {},
   "source": [
    "#### For extrahard_MC_100_5_4.npz.npy"
   ]
  },
  {
   "cell_type": "code",
   "execution_count": 469,
   "metadata": {
    "collapsed": false,
    "scrolled": true
   },
   "outputs": [
    {
     "data": {
      "text/plain": [
       "[<matplotlib.lines.Line2D at 0x122018990>]"
      ]
     },
     "execution_count": 469,
     "metadata": {},
     "output_type": "execute_result"
    },
    {
     "data": {
      "image/png": "[encoded data removed]",
      "text/plain": [
       "<matplotlib.figure.Figure at 0x1210e2ad0>"
      ]
     },
     "metadata": {},
     "output_type": "display_data"
    }
   ],
   "source": [
    "plt.plot(likelihood_trace)"
   ]
  },
  {
   "cell_type": "code",
   "execution_count": 470,
   "metadata": {
    "collapsed": false
   },
   "outputs": [
    {
     "name": "stdout",
     "output_type": "stream",
     "text": [
      "Accuracy : 95 %\n"
     ]
    }
   ],
   "source": [
    "print \"Accuracy :\", np.sum(np.argmax(best_start, axis=1) == trueCls)*100/numData, \"%\""
   ]
  },
  {
   "cell_type": "code",
   "execution_count": 471,
   "metadata": {
    "collapsed": false
   },
   "outputs": [
    {
     "data": {
      "text/plain": [
       "array([[ 0.77482506,  0.10004998,  0.10838054,  0.01674442],\n",
       "       [ 0.06672097,  0.71837974,  0.08893661,  0.12596268],\n",
       "       [ 0.00807742,  0.10404671,  0.74384197,  0.14403391],\n",
       "       [ 0.1916861 ,  0.07505831,  0.0583972 ,  0.67485838]])"
      ]
     },
     "execution_count": 471,
     "metadata": {},
     "output_type": "execute_result"
    }
   ],
   "source": [
    "best_conf"
   ]
  },
  {
   "cell_type": "markdown",
   "metadata": {},
   "source": [
    "#### For extrahard_MC_200_5_4.npz.npy"
   ]
  },
  {
   "cell_type": "code",
   "execution_count": 480,
   "metadata": {
    "collapsed": false
   },
   "outputs": [
    {
     "data": {
      "text/plain": [
       "[<matplotlib.lines.Line2D at 0x12219e990>]"
      ]
     },
     "execution_count": 480,
     "metadata": {},
     "output_type": "execute_result"
    },
    {
     "data": {
      "image/png": "[encoded data removed]",
      "text/plain": [
       "<matplotlib.figure.Figure at 0x1210a9290>"
      ]
     },
     "metadata": {},
     "output_type": "display_data"
    }
   ],
   "source": [
    "plt.plot(likelihood_trace)"
   ]
  },
  {
   "cell_type": "code",
   "execution_count": 481,
   "metadata": {
    "collapsed": false
   },
   "outputs": [
    {
     "name": "stdout",
     "output_type": "stream",
     "text": [
      "Accuracy : 88 %\n"
     ]
    }
   ],
   "source": [
    "print \"Accuracy :\", np.sum(np.argmax(best_start, axis=1) == trueCls)*100/numData, \"%\""
   ]
  },
  {
   "cell_type": "code",
   "execution_count": 482,
   "metadata": {
    "collapsed": false
   },
   "outputs": [
    {
     "data": {
      "text/plain": [
       "array([[ 0.69993334,  0.08150644,  0.09631906,  0.12224115],\n",
       "       [ 0.11925088,  0.68839409,  0.08464082,  0.1077142 ],\n",
       "       [ 0.10002069,  0.11036409,  0.70683354,  0.08278169],\n",
       "       [ 0.094479  ,  0.07226172,  0.07781604,  0.75544323]])"
      ]
     },
     "execution_count": 482,
     "metadata": {},
     "output_type": "execute_result"
    }
   ],
   "source": [
    "best_conf"
   ]
  },
  {
   "cell_type": "markdown",
   "metadata": {},
   "source": [
    "#### For extrahard_MC_500_5_4.npz.npy"
   ]
  },
  {
   "cell_type": "code",
   "execution_count": 491,
   "metadata": {
    "collapsed": false
   },
   "outputs": [
    {
     "data": {
      "text/plain": [
       "[<matplotlib.lines.Line2D at 0x122480950>]"
      ]
     },
     "execution_count": 491,
     "metadata": {},
     "output_type": "execute_result"
    },
    {
     "data": {
      "image/png": "[encoded data removed]",
      "text/plain": [
       "<matplotlib.figure.Figure at 0x1221c1710>"
      ]
     },
     "metadata": {},
     "output_type": "display_data"
    }
   ],
   "source": [
    "plt.plot(likelihood_trace)"
   ]
  },
  {
   "cell_type": "code",
   "execution_count": 492,
   "metadata": {
    "collapsed": false
   },
   "outputs": [
    {
     "name": "stdout",
     "output_type": "stream",
     "text": [
      "Accuracy : 93 %\n"
     ]
    }
   ],
   "source": [
    "print \"Accuracy :\", np.sum(np.argmax(best_start, axis=1) == trueCls)*100/numData, \"%\""
   ]
  },
  {
   "cell_type": "code",
   "execution_count": 493,
   "metadata": {
    "collapsed": false
   },
   "outputs": [
    {
     "data": {
      "text/plain": [
       "array([[ 0.71732447,  0.10910022,  0.09587796,  0.07769734],\n",
       "       [ 0.09048632,  0.67933782,  0.12857914,  0.10159672],\n",
       "       [ 0.10407453,  0.08131178,  0.70566142,  0.10895226],\n",
       "       [ 0.11385453,  0.1061627 ,  0.08001046,  0.69997231]])"
      ]
     },
     "execution_count": 493,
     "metadata": {},
     "output_type": "execute_result"
    }
   ],
   "source": [
    "best_conf"
   ]
  },
  {
   "cell_type": "markdown",
   "metadata": {},
   "source": [
    "#### Using Preset Datasets"
   ]
  },
  {
   "cell_type": "markdown",
   "metadata": {},
   "source": [
    "#### For same_preset_MC_40_5_4.npz.npy"
   ]
  },
  {
   "cell_type": "code",
   "execution_count": 524,
   "metadata": {
    "collapsed": false
   },
   "outputs": [
    {
     "data": {
      "text/plain": [
       "[<matplotlib.lines.Line2D at 0x122a68610>]"
      ]
     },
     "execution_count": 524,
     "metadata": {},
     "output_type": "execute_result"
    },
    {
     "data": {
      "image/png": "[encoded data removed]",
      "text/plain": [
       "<matplotlib.figure.Figure at 0x12210a150>"
      ]
     },
     "metadata": {},
     "output_type": "display_data"
    }
   ],
   "source": [
    "plt.plot(likelihood_trace)"
   ]
  },
  {
   "cell_type": "code",
   "execution_count": 525,
   "metadata": {
    "collapsed": false
   },
   "outputs": [
    {
     "name": "stdout",
     "output_type": "stream",
     "text": [
      "Accuracy : 97 %\n"
     ]
    }
   ],
   "source": [
    "print \"Accuracy :\", np.sum(np.argmax(best_start, axis=1) == trueCls)*100/numData, \"%\""
   ]
  },
  {
   "cell_type": "code",
   "execution_count": 526,
   "metadata": {
    "collapsed": false
   },
   "outputs": [
    {
     "data": {
      "text/plain": [
       "array([[  9.59432454e-01,   2.01838529e-02,   1.99840128e-04,\n",
       "          2.01838529e-02],\n",
       "       [  4.01678657e-02,   9.19464428e-01,   2.01838529e-02,\n",
       "          2.01838529e-02],\n",
       "       [  8.90319716e-02,   2.22024867e-04,   8.66119005e-01,\n",
       "          4.46269982e-02],\n",
       "       [  7.28561047e-02,   1.27361919e-01,   1.09193314e-01,\n",
       "          6.90588663e-01]])"
      ]
     },
     "execution_count": 526,
     "metadata": {},
     "output_type": "execute_result"
    }
   ],
   "source": [
    "best_conf"
   ]
  },
  {
   "cell_type": "markdown",
   "metadata": {},
   "source": [
    "#### For same_preset_MC_80_5_4.npz.npy"
   ]
  },
  {
   "cell_type": "code",
   "execution_count": 536,
   "metadata": {
    "collapsed": false
   },
   "outputs": [
    {
     "name": "stdout",
     "output_type": "stream",
     "text": [
      "Accuracy : 97 %\n"
     ]
    }
   ],
   "source": [
    "print \"Accuracy :\", np.sum(np.argmax(best_start, axis=1) == trueCls)*100/numData, \"%\""
   ]
  },
  {
   "cell_type": "code",
   "execution_count": 537,
   "metadata": {
    "collapsed": false
   },
   "outputs": [
    {
     "data": {
      "text/plain": [
       "array([[  7.89784086e-01,   1.10055978e-01,   7.00719712e-02,\n",
       "          3.00879648e-02],\n",
       "       [  1.05218855e-04,   8.94465488e-01,   4.21927609e-02,\n",
       "          6.32365320e-02],\n",
       "       [  8.57768469e-02,   8.57768469e-02,   7.80750190e-01,\n",
       "          4.76961158e-02],\n",
       "       [  6.00759696e-02,   1.00959616e-02,   6.00759696e-02,\n",
       "          8.69752099e-01]])"
      ]
     },
     "execution_count": 537,
     "metadata": {},
     "output_type": "execute_result"
    }
   ],
   "source": [
    "best_conf"
   ]
  },
  {
   "cell_type": "markdown",
   "metadata": {},
   "source": [
    "#### For same_preset_MC_100_5_4.npz.npy"
   ]
  },
  {
   "cell_type": "code",
   "execution_count": 548,
   "metadata": {
    "collapsed": false
   },
   "outputs": [
    {
     "name": "stdout",
     "output_type": "stream",
     "text": [
      "Accuracy : 100 %\n"
     ]
    }
   ],
   "source": [
    "print \"Accuracy :\", np.sum(np.argmax(best_start, axis=1) == trueCls)*100/numData, \"%\""
   ]
  },
  {
   "cell_type": "code",
   "execution_count": 549,
   "metadata": {
    "collapsed": false
   },
   "outputs": [
    {
     "data": {
      "text/plain": [
       "array([[ 0.83981126,  0.04806462,  0.03206974,  0.08005438],\n",
       "       [ 0.0240723 ,  0.88779591,  0.04006718,  0.04806462],\n",
       "       [ 0.04806462,  0.04006718,  0.90379079,  0.00807742],\n",
       "       [ 0.03206974,  0.01607486,  0.04806462,  0.90379079]])"
      ]
     },
     "execution_count": 549,
     "metadata": {},
     "output_type": "execute_result"
    }
   ],
   "source": [
    "best_conf"
   ]
  },
  {
   "cell_type": "markdown",
   "metadata": {},
   "source": [
    "#### For same_preset_MC_200_5_4.npz.npy"
   ]
  },
  {
   "cell_type": "code",
   "execution_count": 558,
   "metadata": {
    "collapsed": false
   },
   "outputs": [
    {
     "name": "stdout",
     "output_type": "stream",
     "text": [
      "Accuracy : 100 %\n"
     ]
    }
   ],
   "source": [
    "print \"Accuracy :\", np.sum(np.argmax(best_start, axis=1) == trueCls)*100/numData, \"%\""
   ]
  },
  {
   "cell_type": "code",
   "execution_count": 559,
   "metadata": {
    "collapsed": false
   },
   "outputs": [
    {
     "data": {
      "text/plain": [
       "array([[ 0.86790114,  0.04403295,  0.04003359,  0.04803231],\n",
       "       [ 0.04403295,  0.88389858,  0.03203487,  0.04003359],\n",
       "       [ 0.02403615,  0.02803551,  0.90389538,  0.04403295],\n",
       "       [ 0.04803231,  0.02403615,  0.03603423,  0.8918973 ]])"
      ]
     },
     "execution_count": 559,
     "metadata": {},
     "output_type": "execute_result"
    }
   ],
   "source": [
    "best_conf"
   ]
  },
  {
   "cell_type": "markdown",
   "metadata": {},
   "source": [
    "#### For same_preset_MC_500_5_4.npz.npy"
   ]
  },
  {
   "cell_type": "code",
   "execution_count": 568,
   "metadata": {
    "collapsed": false
   },
   "outputs": [
    {
     "name": "stdout",
     "output_type": "stream",
     "text": [
      "Accuracy : 99 %\n"
     ]
    }
   ],
   "source": [
    "print \"Accuracy :\", np.sum(np.argmax(best_start, axis=1) == trueCls)*100/numData, \"%\""
   ]
  },
  {
   "cell_type": "code",
   "execution_count": 569,
   "metadata": {
    "collapsed": false
   },
   "outputs": [
    {
     "data": {
      "text/plain": [
       "array([[ 0.85392991,  0.03652149,  0.07143991,  0.03810869],\n",
       "       [ 0.03841354,  0.88955907,  0.03841354,  0.03361385],\n",
       "       [ 0.03361385,  0.03201395,  0.90075835,  0.03361385],\n",
       "       [ 0.0548513 ,  0.04033611,  0.03549771,  0.86931488]])"
      ]
     },
     "execution_count": 569,
     "metadata": {},
     "output_type": "execute_result"
    }
   ],
   "source": [
    "best_conf"
   ]
  },
  {
   "cell_type": "markdown",
   "metadata": {},
   "source": [
    "Use only if needed below this!"
   ]
  },
  {
   "cell_type": "markdown",
   "metadata": {},
   "source": [
    "#### For preset_MC_100_5_4.npz.npy"
   ]
  },
  {
   "cell_type": "code",
   "execution_count": 444,
   "metadata": {
    "collapsed": false
   },
   "outputs": [
    {
     "data": {
      "text/plain": [
       "[<matplotlib.lines.Line2D at 0x120aaf850>]"
      ]
     },
     "execution_count": 444,
     "metadata": {},
     "output_type": "execute_result"
    },
    {
     "data": {
      "image/png": "[encoded data removed]",
      "text/plain": [
       "<matplotlib.figure.Figure at 0x1205d5250>"
      ]
     },
     "metadata": {},
     "output_type": "display_data"
    }
   ],
   "source": [
    "plt.plot(likelihood_trace)"
   ]
  },
  {
   "cell_type": "code",
   "execution_count": 445,
   "metadata": {
    "collapsed": false
   },
   "outputs": [
    {
     "data": {
      "text/plain": [
       "[<matplotlib.lines.Line2D at 0x120dbcb90>]"
      ]
     },
     "execution_count": 445,
     "metadata": {},
     "output_type": "execute_result"
    },
    {
     "data": {
      "image/png": "[encoded data removed]",
      "text/plain": [
       "<matplotlib.figure.Figure at 0x12071d990>"
      ]
     },
     "metadata": {},
     "output_type": "display_data"
    }
   ],
   "source": [
    "plt.plot(temp_trace)"
   ]
  },
  {
   "cell_type": "code",
   "execution_count": 446,
   "metadata": {
    "collapsed": false
   },
   "outputs": [
    {
     "name": "stdout",
     "output_type": "stream",
     "text": [
      "Accuracy : 91 %\n"
     ]
    }
   ],
   "source": [
    "print \"Accuracy :\", np.sum(np.argmax(best_start, axis=1) == trueCls)*100/numData, \"%\""
   ]
  },
  {
   "cell_type": "code",
   "execution_count": 447,
   "metadata": {
    "collapsed": false
   },
   "outputs": [
    {
     "data": {
      "text/plain": [
       "array([[ 0.62211197,  0.1407731 ,  0.1407731 ,  0.09634182],\n",
       "       [ 0.05606206,  0.74384197,  0.10404671,  0.09604926],\n",
       "       [ 0.06159643,  0.13849585,  0.63834205,  0.16156567],\n",
       "       [ 0.09096692,  0.09096692,  0.0455289 ,  0.77253726]])"
      ]
     },
     "execution_count": 447,
     "metadata": {},
     "output_type": "execute_result"
    }
   ],
   "source": [
    "best_conf"
   ]
  },
  {
   "cell_type": "markdown",
   "metadata": {},
   "source": [
    "#### For same_preset_MC_500_5_4.npz.npy"
   ]
  },
  {
   "cell_type": "code",
   "execution_count": 456,
   "metadata": {
    "collapsed": false
   },
   "outputs": [
    {
     "data": {
      "text/plain": [
       "[<matplotlib.lines.Line2D at 0x12150ca50>]"
      ]
     },
     "execution_count": 456,
     "metadata": {},
     "output_type": "execute_result"
    },
    {
     "data": {
      "image/png": "[encoded data removed]",
      "text/plain": [
       "<matplotlib.figure.Figure at 0x12083c350>"
      ]
     },
     "metadata": {},
     "output_type": "display_data"
    }
   ],
   "source": [
    "plt.plot(likelihood_trace)"
   ]
  },
  {
   "cell_type": "code",
   "execution_count": 457,
   "metadata": {
    "collapsed": false
   },
   "outputs": [
    {
     "data": {
      "text/plain": [
       "[<matplotlib.lines.Line2D at 0x121643950>]"
      ]
     },
     "execution_count": 457,
     "metadata": {},
     "output_type": "execute_result"
    },
    {
     "data": {
      "image/png": "[encoded data removed]",
      "text/plain": [
       "<matplotlib.figure.Figure at 0x121330b10>"
      ]
     },
     "metadata": {},
     "output_type": "display_data"
    }
   ],
   "source": [
    "plt.plot(temp_trace)"
   ]
  },
  {
   "cell_type": "code",
   "execution_count": 458,
   "metadata": {
    "collapsed": false
   },
   "outputs": [
    {
     "name": "stdout",
     "output_type": "stream",
     "text": [
      "Accuracy : 99 %\n"
     ]
    }
   ],
   "source": [
    "print \"Accuracy :\", np.sum(np.argmax(best_start, axis=1) == trueCls)*100/numData, \"%\""
   ]
  },
  {
   "cell_type": "code",
   "execution_count": 459,
   "metadata": {
    "collapsed": false
   },
   "outputs": [
    {
     "data": {
      "text/plain": [
       "array([[ 0.87835978,  0.04801293,  0.04161334,  0.03201395],\n",
       "       [ 0.04481313,  0.87356009,  0.04161334,  0.04001344],\n",
       "       [ 0.0467873 ,  0.0484001 ,  0.86286369,  0.04194891],\n",
       "       [ 0.04128309,  0.04128309,  0.0539807 ,  0.86345311]])"
      ]
     },
     "execution_count": 459,
     "metadata": {},
     "output_type": "execute_result"
    }
   ],
   "source": [
    "best_conf"
   ]
  },
  {
   "cell_type": "markdown",
   "metadata": {},
   "source": [
    "#### For same_preset_MC_200_5_4.npz.npy"
   ]
  },
  {
   "cell_type": "code",
   "execution_count": 319,
   "metadata": {
    "collapsed": false
   },
   "outputs": [
    {
     "data": {
      "text/plain": [
       "[<matplotlib.lines.Line2D at 0x11c17c550>]"
      ]
     },
     "execution_count": 319,
     "metadata": {},
     "output_type": "execute_result"
    },
    {
     "data": {
      "image/png": "[encoded data removed]",
      "text/plain": [
       "<matplotlib.figure.Figure at 0x11bd61a50>"
      ]
     },
     "metadata": {},
     "output_type": "display_data"
    }
   ],
   "source": [
    "plt.plot(likelihood_trace)"
   ]
  },
  {
   "cell_type": "code",
   "execution_count": 320,
   "metadata": {
    "collapsed": false
   },
   "outputs": [
    {
     "data": {
      "text/plain": [
       "[<matplotlib.lines.Line2D at 0x11c33b210>]"
      ]
     },
     "execution_count": 320,
     "metadata": {},
     "output_type": "execute_result"
    },
    {
     "data": {
      "image/png": "[encoded data removed]",
      "text/plain": [
       "<matplotlib.figure.Figure at 0x11bd61a10>"
      ]
     },
     "metadata": {},
     "output_type": "display_data"
    }
   ],
   "source": [
    "plt.plot(temp_trace)"
   ]
  },
  {
   "cell_type": "code",
   "execution_count": 321,
   "metadata": {
    "collapsed": false
   },
   "outputs": [
    {
     "name": "stdout",
     "output_type": "stream",
     "text": [
      "Accuracy : 100 %\n"
     ]
    }
   ],
   "source": [
    "print \"Accuracy :\", np.sum(np.argmax(best_start, axis=1) == trueCls)*100/numData, \"%\""
   ]
  },
  {
   "cell_type": "code",
   "execution_count": 322,
   "metadata": {
    "collapsed": false
   },
   "outputs": [
    {
     "data": {
      "text/plain": [
       "array([[ 0.86790114,  0.04403295,  0.04003359,  0.04803231],\n",
       "       [ 0.04403295,  0.88389858,  0.03203487,  0.04003359],\n",
       "       [ 0.02403615,  0.02803551,  0.90389538,  0.04403295],\n",
       "       [ 0.04803231,  0.02403615,  0.03603423,  0.8918973 ]])"
      ]
     },
     "execution_count": 322,
     "metadata": {},
     "output_type": "execute_result"
    }
   ],
   "source": [
    "best_conf"
   ]
  }
 ],
 "metadata": {
  "kernelspec": {
   "display_name": "Python 2",
   "language": "python",
   "name": "python2"
  },
  "language_info": {
   "codemirror_mode": {
    "name": "ipython",
    "version": 2
   },
   "file_extension": ".py",
   "mimetype": "text/x-python",
   "name": "python",
   "nbconvert_exporter": "python",
   "pygments_lexer": "ipython2",
   "version": "2.7.11"
  }
 },
 "nbformat": 4,
 "nbformat_minor": 0
}
