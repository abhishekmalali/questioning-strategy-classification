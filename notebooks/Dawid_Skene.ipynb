{
 "cells": [
  {
   "cell_type": "code",
   "execution_count": 183,
   "metadata": {
    "collapsed": true
   },
   "outputs": [],
   "source": [
    "import numpy as np\n",
    "import matplotlib.pyplot as plt\n",
    "import scipy.misc as misc\n",
    "%matplotlib inline\n",
    "\n",
    "#Reading in the data\n",
    "data = np.load('MC_500_5_4.npz.npy')\n",
    "trueCls = np.load('MC_500_5_4_reference_classes.npy')"
   ]
  },
  {
   "cell_type": "code",
   "execution_count": 194,
   "metadata": {
    "collapsed": false
   },
   "outputs": [],
   "source": [
    "# Reconfigure data to resemble that used in Liu and Wang\n",
    "r = np.argmax(data,axis=2)"
   ]
  },
  {
   "cell_type": "markdown",
   "metadata": {},
   "source": [
    "## EM with Single Confusion Matrix"
   ]
  },
  {
   "cell_type": "code",
   "execution_count": 195,
   "metadata": {
    "collapsed": false
   },
   "outputs": [],
   "source": [
    "# Number of data points\n",
    "num_data     = data.shape[0]\n",
    "# Number of experts performing classification\n",
    "num_experts  = data.shape[1]\n",
    "# Number of classes\n",
    "num_classes  = data.shape[2]\n",
    "\n",
    "# Initialize rho, the proportion of each class, to be even.  \n",
    "rho = np.repeat(1./num_classes, num_classes)\n",
    "\n",
    "# Initialize the shared confusion matrix with a bias lambda\n",
    "lambdaa = 10.\n",
    "theta = np.ones((num_classes,num_classes))*(1./(lambdaa+num_classes))\n",
    "np.fill_diagonal(theta, np.repeat((lambdaa/(lambdaa+num_classes)),num_classes))"
   ]
  },
  {
   "cell_type": "code",
   "execution_count": 196,
   "metadata": {
    "collapsed": false
   },
   "outputs": [],
   "source": [
    "def E_step(rho=rho, theta=theta, r=r):\n",
    "    zeds = np.zeros((num_data, num_classes))\n",
    "    \n",
    "    for i in range(num_data):\n",
    "        for k in range(num_classes):\n",
    "            log_numerator = np.log(rho[k]) + np.sum([[np.sum(r[i,j]==t)*np.log(theta[k,t]) \\\n",
    "                                                      for j in range(num_experts)] for t in range(num_classes)])\n",
    "            log_denominator = misc.logsumexp([np.log(rho[k_p]) + np.sum([[np.sum(r[i,j]==t)*np.log(theta[k_p,t]) \\\n",
    "                                                for j in range(num_experts)] for t in range(num_classes)]) \\\n",
    "                                              for k_p in range(num_classes)])\n",
    "            zeds[i,k] = np.exp(log_numerator - log_denominator)\n",
    "    return zeds"
   ]
  },
  {
   "cell_type": "code",
   "execution_count": 197,
   "metadata": {
    "collapsed": false
   },
   "outputs": [],
   "source": [
    "def M_step(z,r=r):\n",
    "    thet = np.zeros((num_classes,num_classes))\n",
    "    for k in range(num_classes):\n",
    "        for t in range(num_classes):\n",
    "            numerator=0\n",
    "            denominator=0\n",
    "            for i in range(num_data):\n",
    "                for j in range(num_classes):\n",
    "                    numerator += np.sum(z[i,k][r[i,j]==t])\n",
    "                    denominator += np.sum([np.sum(z[i,k][r[i,j]==t_p]) for t_p in range(num_classes)])\n",
    "  \n",
    "            thet[k,t] = numerator/denominator\n",
    "    \n",
    "    rh = np.zeros(num_classes)\n",
    "    for k in range(num_classes):\n",
    "        rh[k] = np.sum(z[:,k])/np.sum(z)\n",
    "            \n",
    "    return thet, rh"
   ]
  },
  {
   "cell_type": "code",
   "execution_count": 198,
   "metadata": {
    "collapsed": false
   },
   "outputs": [
    {
     "name": "stdout",
     "output_type": "stream",
     "text": [
      "Converged within 2 iterations\n"
     ]
    }
   ],
   "source": [
    "# Now run it:\n",
    "\n",
    "# Nonsense initial values to test convergence\n",
    "z_old = 500\n",
    "z = 100\n",
    "ctr = 0\n",
    "\n",
    "while np.sum(z_old - z) > .00001:\n",
    "    z_old = z\n",
    "    z = E_step()\n",
    "    theta, rho = M_step(z)\n",
    "    ctr+=1\n",
    "    \n",
    "print \"Converged within {} iterations\".format(ctr)"
   ]
  },
  {
   "cell_type": "code",
   "execution_count": 199,
   "metadata": {
    "collapsed": false
   },
   "outputs": [
    {
     "data": {
      "text/plain": [
       "array([[ 0.76150469,  0.08909535,  0.06398059,  0.08541936],\n",
       "       [ 0.08197992,  0.75877687,  0.06564687,  0.09359634],\n",
       "       [ 0.10589271,  0.07680065,  0.7269108 ,  0.09039583],\n",
       "       [ 0.0931993 ,  0.08032983,  0.08482246,  0.7416484 ]])"
      ]
     },
     "execution_count": 199,
     "metadata": {},
     "output_type": "execute_result"
    }
   ],
   "source": [
    "# Shared Confusion Matrix\n",
    "theta"
   ]
  },
  {
   "cell_type": "code",
   "execution_count": 200,
   "metadata": {
    "collapsed": false
   },
   "outputs": [
    {
     "data": {
      "text/plain": [
       "array([ 0.28693228,  0.24531324,  0.22015938,  0.24759511])"
      ]
     },
     "execution_count": 200,
     "metadata": {},
     "output_type": "execute_result"
    }
   ],
   "source": [
    "# Class distribution\n",
    "rho"
   ]
  },
  {
   "cell_type": "code",
   "execution_count": 201,
   "metadata": {
    "collapsed": false
   },
   "outputs": [
    {
     "name": "stdout",
     "output_type": "stream",
     "text": [
      "Accuracy is 95.4%\n"
     ]
    }
   ],
   "source": [
    "print \"Accuracy is {}%\".format(100.*np.sum(np.argmax(z,axis=1)==trueCls)/num_data)"
   ]
  },
  {
   "cell_type": "markdown",
   "metadata": {},
   "source": [
    "## EM, multiple confusion matrices"
   ]
  },
  {
   "cell_type": "code",
   "execution_count": 338,
   "metadata": {
    "collapsed": false
   },
   "outputs": [],
   "source": [
    "# Re-initialize variables\n",
    "\n",
    "# Initialize rho, the proportion of each class, to be even.  \n",
    "rho = np.repeat(1./num_classes, num_classes)\n",
    "\n",
    "# Initialize the confusion matrices with a bias lambda\n",
    "lambdaa = 10.\n",
    "theta = np.ones((num_classes,num_classes))*(1./(lambdaa+num_classes))\n",
    "np.fill_diagonal(theta, np.repeat((lambdaa/(lambdaa+num_classes)),num_classes))\n",
    "\n",
    "# All the confusion matrices start out the same\n",
    "thetas = np.stack([theta]*num_experts)"
   ]
  },
  {
   "cell_type": "code",
   "execution_count": 339,
   "metadata": {
    "collapsed": false
   },
   "outputs": [],
   "source": [
    "def E_step2(rho=rho, r=r, thetas=thetas):\n",
    "    zeds = np.zeros((num_data, num_classes))\n",
    "    \n",
    "    for i in range(num_data):\n",
    "        for k in range(num_classes):\n",
    "            log_numerator = np.log(rho[k]) + np.sum([thetas[j,k,r[i,j]] for j in range(num_experts)])\n",
    "            log_denominator = misc.logsumexp([np.log(rho[k_p]) + np.sum([thetas[j,k_p,r[i,j]]\\\n",
    "                                                                       for j in range(num_experts)]) \\\n",
    "                                                                          for k_p in range(num_classes)])\n",
    "            zeds[i,k] = np.exp(log_numerator - log_denominator)\n",
    "            \n",
    "    return zeds"
   ]
  },
  {
   "cell_type": "code",
   "execution_count": 340,
   "metadata": {
    "collapsed": true
   },
   "outputs": [],
   "source": [
    "def M_step2(z, r=r):\n",
    "    thet = np.zeros((num_experts,num_classes,num_classes))\n",
    "    for k in range(num_classes):\n",
    "        for t in range(num_classes):\n",
    "            for j in range(num_experts):\n",
    "                numerator=0\n",
    "                denominator=0\n",
    "                for i in range(num_data):\n",
    "                    numerator += np.sum(z[i,k][r[i,j]==t])\n",
    "                    denominator += np.sum([np.sum(z[i,k][r[i,j]==t_p]) for t_p in range(num_classes)])\n",
    "                thet[j,k,t] = numerator/denominator\n",
    "    \n",
    "    rh = np.zeros(num_classes)\n",
    "    for k in range(num_classes):\n",
    "        rh[k] = np.sum(z[:,k])/np.sum(z)\n",
    "            \n",
    "    return thet, rh\n",
    "                    "
   ]
  },
  {
   "cell_type": "code",
   "execution_count": 341,
   "metadata": {
    "collapsed": false
   },
   "outputs": [
    {
     "name": "stdout",
     "output_type": "stream",
     "text": [
      "Converged within 2 iterations\n"
     ]
    }
   ],
   "source": [
    "# Now run it:\n",
    "\n",
    "# Nonsense initial values to test convergence\n",
    "z_old = 500\n",
    "z = 100\n",
    "ctr = 0\n",
    "\n",
    "while np.sum(z_old - z) > 0.00001:\n",
    "    z_old = z\n",
    "    z = E_step2()\n",
    "    thetas, rho = M_step2(z)\n",
    "    ctr+=1\n",
    "    \n",
    "print \"Converged within {} iterations\".format(ctr)"
   ]
  },
  {
   "cell_type": "code",
   "execution_count": 342,
   "metadata": {
    "collapsed": false
   },
   "outputs": [
    {
     "name": "stdout",
     "output_type": "stream",
     "text": [
      "[[[ 0.69586724  0.10046301  0.08668439  0.11698537]\n",
      "  [ 0.11560531  0.67960661  0.09439964  0.11038844]\n",
      "  [ 0.13372311  0.11423286  0.62880342  0.12324062]\n",
      "  [ 0.12526173  0.11142521  0.08899527  0.67431779]]\n",
      "\n",
      " [[ 0.58219459  0.13901433  0.14893871  0.12985237]\n",
      "  [ 0.14852632  0.55547115  0.12118436  0.17481817]\n",
      "  [ 0.14903173  0.17638159  0.51038099  0.16420569]\n",
      "  [ 0.14801443  0.15182998  0.14116231  0.55899328]]\n",
      "\n",
      " [[ 0.52169192  0.1916419   0.13169312  0.15497306]\n",
      "  [ 0.18770003  0.52783523  0.13177481  0.15268993]\n",
      "  [ 0.22080018  0.15011549  0.48123126  0.14785308]\n",
      "  [ 0.20682207  0.14505233  0.1680955   0.4800301 ]]\n",
      "\n",
      " [[ 0.70109614  0.09319384  0.08865878  0.11705124]\n",
      "  [ 0.13478066  0.64276072  0.10001071  0.12244791]\n",
      "  [ 0.15928062  0.09469493  0.59534841  0.15067604]\n",
      "  [ 0.14132006  0.11771149  0.0955745   0.64539394]]\n",
      "\n",
      " [[ 0.54178511  0.12738843  0.16086648  0.16995998]\n",
      "  [ 0.1519544   0.54306519  0.14865858  0.15632182]\n",
      "  [ 0.16132996  0.14554942  0.54273358  0.15038703]\n",
      "  [ 0.14600133  0.140888    0.15144021  0.56167046]]]\n"
     ]
    }
   ],
   "source": [
    "# Confusion matrices\n",
    "print thetas"
   ]
  },
  {
   "cell_type": "code",
   "execution_count": 343,
   "metadata": {
    "collapsed": false
   },
   "outputs": [
    {
     "data": {
      "text/plain": [
       "array([ 0.27552639,  0.24808812,  0.22656323,  0.24982226])"
      ]
     },
     "execution_count": 343,
     "metadata": {},
     "output_type": "execute_result"
    }
   ],
   "source": [
    "# Class distribution\n",
    "rho"
   ]
  },
  {
   "cell_type": "code",
   "execution_count": 344,
   "metadata": {
    "collapsed": false
   },
   "outputs": [
    {
     "name": "stdout",
     "output_type": "stream",
     "text": [
      "Accuracy is 94.8%\n"
     ]
    }
   ],
   "source": [
    "print \"Accuracy is {}%\".format(100.*np.sum(np.argmax(z,axis=1)==trueCls)/num_data)"
   ]
  },
  {
   "cell_type": "code",
   "execution_count": null,
   "metadata": {
    "collapsed": true
   },
   "outputs": [],
   "source": []
  }
 ],
 "metadata": {
  "kernelspec": {
   "display_name": "Python 2",
   "language": "python",
   "name": "python2"
  },
  "language_info": {
   "codemirror_mode": {
    "name": "ipython",
    "version": 2
   },
   "file_extension": ".py",
   "mimetype": "text/x-python",
   "name": "python",
   "nbconvert_exporter": "python",
   "pygments_lexer": "ipython2",
   "version": "2.7.11"
  }
 },
 "nbformat": 4,
 "nbformat_minor": 0
}
