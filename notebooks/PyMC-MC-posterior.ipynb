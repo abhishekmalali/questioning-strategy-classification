{
 "cells": [
  {
   "cell_type": "code",
   "execution_count": 1,
   "metadata": {
    "collapsed": true
   },
   "outputs": [],
   "source": [
    "import numpy as np\n",
    "import pymc as pm\n",
    "import matplotlib.pyplot as plt\n",
    "%matplotlib inline"
   ]
  },
  {
   "cell_type": "code",
   "execution_count": 2,
   "metadata": {
    "collapsed": false
   },
   "outputs": [
    {
     "data": {
      "text/plain": [
       "(80, 5, 4)"
      ]
     },
     "execution_count": 2,
     "metadata": {},
     "output_type": "execute_result"
    }
   ],
   "source": [
    "#Reading in the data\n",
    "data = np.load('../data/preset_MC_80_5_4.npz.npy')\n",
    "trueCls = np.load('../data/preset_MC_80_5_4_reference_classes.npy')\n",
    "data.shape"
   ]
  },
  {
   "cell_type": "code",
   "execution_count": 3,
   "metadata": {
    "collapsed": false
   },
   "outputs": [
    {
     "data": {
      "text/plain": [
       "(array([[ 1.,  0.,  0.,  0.],\n",
       "        [ 1.,  0.,  0.,  0.],\n",
       "        [ 0.,  1.,  0.,  0.],\n",
       "        [ 0.,  1.,  0.,  0.],\n",
       "        [ 1.,  0.,  0.,  0.]]), 0)"
      ]
     },
     "execution_count": 3,
     "metadata": {},
     "output_type": "execute_result"
    }
   ],
   "source": [
    "idx = 5\n",
    "data[idx], trueCls[idx]"
   ]
  },
  {
   "cell_type": "code",
   "execution_count": 4,
   "metadata": {
    "collapsed": true
   },
   "outputs": [],
   "source": [
    "#Inferring the number of classes and data length\n",
    "numData = data.shape[0]\n",
    "numExperts = data.shape[1]\n",
    "numClasses = data.shape[2]"
   ]
  },
  {
   "cell_type": "markdown",
   "metadata": {},
   "source": [
    "Initializing the Priors for the PyMC model."
   ]
  },
  {
   "cell_type": "code",
   "execution_count": 5,
   "metadata": {
    "collapsed": false
   },
   "outputs": [],
   "source": [
    "alpha = [1, 1, 1, 1]\n",
    "rho = pm.Dirichlet('rho',theta=alpha, plot=False)\n",
    "rho_completedD = pm.CompletedDirichlet('rho_completed', rho, plot=False)\n",
    "z = pm.Container([pm.Multinomial('z_%i' %i,n=1,p=rho, plot=False) for i in range(numData)])\n",
    "lam = 10\n",
    "lambda_mat = lam*np.eye( numClasses) + np.ones((numClasses, numClasses))\n",
    "confMat = pm.Container([pm.Dirichlet(name='theta_row_'+str(i), theta=lambda_mat[i,:], plot=False)\\\n",
    "                      for i in range(numClasses)])\n",
    "confMatHat = pm.Container([pm.CompletedDirichlet('theta_row_hat'+str(i),\\\n",
    "                    confMat[i], plot=False) for i in range(numClasses)])"
   ]
  },
  {
   "cell_type": "markdown",
   "metadata": {},
   "source": [
    "Likelihood for the Multiclass case."
   ]
  },
  {
   "cell_type": "code",
   "execution_count": 6,
   "metadata": {
    "collapsed": false
   },
   "outputs": [],
   "source": [
    "@pm.observed\n",
    "def mc_likelihood(value=data, z=z, confMat=confMatHat, rho=rho_completedD):\n",
    "    \"\"\"\n",
    "    value - data\n",
    "    z - observed classes\n",
    "    confMat - confidence matrix\n",
    "    \"\"\"\n",
    "    log_like = 0\n",
    "    numData = data.shape[0]\n",
    "    numExperts = data.shape[1]\n",
    "    numClasses = data.shape[2]\n",
    "    for data_idx in range(numData):\n",
    "        dat = data[data_idx]\n",
    "        observed_cls = z[data_idx]\n",
    "        class_num = np.where(observed_cls == 1)[0][0]\n",
    "        log_like += np.sum(np.multiply(observed_cls,np.sum(np.multiply(np.sum(dat, axis=0),\\\n",
    "                            np.log(confMat[class_num])))))\n",
    "    return log_like"
   ]
  },
  {
   "cell_type": "code",
   "execution_count": 7,
   "metadata": {
    "collapsed": true
   },
   "outputs": [],
   "source": [
    "mod = pm.Model([rho, rho_completedD, z, confMat, confMatHat, mc_likelihood])"
   ]
  },
  {
   "cell_type": "code",
   "execution_count": 8,
   "metadata": {
    "collapsed": false
   },
   "outputs": [
    {
     "name": "stdout",
     "output_type": "stream",
     "text": [
      " [-----------------100%-----------------] 10000 of 10000 complete in 464.7 sec"
     ]
    }
   ],
   "source": [
    "mcmc = pm.MCMC(mod)\n",
    "mcmc.sample(iter=10000, burn=1000, thin=5)\n",
    "pm.Matplot.plot(mcmc)"
   ]
  },
  {
   "cell_type": "markdown",
   "metadata": {},
   "source": [
    "Results obtained from PyMC for different datasets."
   ]
  },
  {
   "cell_type": "markdown",
   "metadata": {},
   "source": [
    "#### For the data file preset_MC_80_5_4.npz.npy"
   ]
  },
  {
   "cell_type": "code",
   "execution_count": 9,
   "metadata": {
    "collapsed": false
   },
   "outputs": [
    {
     "name": "stdout",
     "output_type": "stream",
     "text": [
      "Confusion Matrix\n",
      "[[ 0.84090251  0.0520346   0.0700579   0.037005  ]]\n",
      "[[ 0.02860957  0.88412848  0.05101491  0.03624704]]\n",
      "[[ 0.04659353  0.04335627  0.88466778  0.02538242]]\n",
      "[[ 0.07966358  0.0268948   0.01804512  0.87539649]]\n"
     ]
    }
   ],
   "source": [
    "print \"Confusion Matrix\"\n",
    "for idx in range(numClasses):\n",
    "    print np.mean(confMatHat[idx].trace()[:], axis=0)"
   ]
  },
  {
   "cell_type": "code",
   "execution_count": 10,
   "metadata": {
    "collapsed": true
   },
   "outputs": [],
   "source": [
    "final_z = []\n",
    "for i in range(numData):\n",
    "    final_z.append(np.argmax(np.mean(z[i].trace()[:], axis=0)))"
   ]
  },
  {
   "cell_type": "markdown",
   "metadata": {},
   "source": [
    "Number of Recovered Labels and Final Class Distribution"
   ]
  },
  {
   "cell_type": "code",
   "execution_count": 11,
   "metadata": {
    "collapsed": false
   },
   "outputs": [
    {
     "data": {
      "text/plain": [
       "80"
      ]
     },
     "execution_count": 11,
     "metadata": {},
     "output_type": "execute_result"
    }
   ],
   "source": [
    "np.sum(final_z == trueCls)"
   ]
  },
  {
   "cell_type": "code",
   "execution_count": 12,
   "metadata": {
    "collapsed": false
   },
   "outputs": [
    {
     "data": {
      "text/plain": [
       "array([[ 0.25200085,  0.24972981,  0.24869499,  0.24957436]])"
      ]
     },
     "execution_count": 12,
     "metadata": {},
     "output_type": "execute_result"
    }
   ],
   "source": [
    "np.mean(rho_completedD.trace(), axis=0)"
   ]
  },
  {
   "cell_type": "markdown",
   "metadata": {},
   "source": [
    "#### For the data file preset_MC_200_5_4.npz.npy"
   ]
  },
  {
   "cell_type": "code",
   "execution_count": 18,
   "metadata": {
    "collapsed": false
   },
   "outputs": [
    {
     "name": "stdout",
     "output_type": "stream",
     "text": [
      "Confusion Matrix\n",
      "[[ 0.83215003  0.06998182  0.05680138  0.04106677]]\n",
      "[[ 0.00614853  0.88403796  0.06243647  0.04737704]]\n",
      "[[ 0.05332688  0.03417867  0.85687459  0.05561986]]\n",
      "[[ 0.05389482  0.04569116  0.05720491  0.84320912]]\n"
     ]
    }
   ],
   "source": [
    "print \"Confusion Matrix\"\n",
    "for idx in range(numClasses):\n",
    "    print np.mean(confMatHat[idx].trace()[:], axis=0)"
   ]
  },
  {
   "cell_type": "code",
   "execution_count": 15,
   "metadata": {
    "collapsed": true
   },
   "outputs": [],
   "source": [
    "final_z = []\n",
    "for i in range(numData):\n",
    "    final_z.append(np.argmax(np.mean(z[i].trace()[:], axis=0)))"
   ]
  },
  {
   "cell_type": "markdown",
   "metadata": {},
   "source": [
    "Number of Recovered Labels and Final Class Distribution"
   ]
  },
  {
   "cell_type": "code",
   "execution_count": 16,
   "metadata": {
    "collapsed": false,
    "scrolled": true
   },
   "outputs": [
    {
     "data": {
      "text/plain": [
       "197"
      ]
     },
     "execution_count": 16,
     "metadata": {},
     "output_type": "execute_result"
    }
   ],
   "source": [
    "np.sum(final_z == trueCls)"
   ]
  },
  {
   "cell_type": "code",
   "execution_count": 17,
   "metadata": {
    "collapsed": false
   },
   "outputs": [
    {
     "data": {
      "text/plain": [
       "array([[ 0.26649719,  0.23522991,  0.25105032,  0.24722259]])"
      ]
     },
     "execution_count": 17,
     "metadata": {},
     "output_type": "execute_result"
    }
   ],
   "source": [
    "np.mean(rho_completedD.trace(), axis=0)"
   ]
  },
  {
   "cell_type": "markdown",
   "metadata": {},
   "source": [
    "#### For the data file preset_MC_100_5_4.npz.npy"
   ]
  },
  {
   "cell_type": "code",
   "execution_count": 9,
   "metadata": {
    "collapsed": false
   },
   "outputs": [
    {
     "name": "stdout",
     "output_type": "stream",
     "text": [
      "Confusion Matrix\n",
      "[[ 0.6930749   0.16420421  0.03823254  0.10448835]]\n",
      "[[ 0.05658189  0.75923519  0.102547    0.08163592]]\n",
      "[[ 0.15113202  0.13492457  0.5746348   0.13930861]]\n",
      "[[ 0.08296775  0.09377541  0.07021663  0.75304021]]\n"
     ]
    }
   ],
   "source": [
    "print \"Confusion Matrix\"\n",
    "for idx in range(numClasses):\n",
    "    print np.mean(confMatHat[idx].trace()[:], axis=0)"
   ]
  },
  {
   "cell_type": "code",
   "execution_count": 10,
   "metadata": {
    "collapsed": false
   },
   "outputs": [],
   "source": [
    "final_z = []\n",
    "for i in range(numData):\n",
    "    final_z.append(np.argmax(np.mean(z[i].trace()[-1000:], axis=0)))"
   ]
  },
  {
   "cell_type": "markdown",
   "metadata": {},
   "source": [
    "Number of Recovered Labels"
   ]
  },
  {
   "cell_type": "code",
   "execution_count": 11,
   "metadata": {
    "collapsed": false
   },
   "outputs": [
    {
     "data": {
      "text/plain": [
       "88"
      ]
     },
     "execution_count": 11,
     "metadata": {},
     "output_type": "execute_result"
    }
   ],
   "source": [
    "np.sum(final_z == trueCls)"
   ]
  },
  {
   "cell_type": "markdown",
   "metadata": {
    "collapsed": true
   },
   "source": [
    "#### For the data file preset_MC_40_5_4.npz.npy"
   ]
  },
  {
   "cell_type": "code",
   "execution_count": 9,
   "metadata": {
    "collapsed": false
   },
   "outputs": [
    {
     "name": "stdout",
     "output_type": "stream",
     "text": [
      "Confusion Matrix\n",
      "[[ 0.8819219   0.04241082  0.04085174  0.03481554]]\n",
      "[[ 0.05651182  0.88355781  0.02841986  0.03151051]]\n",
      "[[ 0.03010899  0.04463091  0.91061273  0.01464737]]\n",
      "[[ 0.066242    0.01119483  0.06289027  0.8596729 ]]\n"
     ]
    }
   ],
   "source": [
    "print \"Confusion Matrix\"\n",
    "for idx in range(numClasses):\n",
    "    print np.mean(confMatHat[idx].trace()[:], axis=0)"
   ]
  },
  {
   "cell_type": "code",
   "execution_count": 10,
   "metadata": {
    "collapsed": true
   },
   "outputs": [],
   "source": [
    "final_z = []\n",
    "for i in range(numData):\n",
    "    final_z.append(np.argmax(np.mean(z[i].trace()[:], axis=0)))"
   ]
  },
  {
   "cell_type": "markdown",
   "metadata": {},
   "source": [
    "Number of Recovered Labels and Final Class Distribution"
   ]
  },
  {
   "cell_type": "code",
   "execution_count": 11,
   "metadata": {
    "collapsed": false
   },
   "outputs": [
    {
     "data": {
      "text/plain": [
       "40"
      ]
     },
     "execution_count": 11,
     "metadata": {},
     "output_type": "execute_result"
    }
   ],
   "source": [
    "np.sum(final_z == trueCls)"
   ]
  },
  {
   "cell_type": "code",
   "execution_count": 12,
   "metadata": {
    "collapsed": false
   },
   "outputs": [
    {
     "data": {
      "text/plain": [
       "array([[ 0.24664998,  0.2563131 ,  0.24541446,  0.25162246]])"
      ]
     },
     "execution_count": 12,
     "metadata": {},
     "output_type": "execute_result"
    }
   ],
   "source": [
    "np.mean(rho_completedD.trace(), axis=0)"
   ]
  }
 ],
 "metadata": {
  "kernelspec": {
   "display_name": "Python 2",
   "language": "python",
   "name": "python2"
  },
  "language_info": {
   "codemirror_mode": {
    "name": "ipython",
    "version": 2
   },
   "file_extension": ".py",
   "mimetype": "text/x-python",
   "name": "python",
   "nbconvert_exporter": "python",
   "pygments_lexer": "ipython2",
   "version": "2.7.11"
  }
 },
 "nbformat": 4,
 "nbformat_minor": 0
}
