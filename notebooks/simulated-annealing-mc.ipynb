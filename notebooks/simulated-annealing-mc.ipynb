{
 "cells": [
  {
   "cell_type": "markdown",
   "metadata": {},
   "source": [
    "This notebook has an attempt at running Simulated annealing in an constrained enviroment. We assume we know the confusion matrix(Assume it to be near identity matrix) and the class distribution. We treat this problem like a Traveling Salesman Problem where we swap the order of classes in order to match the data and achieve the maximum likelihood. This was an initial starting attempt at solving the class inference problem using the Simulated annealing approach."
   ]
  },
  {
   "cell_type": "code",
   "execution_count": 1,
   "metadata": {
    "collapsed": true
   },
   "outputs": [],
   "source": [
    "import numpy as np\n",
    "import pymc as pm\n",
    "import matplotlib.pyplot as plt\n",
    "%matplotlib inline"
   ]
  },
  {
   "cell_type": "code",
   "execution_count": 106,
   "metadata": {
    "collapsed": false
   },
   "outputs": [
    {
     "data": {
      "text/plain": [
       "(500, 5, 4)"
      ]
     },
     "execution_count": 106,
     "metadata": {},
     "output_type": "execute_result"
    }
   ],
   "source": [
    "#Reading in the data\n",
    "data = np.load('../data/preset_MC_500_5_4.npz.npy')\n",
    "trueCls = np.load('../data/preset_MC_500_5_4_reference_classes.npy')\n",
    "data.shape"
   ]
  },
  {
   "cell_type": "code",
   "execution_count": 107,
   "metadata": {
    "collapsed": true
   },
   "outputs": [],
   "source": [
    "#Inferring the number of classes and data length\n",
    "numData = data.shape[0]\n",
    "numExperts = data.shape[1]\n",
    "numClasses = data.shape[2]"
   ]
  },
  {
   "cell_type": "code",
   "execution_count": 108,
   "metadata": {
    "collapsed": false
   },
   "outputs": [],
   "source": [
    "confMat = np.eye(numClasses) + 0.001\n",
    "confMat = confMat/np.sum(confMat, axis=1)[:, np.newaxis]\n",
    "#Since each of the k classes have a 1/k ratio in total data\n",
    "data_list = []\n",
    "for idx in range(numClasses):\n",
    "    class_dat = [idx for i in range(numData/numClasses)]\n",
    "    data_list = data_list + class_dat\n",
    "data_num = np.array(data_list)\n",
    "np.random.shuffle(data_num)\n",
    "z = np.eye(numClasses)[data_num]"
   ]
  },
  {
   "cell_type": "code",
   "execution_count": 109,
   "metadata": {
    "collapsed": false
   },
   "outputs": [],
   "source": [
    "def mc_likelihood(value=data, z=z, confMat=confMat):\n",
    "    \"\"\"\n",
    "    value - data\n",
    "    z - observed classes\n",
    "    confMat - confidence matrix\n",
    "    \"\"\"\n",
    "    log_like = 0\n",
    "    numData = data.shape[0]\n",
    "    numExperts = data.shape[1]\n",
    "    numClasses = data.shape[2]\n",
    "    for data_idx in range(numData):\n",
    "        dat = data[data_idx]\n",
    "        observed_cls = z[data_idx]\n",
    "        class_num = np.where(observed_cls == 1)[0][0]\n",
    "        log_like += np.sum(np.multiply(observed_cls,np.sum(np.multiply(np.sum(dat, axis=0),\\\n",
    "                            np.log(confMat[class_num])))))\n",
    "    return log_like"
   ]
  },
  {
   "cell_type": "code",
   "execution_count": 110,
   "metadata": {
    "collapsed": true
   },
   "outputs": [],
   "source": [
    "def swap_rows(z, row_idx1, row_idx2):\n",
    "    new_z = np.copy(z)\n",
    "    temp = z[row_idx1,:]\n",
    "    new_z[row_idx1,:] = z[row_idx2,:]\n",
    "    new_z[row_idx2,:] = temp\n",
    "    return new_z"
   ]
  },
  {
   "cell_type": "code",
   "execution_count": 111,
   "metadata": {
    "collapsed": false
   },
   "outputs": [
    {
     "data": {
      "text/plain": [
       "-12443.239905108436"
      ]
     },
     "execution_count": 111,
     "metadata": {},
     "output_type": "execute_result"
    }
   ],
   "source": [
    "mc_likelihood(value=data, z=z, confMat=confMat)"
   ]
  },
  {
   "cell_type": "code",
   "execution_count": 112,
   "metadata": {
    "collapsed": false
   },
   "outputs": [],
   "source": [
    "def simulated_annealing_mc(z, confMat, data, starting_temp=100, reanneal=0.1, num_iterations=100):\n",
    "    temp = starting_temp\n",
    "    likelihood_trace = []\n",
    "    best_likelihood_trace = []\n",
    "    temp_trace = []\n",
    "    best_start = z\n",
    "    best_lik = -np.inf\n",
    "    for i in range(num_iterations):\n",
    "        swap_idx = np.random.choice(range(z.shape[0]), size=2, replace=False)\n",
    "        z_new = swap_rows(z, swap_idx[0], swap_idx[1])\n",
    "        new_lik = mc_likelihood(data, z_new, confMat)\n",
    "        old_lik = mc_likelihood(data, z, confMat)\n",
    "        u = np.random.uniform()\n",
    "        prob = min([1, np.exp(-(new_lik - old_lik)/temp)])\n",
    "        #print prob, u\n",
    "        #Always accepting if the likelihood increases\n",
    "        if new_lik > old_lik:\n",
    "            z = z_new\n",
    "            if new_lik > best_lik:\n",
    "                best_lik = new_lik\n",
    "                best_start = z_new\n",
    "            likelihood_trace.append(new_lik)\n",
    "        #Accepting based on the probability if the error does not reduce\n",
    "        elif prob <= u:\n",
    "            z = z_new\n",
    "            if new_lik > best_lik:\n",
    "                best_lik = new_lik\n",
    "                best_start = z\n",
    "            likelihood_trace.append(new_lik)\n",
    "        else:\n",
    "            likelihood_trace.append(old_lik)\n",
    "        #Reducing temperature every 10th iteration\n",
    "        if i%10 == 0:\n",
    "            temp = temp*0.99\n",
    "        #Reannealing if the temperature is too low\n",
    "        if temp < reanneal:\n",
    "            temp = 1\n",
    "        temp_trace.append(temp)\n",
    "        best_likelihood_trace.append(best_lik)\n",
    "    return likelihood_trace, best_likelihood_trace, temp_trace, best_start, best_lik"
   ]
  },
  {
   "cell_type": "code",
   "execution_count": 113,
   "metadata": {
    "collapsed": false
   },
   "outputs": [],
   "source": [
    "likelihood_trace, best_likelihood_trace, temp_trace, best_start, best_lik =\\\n",
    "simulated_annealing_mc(z, confMat, data, num_iterations=20000)"
   ]
  },
  {
   "cell_type": "code",
   "execution_count": 114,
   "metadata": {
    "collapsed": false
   },
   "outputs": [
    {
     "data": {
      "text/plain": [
       "[<matplotlib.lines.Line2D at 0x116f49850>]"
      ]
     },
     "execution_count": 114,
     "metadata": {},
     "output_type": "execute_result"
    },
    {
     "data": {
      "image/png": "[encoded data removed]",
      "text/plain": [
       "<matplotlib.figure.Figure at 0x116822390>"
      ]
     },
     "metadata": {},
     "output_type": "display_data"
    }
   ],
   "source": [
    "plt.plot(likelihood_trace)"
   ]
  },
  {
   "cell_type": "code",
   "execution_count": 115,
   "metadata": {
    "collapsed": false
   },
   "outputs": [
    {
     "data": {
      "text/plain": [
       "[<matplotlib.lines.Line2D at 0x117149990>]"
      ]
     },
     "execution_count": 115,
     "metadata": {},
     "output_type": "execute_result"
    },
    {
     "data": {
      "image/png": "[encoded data removed]",
      "text/plain": [
       "<matplotlib.figure.Figure at 0x114738a10>"
      ]
     },
     "metadata": {},
     "output_type": "display_data"
    }
   ],
   "source": [
    "plt.plot(best_likelihood_trace)"
   ]
  },
  {
   "cell_type": "code",
   "execution_count": 116,
   "metadata": {
    "collapsed": false
   },
   "outputs": [
    {
     "data": {
      "text/plain": [
       "476"
      ]
     },
     "execution_count": 116,
     "metadata": {},
     "output_type": "execute_result"
    }
   ],
   "source": [
    "np.sum(np.argmax(best_start, axis=1) == trueCls)"
   ]
  },
  {
   "cell_type": "code",
   "execution_count": 97,
   "metadata": {
    "collapsed": false
   },
   "outputs": [
    {
     "data": {
      "text/plain": [
       "array([3, 0, 2, 1, 3, 1, 3, 2, 1, 1, 3, 2, 2, 0, 3, 2, 1, 0, 3, 1, 0, 0, 0,\n",
       "       2, 2, 2, 0, 3, 0, 2, 3, 3, 0, 1, 0, 3, 3, 1, 3, 1, 0, 1, 3, 1, 1, 0,\n",
       "       2, 0, 1, 3, 3, 3, 2, 1, 1, 1, 3, 3, 3, 2, 1, 0, 0, 1, 0, 2, 2, 3, 1,\n",
       "       0, 0, 2, 3, 1, 1, 2, 0, 3, 0, 2, 0, 1, 0, 2, 2, 2, 1, 0, 2, 1, 2, 3,\n",
       "       2, 0, 0, 1, 2, 3, 3, 2])"
      ]
     },
     "execution_count": 97,
     "metadata": {},
     "output_type": "execute_result"
    }
   ],
   "source": [
    "trueCls"
   ]
  },
  {
   "cell_type": "code",
   "execution_count": 98,
   "metadata": {
    "collapsed": false
   },
   "outputs": [
    {
     "data": {
      "text/plain": [
       "array([3, 0, 2, 1, 3, 1, 1, 2, 1, 1, 3, 0, 1, 0, 3, 2, 3, 0, 3, 1, 0, 3, 0,\n",
       "       2, 2, 2, 0, 1, 0, 2, 3, 3, 0, 1, 0, 1, 3, 3, 0, 1, 0, 2, 3, 1, 1, 0,\n",
       "       2, 3, 2, 3, 3, 3, 0, 1, 1, 1, 1, 3, 2, 2, 1, 0, 0, 0, 0, 2, 3, 1, 1,\n",
       "       2, 3, 2, 3, 1, 3, 0, 0, 3, 0, 2, 2, 1, 0, 2, 2, 2, 1, 0, 2, 1, 2, 3,\n",
       "       2, 0, 0, 1, 2, 3, 3, 2])"
      ]
     },
     "execution_count": 98,
     "metadata": {},
     "output_type": "execute_result"
    }
   ],
   "source": [
    "np.argmax(best_start, axis=1)"
   ]
  },
  {
   "cell_type": "markdown",
   "metadata": {},
   "source": [
    "#### YN case"
   ]
  },
  {
   "cell_type": "code",
   "execution_count": 117,
   "metadata": {
    "collapsed": false
   },
   "outputs": [
    {
     "data": {
      "text/plain": [
       "(200, 5, 4, 2)"
      ]
     },
     "execution_count": 117,
     "metadata": {},
     "output_type": "execute_result"
    }
   ],
   "source": [
    "#Reading in the data\n",
    "data = np.load('../data/preset_YN_200_5_4.npz.npy')\n",
    "trueCls = np.load('../data/preset_MC_200_5_4_reference_classes.npy')\n",
    "data.shape"
   ]
  },
  {
   "cell_type": "code",
   "execution_count": 118,
   "metadata": {
    "collapsed": true
   },
   "outputs": [],
   "source": [
    "#Inferring the number of classes and data length\n",
    "numData = data.shape[0]\n",
    "numExperts = data.shape[1]\n",
    "numClasses = data.shape[2]"
   ]
  },
  {
   "cell_type": "code",
   "execution_count": 120,
   "metadata": {
    "collapsed": true
   },
   "outputs": [],
   "source": [
    "confMatHat = np.eye(numClasses) + 0.001\n",
    "confMatHat = confMatHat/np.sum(confMatHat, axis=1)[:, np.newaxis]\n",
    "#Since each of the k classes have a 1/k ratio in total data\n",
    "data_list = []\n",
    "for idx in range(numClasses):\n",
    "    class_dat = [idx for i in range(numData/numClasses)]\n",
    "    data_list = data_list + class_dat\n",
    "data_num = np.array(data_list)\n",
    "np.random.shuffle(data_num)\n",
    "z = np.eye(numClasses)[data_num]"
   ]
  },
  {
   "cell_type": "code",
   "execution_count": 121,
   "metadata": {
    "collapsed": false
   },
   "outputs": [],
   "source": [
    "def mc_likelihood2(value=data, z=z, confMatHat=confMatHat):\n",
    "    \"\"\"\n",
    "    value - data\n",
    "    z - observed classes\n",
    "    confMat - confidence matrix\n",
    "    \"\"\"\n",
    "    log_like = 0\n",
    "    numData = data.shape[0]\n",
    "    numExperts = data.shape[1]\n",
    "    numClasses = data.shape[2]\n",
    "    for data_idx in range(numData):\n",
    "        dat = data[data_idx]\n",
    "        observed_cls = z[data_idx]\n",
    "        class_num = np.where(observed_cls == 1)[0][0]\n",
    "        data_val = np.sum(dat, axis=0)\n",
    "        computed_val = np.sum(np.multiply(data_val[:,1], np.log(confMatHat[class_num]))) + \\\n",
    "                        np.sum(np.multiply(data_val[:,0], np.log(1-confMatHat[class_num])))\n",
    "        log_like += np.sum(np.multiply(observed_cls, computed_val))\n",
    "    \n",
    "    return log_like"
   ]
  },
  {
   "cell_type": "code",
   "execution_count": 123,
   "metadata": {
    "collapsed": true
   },
   "outputs": [],
   "source": [
    "def simulated_annealing_yn(z, confMat, data, starting_temp=100, reanneal=0.1, num_iterations=100):\n",
    "    temp = starting_temp\n",
    "    likelihood_trace = []\n",
    "    best_likelihood_trace = []\n",
    "    temp_trace = []\n",
    "    best_start = z\n",
    "    best_lik = -np.inf\n",
    "    for i in range(num_iterations):\n",
    "        swap_idx = np.random.choice(range(z.shape[0]), size=2, replace=False)\n",
    "        z_new = swap_rows(z, swap_idx[0], swap_idx[1])\n",
    "        new_lik = mc_likelihood2(data, z_new, confMat)\n",
    "        old_lik = mc_likelihood2(data, z, confMat)\n",
    "        u = np.random.uniform()\n",
    "        prob = min([1, np.exp(-(new_lik - old_lik)/temp)])\n",
    "        #print prob, u\n",
    "        #Always accepting if the likelihood increases\n",
    "        if new_lik > old_lik:\n",
    "            z = z_new\n",
    "            if new_lik > best_lik:\n",
    "                best_lik = new_lik\n",
    "                best_start = z_new\n",
    "            likelihood_trace.append(new_lik)\n",
    "        #Accepting based on the probability if the error does not reduce\n",
    "        elif prob <= u:\n",
    "            z = z_new\n",
    "            if new_lik > best_lik:\n",
    "                best_lik = new_lik\n",
    "                best_start = z\n",
    "            likelihood_trace.append(new_lik)\n",
    "        else:\n",
    "            likelihood_trace.append(old_lik)\n",
    "        #Reducing temperature every 10th iteration\n",
    "        if i%10 == 0:\n",
    "            temp = temp*0.99\n",
    "        #Reannealing if the temperature is too low\n",
    "        if temp < reanneal:\n",
    "            temp = 1\n",
    "        temp_trace.append(temp)\n",
    "        best_likelihood_trace.append(best_lik)\n",
    "    return likelihood_trace, best_likelihood_trace, temp_trace, best_start, best_lik"
   ]
  },
  {
   "cell_type": "code",
   "execution_count": 124,
   "metadata": {
    "collapsed": true
   },
   "outputs": [],
   "source": [
    "likelihood_trace, best_likelihood_trace, temp_trace, best_start, best_lik =\\\n",
    "simulated_annealing_yn(z, confMat, data, num_iterations=20000)"
   ]
  },
  {
   "cell_type": "code",
   "execution_count": 125,
   "metadata": {
    "collapsed": false
   },
   "outputs": [
    {
     "data": {
      "text/plain": [
       "[<matplotlib.lines.Line2D at 0x116e3ca10>]"
      ]
     },
     "execution_count": 125,
     "metadata": {},
     "output_type": "execute_result"
    },
    {
     "data": {
      "image/png": "[encoded data removed]",
      "text/plain": [
       "<matplotlib.figure.Figure at 0x1170d1210>"
      ]
     },
     "metadata": {},
     "output_type": "display_data"
    }
   ],
   "source": [
    "plt.plot(likelihood_trace)"
   ]
  },
  {
   "cell_type": "code",
   "execution_count": 126,
   "metadata": {
    "collapsed": false
   },
   "outputs": [
    {
     "data": {
      "text/plain": [
       "198"
      ]
     },
     "execution_count": 126,
     "metadata": {},
     "output_type": "execute_result"
    }
   ],
   "source": [
    "np.sum(np.argmax(best_start, axis=1) == trueCls)"
   ]
  }
 ],
 "metadata": {
  "kernelspec": {
   "display_name": "Python 2",
   "language": "python",
   "name": "python2"
  },
  "language_info": {
   "codemirror_mode": {
    "name": "ipython",
    "version": 2
   },
   "file_extension": ".py",
   "mimetype": "text/x-python",
   "name": "python",
   "nbconvert_exporter": "python",
   "pygments_lexer": "ipython2",
   "version": "2.7.11"
  }
 },
 "nbformat": 4,
 "nbformat_minor": 0
}
