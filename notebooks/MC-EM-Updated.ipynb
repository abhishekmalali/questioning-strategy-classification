{
 "cells": [
  {
   "cell_type": "code",
   "execution_count": 16,
   "metadata": {
    "collapsed": true
   },
   "outputs": [],
   "source": [
    "import numpy as np\n",
    "import matplotlib.pyplot as plt\n",
    "import scipy.misc as misc\n",
    "%matplotlib inline"
   ]
  },
  {
   "cell_type": "code",
   "execution_count": 80,
   "metadata": {
    "collapsed": true
   },
   "outputs": [],
   "source": [
    "#Reading in the data\n",
    "data = np.load('MC_50_5_4.npz.npy')\n",
    "trueCls = np.load('MC_50_5_4_reference_classes.npy')"
   ]
  },
  {
   "cell_type": "code",
   "execution_count": 81,
   "metadata": {
    "collapsed": false
   },
   "outputs": [
    {
     "data": {
      "text/plain": [
       "(50, 5, 4)"
      ]
     },
     "execution_count": 81,
     "metadata": {},
     "output_type": "execute_result"
    }
   ],
   "source": [
    "data.shape"
   ]
  },
  {
   "cell_type": "code",
   "execution_count": 82,
   "metadata": {
    "collapsed": true
   },
   "outputs": [],
   "source": [
    "#Inferring the number of classes and data length\n",
    "numData = data.shape[0]\n",
    "numExperts = data.shape[1]\n",
    "numClasses = data.shape[2]"
   ]
  },
  {
   "cell_type": "code",
   "execution_count": 100,
   "metadata": {
    "collapsed": true
   },
   "outputs": [],
   "source": [
    "#Initialization\n",
    "alpha = [1, 1, 1, 1]\n",
    "z = np.random.dirichlet(alpha, size=numData)\n",
    "observed_classes = np.argmax(z, axis=1)\n",
    "pi = np.random.dirichlet(alpha, size=1)[0]\n",
    "lam = 10\n",
    "lambda_mat = lam*np.eye( numClasses) + np.ones((numClasses, numClasses))\n",
    "ConfMatList = []\n",
    "for exp_index in range(numExperts):\n",
    "    confMat = []\n",
    "    for cls_idx in range(numClasses):\n",
    "        confMat.append(np.random.dirichlet(lambda_mat[cls_idx,:],1)[0])\n",
    "    ConfMatList.append(np.array(confMat))\n",
    "confMatArray = np.array(ConfMatList)"
   ]
  },
  {
   "cell_type": "code",
   "execution_count": 101,
   "metadata": {
    "collapsed": false
   },
   "outputs": [
    {
     "data": {
      "text/plain": [
       "array([[ 0.00622724,  0.92067626,  0.05015753,  0.02293897],\n",
       "       [ 0.03432603,  0.52166703,  0.4272846 ,  0.01672234],\n",
       "       [ 0.06379113,  0.82654313,  0.03994267,  0.06972308],\n",
       "       [ 0.05456899,  0.82029447,  0.03817707,  0.08695948],\n",
       "       [ 0.04002401,  0.88567101,  0.0698409 ,  0.00446408]])"
      ]
     },
     "execution_count": 101,
     "metadata": {},
     "output_type": "execute_result"
    }
   ],
   "source": [
    "confMatArray[:,1,:]"
   ]
  },
  {
   "cell_type": "code",
   "execution_count": 102,
   "metadata": {
    "collapsed": true
   },
   "outputs": [],
   "source": [
    "def compute_LL(data, confMatArray, z, pi, obs_classes):\n",
    "    log_like = 0\n",
    "    numData = data.shape[0]\n",
    "    numExperts = data.shape[1]\n",
    "    numClasses = data.shape[2]\n",
    "    for data_idx in range(numData):\n",
    "        data_val = data[data_idx]\n",
    "        z_val = z[data_idx]\n",
    "        obs_val = obs_classes[data_idx]\n",
    "        for cls_idx in range(numClasses):\n",
    "            log_like += z_val[cls_idx]*(np.log(pi[cls_idx]) + \\\n",
    "                    np.sum(np.multiply(np.log(confMatArray[:, obs_val, cls_idx]), \\\n",
    "                                data_val[:, cls_idx])))\n",
    "    return log_like"
   ]
  },
  {
   "cell_type": "code",
   "execution_count": 103,
   "metadata": {
    "collapsed": true
   },
   "outputs": [],
   "source": [
    "def E_step(data, confMatArray, pi, obs_classes):\n",
    "    numData = data.shape[0]\n",
    "    numExperts = data.shape[1]\n",
    "    numClasses = data.shape[2]\n",
    "    \n",
    "    posterior = np.zeros(z.shape)\n",
    "    for data_idx in range(numData):\n",
    "        data_val = data[data_idx]\n",
    "        obs_val = obs_classes[data_idx]\n",
    "        for cls_idx in range(numClasses):\n",
    "            posterior[data_idx, cls_idx] += np.log(pi[cls_idx]) + \\\n",
    "            np.sum(np.multiply(np.log(confMatArray[:, obs_val, cls_idx]),\\\n",
    "                                data_val[:, cls_idx]))\n",
    "    \n",
    "    log_denum_sum = misc.logsumexp(posterior, axis=1)\n",
    "    norm_posterior = np.exp(posterior - log_denum_sum[:, np.newaxis])\n",
    "    return norm_posterior"
   ]
  },
  {
   "cell_type": "code",
   "execution_count": 104,
   "metadata": {
    "collapsed": true
   },
   "outputs": [],
   "source": [
    "def M_Step(data, confMatArray, z, pi, obs_classes):\n",
    "    numData = data.shape[0]\n",
    "    numExperts = data.shape[1]\n",
    "    numClasses = data.shape[2]\n",
    "    \n",
    "    #computing pi update\n",
    "    newPi = np.mean(z, axis=0)\n",
    "    \n",
    "    #computing Confusion Matrix updates\n",
    "    newConfMatArray = np.array([0.1*np.ones((numClasses, numClasses)) for idx in range(numExperts)])\n",
    "    for e_idx in range(numExperts):\n",
    "        for cls_idx in range(numClasses):\n",
    "            dat = data[observed_classes == cls_idx]\n",
    "            z_dat = z[observed_classes == cls_idx]\n",
    "            for row_cls_idx in range(numClasses):\n",
    "                newConfMatArray[e_idx, cls_idx, row_cls_idx] = \\\n",
    "                np.sum(np.multiply(dat[:,e_idx,row_cls_idx], z_dat[:, row_cls_idx]))\n",
    "    newConfMatArray = newConfMatArray/newConfMatArray.sum(axis=(2))[:,:,np.newaxis]\n",
    "    return newConfMatArray, newPi"
   ]
  },
  {
   "cell_type": "code",
   "execution_count": 105,
   "metadata": {
    "collapsed": false
   },
   "outputs": [
    {
     "data": {
      "text/plain": [
       "-171.04412885564813"
      ]
     },
     "execution_count": 105,
     "metadata": {},
     "output_type": "execute_result"
    }
   ],
   "source": [
    "compute_LL(data, confMatArray, z, pi, observed_classes)"
   ]
  },
  {
   "cell_type": "code",
   "execution_count": 106,
   "metadata": {
    "collapsed": false
   },
   "outputs": [
    {
     "name": "stdout",
     "output_type": "stream",
     "text": [
      "Likelihood in iteration %f is %f 1 -72.3142767173\n",
      "Likelihood in iteration %f is %f 2 -74.0777811798\n",
      "Likelihood in iteration %f is %f 3 -74.6270279028\n",
      "Likelihood in iteration %f is %f 4 -74.7437782776\n",
      "Likelihood in iteration %f is %f 5 -74.7359700486\n",
      "Likelihood in iteration %f is %f 6 -74.70361423\n",
      "Likelihood in iteration %f is %f 7 -74.6752881357\n",
      "Likelihood in iteration %f is %f 8 -74.6565410229\n",
      "Likelihood in iteration %f is %f 9 -74.6462821659\n",
      "Likelihood in iteration %f is %f 10 -74.6421102399\n",
      "Likelihood in iteration %f is %f 11 -74.641872465\n",
      "Likelihood in iteration %f is %f 12 -74.6439820342\n",
      "Likelihood in iteration %f is %f 13 -74.6473663643\n",
      "Likelihood in iteration %f is %f 14 -74.6513373573\n",
      "Likelihood in iteration %f is %f 15 -74.6554716587\n",
      "Likelihood in iteration %f is %f 16 -74.6595202317\n",
      "Likelihood in iteration %f is %f 17 -74.6633454855\n",
      "Likelihood in iteration %f is %f 18 -74.6668793919\n",
      "Likelihood in iteration %f is %f 19 -74.6700962877\n",
      "Likelihood in iteration %f is %f 20 -74.6729955212\n",
      "Likelihood in iteration %f is %f 21 -74.6755905374\n",
      "Likelihood in iteration %f is %f 22 -74.6779021119\n",
      "Likelihood in iteration %f is %f 23 -74.6799542275\n",
      "Likelihood in iteration %f is %f 24 -74.6817716198\n",
      "Likelihood in iteration %f is %f 25 -74.683378369\n",
      "Likelihood in iteration %f is %f 26 -74.6847971389\n",
      "Likelihood in iteration %f is %f 27 -74.6860488127\n",
      "Likelihood in iteration %f is %f 28 -74.6871523664\n",
      "Likelihood in iteration %f is %f 29 -74.688124881\n",
      "Likelihood in iteration %f is %f 30 -74.6889816325\n",
      "Likelihood in iteration %f is %f 31 -74.6897362198\n",
      "Likelihood in iteration %f is %f 32 -74.6904007108\n",
      "Likelihood in iteration %f is %f 33 -74.6909857896\n",
      "Likelihood in iteration %f is %f 34 -74.6915009\n",
      "Likelihood in iteration %f is %f 35 -74.6919543799\n",
      "Likelihood in iteration %f is %f 36 -74.6923535842\n",
      "Likelihood in iteration %f is %f 37 -74.6927049969\n",
      "Likelihood in iteration %f is %f 38 -74.6930143321\n",
      "Likelihood in iteration %f is %f 39 -74.6932866231\n",
      "Likelihood in iteration %f is %f 40 -74.6935263031\n",
      "Likelihood in iteration %f is %f 41 -74.6937372759\n",
      "Likelihood in iteration %f is %f 42 -74.6939229786\n",
      "Likelihood in iteration %f is %f 43 -74.6940864373\n",
      "Likelihood in iteration %f is %f 44 -74.694230316\n",
      "Likelihood in iteration %f is %f 45 -74.6943569598\n",
      "Likelihood in iteration %f is %f 46 -74.6944684331\n",
      "Likelihood in iteration %f is %f 47 -74.6945665529\n",
      "Likelihood in iteration %f is %f 48 -74.694652919\n",
      "Likelihood in iteration %f is %f 49 -74.6947289391\n",
      "Likelihood in iteration %f is %f 50 -74.6947958528\n",
      "Likelihood in iteration %f is %f 51 -74.6948547507\n",
      "Likelihood in iteration %f is %f 52 -74.6949065932\n",
      "Likelihood in iteration %f is %f 53 -74.6949522255\n",
      "Likelihood in iteration %f is %f 54 -74.6949923914\n",
      "Likelihood in iteration %f is %f 55 -74.6950277457\n",
      "Likelihood in iteration %f is %f 56 -74.695058865\n",
      "Likelihood in iteration %f is %f 57 -74.6950862564\n",
      "Likelihood in iteration %f is %f 58 -74.6951103666\n",
      "Likelihood in iteration %f is %f 59 -74.6951315886\n",
      "Likelihood in iteration %f is %f 60 -74.6951502684\n",
      "Likelihood in iteration %f is %f 61 -74.6951667106\n",
      "Likelihood in iteration %f is %f 62 -74.6951811831\n",
      "Likelihood in iteration %f is %f 63 -74.695193922\n",
      "Likelihood in iteration %f is %f 64 -74.6952051348\n",
      "Likelihood in iteration %f is %f 65 -74.6952150045\n",
      "Likelihood in iteration %f is %f 66 -74.6952236919\n",
      "Likelihood in iteration %f is %f 67 -74.6952313386\n",
      "Likelihood in iteration %f is %f 68 -74.6952380693\n",
      "Likelihood in iteration %f is %f 69 -74.6952439938\n",
      "Likelihood in iteration %f is %f 70 -74.6952492085\n",
      "Likelihood in iteration %f is %f 71 -74.6952537986\n",
      "Likelihood in iteration %f is %f 72 -74.6952578388\n",
      "Likelihood in iteration %f is %f 73 -74.6952613951\n",
      "Likelihood in iteration %f is %f 74 -74.6952645253\n",
      "Likelihood in iteration %f is %f 75 -74.6952672806\n",
      "Likelihood in iteration %f is %f 76 -74.6952697058\n",
      "Likelihood in iteration %f is %f 77 -74.6952718405\n",
      "Likelihood in iteration %f is %f 78 -74.6952737195\n",
      "Likelihood in iteration %f is %f 79 -74.6952753734\n",
      "Likelihood in iteration %f is %f 80 -74.6952768292\n",
      "Likelihood in iteration %f is %f 81 -74.6952781106\n",
      "Likelihood in iteration %f is %f 82 -74.6952792385\n",
      "Likelihood in iteration %f is %f 83 -74.6952802313\n",
      "Likelihood in iteration %f is %f 84 -74.6952811052\n",
      "Likelihood in iteration %f is %f 85 -74.6952818743\n",
      "Likelihood in iteration %f is %f 86 -74.6952825514\n",
      "Likelihood in iteration %f is %f 87 -74.6952831473\n",
      "Likelihood in iteration %f is %f 88 -74.6952836719\n",
      "Likelihood in iteration %f is %f 89 -74.6952841336\n",
      "Likelihood in iteration %f is %f 90 -74.69528454\n",
      "Likelihood in iteration %f is %f 91 -74.6952848977\n",
      "Likelihood in iteration %f is %f 92 -74.6952852126\n",
      "Likelihood in iteration %f is %f 93 -74.6952854897\n",
      "Likelihood in iteration %f is %f 94 -74.6952857337\n",
      "Likelihood in iteration %f is %f 95 -74.6952859484\n",
      "Likelihood in iteration %f is %f 96 -74.6952861374\n",
      "Likelihood in iteration %f is %f 97 -74.6952863038\n",
      "Likelihood in iteration %f is %f 98 -74.6952864502\n",
      "Likelihood in iteration %f is %f 99 -74.6952865791\n",
      "Likelihood in iteration %f is %f 100 -74.6952866926\n"
     ]
    }
   ],
   "source": [
    "for i in range(100):\n",
    "    z = E_step(data, confMatArray, pi, observed_classes)\n",
    "    ConfMatArray, pi = M_Step(data, confMatArray, z, pi, observed_classes)\n",
    "    print \"Likelihood in iteration %f is %f\", i+1, compute_LL(data, confMatArray, z, pi, observed_classes)"
   ]
  },
  {
   "cell_type": "code",
   "execution_count": 107,
   "metadata": {
    "collapsed": false
   },
   "outputs": [
    {
     "data": {
      "text/plain": [
       "array([0, 0, 0, 0, 1, 0, 1, 0, 0, 3, 0, 3, 0, 0, 0, 0, 0, 1, 1, 0, 0, 1, 0,\n",
       "       1, 0, 0, 0, 0, 0, 1, 1, 1, 1, 1, 1, 3, 1, 3, 0, 3, 0, 0, 0, 1, 0, 1,\n",
       "       0, 1, 3, 1])"
      ]
     },
     "execution_count": 107,
     "metadata": {},
     "output_type": "execute_result"
    }
   ],
   "source": [
    "np.argmax(z, axis=1)"
   ]
  },
  {
   "cell_type": "code",
   "execution_count": 108,
   "metadata": {
    "collapsed": false
   },
   "outputs": [
    {
     "data": {
      "text/plain": [
       "array([3, 1, 1, 2, 2, 2, 3, 1, 1, 2, 2, 1, 1, 1, 1, 1, 1, 0, 0, 3, 2, 0, 2,\n",
       "       0, 1, 1, 3, 3, 2, 2, 3, 0, 0, 3, 1, 0, 0, 0, 2, 0, 2, 3, 1, 3, 2, 2,\n",
       "       3, 2, 2, 0])"
      ]
     },
     "execution_count": 108,
     "metadata": {},
     "output_type": "execute_result"
    }
   ],
   "source": [
    "trueCls"
   ]
  },
  {
   "cell_type": "code",
   "execution_count": null,
   "metadata": {
    "collapsed": true
   },
   "outputs": [],
   "source": []
  }
 ],
 "metadata": {
  "kernelspec": {
   "display_name": "Python 2",
   "language": "python",
   "name": "python2"
  },
  "language_info": {
   "codemirror_mode": {
    "name": "ipython",
    "version": 2
   },
   "file_extension": ".py",
   "mimetype": "text/x-python",
   "name": "python",
   "nbconvert_exporter": "python",
   "pygments_lexer": "ipython2",
   "version": "2.7.11"
  }
 },
 "nbformat": 4,
 "nbformat_minor": 0
}
