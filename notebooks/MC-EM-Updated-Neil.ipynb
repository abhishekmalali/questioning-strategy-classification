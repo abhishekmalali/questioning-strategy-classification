{
 "cells": [
  {
   "cell_type": "code",
   "execution_count": 487,
   "metadata": {
    "collapsed": true
   },
   "outputs": [],
   "source": [
    "import numpy as np\n",
    "import matplotlib.pyplot as plt\n",
    "import scipy.misc as misc\n",
    "%matplotlib inline"
   ]
  },
  {
   "cell_type": "code",
   "execution_count": 962,
   "metadata": {
    "collapsed": true
   },
   "outputs": [],
   "source": [
    "#Reading in the data\n",
    "data = np.load('MC_50_5_4.npz.npy')\n",
    "trueCls = np.load('MC_50_5_4_reference_classes.npy')"
   ]
  },
  {
   "cell_type": "code",
   "execution_count": 1083,
   "metadata": {
    "collapsed": true
   },
   "outputs": [],
   "source": [
    "#Inferring the number of classes and data length\n",
    "numData = data.shape[0]\n",
    "numExperts = data.shape[1]\n",
    "numClasses = data.shape[2]"
   ]
  },
  {
   "cell_type": "code",
   "execution_count": 1092,
   "metadata": {
    "collapsed": true
   },
   "outputs": [],
   "source": [
    "#Initialization\n",
    "alpha = [1, 1, 1, 1]\n",
    "z = np.random.dirichlet(alpha, size=numData)\n",
    "observed_classes = np.argmax(z, axis=1)\n",
    "\n",
    "pi = np.random.dirichlet(alpha, size=1)[0]\n",
    "lam = 10\n",
    "lambda_mat = lam*np.eye( numClasses) + np.ones((numClasses, numClasses))\n",
    "ConfMatList = []\n",
    "for exp_index in range(numExperts):\n",
    "    confMat = []\n",
    "    for cls_idx in range(numClasses):\n",
    "        confMat.append(np.random.dirichlet(lambda_mat[cls_idx,:],1)[0])\n",
    "    ConfMatList.append(np.array(confMat))\n",
    "confMatArray = np.array(ConfMatList)"
   ]
  },
  {
   "cell_type": "code",
   "execution_count": 1126,
   "metadata": {
    "collapsed": false
   },
   "outputs": [
    {
     "data": {
      "text/plain": [
       "array([[ 11.,   1.,   1.,   1.],\n",
       "       [  1.,  11.,   1.,   1.],\n",
       "       [  1.,   1.,  11.,   1.],\n",
       "       [  1.,   1.,   1.,  11.]])"
      ]
     },
     "execution_count": 1126,
     "metadata": {},
     "output_type": "execute_result"
    }
   ],
   "source": [
    "lambda_mat"
   ]
  },
  {
   "cell_type": "code",
   "execution_count": 1093,
   "metadata": {
    "collapsed": false
   },
   "outputs": [],
   "source": [
    "confMatArray = confMatArray/confMatArray.sum(axis=(2))[:,:,np.newaxis]"
   ]
  },
  {
   "cell_type": "code",
   "execution_count": 1094,
   "metadata": {
    "collapsed": false
   },
   "outputs": [],
   "source": [
    "def compute_LL(data, confMatArray, z, pi):\n",
    "    log_like = 0\n",
    "    numData = data.shape[0]\n",
    "    numExperts = data.shape[1]\n",
    "    numClasses = data.shape[2]\n",
    "    obs_classes = np.argmax(z,axis=1)\n",
    "    for data_idx in range(numData):\n",
    "        data_val = data[data_idx]\n",
    "        z_val = z[data_idx]\n",
    "        obs_val = np.argmax(data_val,axis=1)\n",
    "        for cls_idx in range(numClasses):\n",
    "            log_like += z_val[cls_idx]*(np.log(pi[cls_idx]) + \\\n",
    "                    np.sum(np.multiply(np.log(confMatArray[:, obs_val, cls_idx]), \\\n",
    "                                data_val[:, cls_idx])))\n",
    "    return log_like"
   ]
  },
  {
   "cell_type": "code",
   "execution_count": 1125,
   "metadata": {
    "collapsed": false
   },
   "outputs": [
    {
     "data": {
      "text/plain": [
       "(50, 5)"
      ]
     },
     "execution_count": 1125,
     "metadata": {},
     "output_type": "execute_result"
    }
   ],
   "source": [
    "np.argmax(data,axis=2).shape"
   ]
  },
  {
   "cell_type": "code",
   "execution_count": 1096,
   "metadata": {
    "collapsed": false
   },
   "outputs": [],
   "source": [
    "def E_step(data, confMatArray, pi, obs_classes):\n",
    "    numData = data.shape[0]\n",
    "    numExperts = data.shape[1]\n",
    "    numClasses = data.shape[2]\n",
    "    z = np.zeros((numData,numClasses))\n",
    "    for i in range(numData):\n",
    "        r = np.argmax(data[i],axis)\n",
    "        for k in range(numClasses):\n",
    "            z[i, k] = pi[k]*np.sum(confMatArray[:,k,r])\n",
    "    return z/z.sum(axis=1)[:,np.newaxis]\n"
   ]
  },
  {
   "cell_type": "code",
   "execution_count": 1097,
   "metadata": {
    "collapsed": true
   },
   "outputs": [],
   "source": [
    "def M_Step(data, z):\n",
    "    numData = data.shape[0]\n",
    "    numExperts = data.shape[1]\n",
    "    numClasses = data.shape[2]\n",
    "    r = np.argmax(data,axis=2)\n",
    "    newPi = np.mean(z, axis=0)\n",
    "    newConfMatArray = np.empty(confMatArray.shape)\n",
    "    for j in range(numExperts):\n",
    "        for k in range(numClasses):\n",
    "            dat = data[observed_classes == k]\n",
    "            for t in range(numClasses):\n",
    "                newConfMatArray\n",
    "#                 newConfMatArray[e_idx, cls_idx, row_cls_idx] = 0.00001 + \\\n",
    "#                 np.sum(np.multiply(dat[:,e_idx,row_cls_idx], z_dat[:, row_cls_idx]))\n",
    "#     newConfMatArray = newConfMatArray/newConfMatArray.sum(axis=(2))[:,:,np.newaxis]\n",
    "#     return newConfMatArray, newPi"
   ]
  },
  {
   "cell_type": "code",
   "execution_count": 1098,
   "metadata": {
    "collapsed": false
   },
   "outputs": [
    {
     "data": {
      "text/plain": [
       "-166.75445668144593"
      ]
     },
     "execution_count": 1098,
     "metadata": {},
     "output_type": "execute_result"
    }
   ],
   "source": [
    "compute_LL(data, confMatArray, z, pi)"
   ]
  },
  {
   "cell_type": "code",
   "execution_count": 1099,
   "metadata": {
    "collapsed": false
   },
   "outputs": [
    {
     "name": "stdout",
     "output_type": "stream",
     "text": [
      "Likelihood in iteration %f is %f 1 -600.721322227\n",
      "Likelihood in iteration %f is %f 2 -76.2494896234\n",
      "Likelihood in iteration %f is %f 3 -101.993466568\n",
      "Likelihood in iteration %f is %f 4 -76.8515019251\n",
      "Likelihood in iteration %f is %f 5 -106.90021428\n",
      "Likelihood in iteration %f is %f 6 -75.6212820455\n",
      "Likelihood in iteration %f is %f 7 -112.218877592\n",
      "Likelihood in iteration %f is %f 8 -75.3520014436\n",
      "Likelihood in iteration %f is %f 9 -118.172483991\n",
      "Likelihood in iteration %f is %f 10 -75.3400032584\n",
      "Likelihood in iteration %f is %f 11 -122.56737513\n",
      "Likelihood in iteration %f is %f 12 -75.4004750697\n",
      "Likelihood in iteration %f is %f 13 -123.67860513\n",
      "Likelihood in iteration %f is %f 14 -75.4405286692\n",
      "Likelihood in iteration %f is %f 15 -123.817470828\n",
      "Likelihood in iteration %f is %f 16 -75.4565417614\n",
      "Likelihood in iteration %f is %f 17 -123.834701513\n",
      "Likelihood in iteration %f is %f 18 -75.4623026001\n",
      "Likelihood in iteration %f is %f 19 -123.837691447\n",
      "Likelihood in iteration %f is %f 20 -75.4643538958\n",
      "Likelihood in iteration %f is %f 21 -123.83843005\n",
      "Likelihood in iteration %f is %f 22 -75.4650930913\n",
      "Likelihood in iteration %f is %f 23 -123.838654295\n",
      "Likelihood in iteration %f is %f 24 -75.4653638354\n",
      "Likelihood in iteration %f is %f 25 -123.838729432\n",
      "Likelihood in iteration %f is %f 26 -75.4654646345\n",
      "Likelihood in iteration %f is %f 27 -123.838755951\n",
      "Likelihood in iteration %f is %f 28 -75.465502747\n",
      "Likelihood in iteration %f is %f 29 -123.838765625\n",
      "Likelihood in iteration %f is %f 30 -75.4655173655\n",
      "Likelihood in iteration %f is %f 31 -123.83876924\n",
      "Likelihood in iteration %f is %f 32 -75.4655230467\n",
      "Likelihood in iteration %f is %f 33 -123.838770617\n",
      "Likelihood in iteration %f is %f 34 -75.4655252808\n",
      "Likelihood in iteration %f is %f 35 -123.83877115\n",
      "Likelihood in iteration %f is %f 36 -75.4655261687\n",
      "Likelihood in iteration %f is %f 37 -123.838771359\n",
      "Likelihood in iteration %f is %f 38 -75.4655265247\n",
      "Likelihood in iteration %f is %f 39 -123.838771442\n",
      "Likelihood in iteration %f is %f 40 -75.4655266687\n",
      "Likelihood in iteration %f is %f 41 -123.838771475\n",
      "Likelihood in iteration %f is %f 42 -75.4655267272\n",
      "Likelihood in iteration %f is %f 43 -123.838771488\n",
      "Likelihood in iteration %f is %f 44 -75.4655267512\n",
      "Likelihood in iteration %f is %f 45 -123.838771494\n",
      "Likelihood in iteration %f is %f 46 -75.4655267611\n",
      "Likelihood in iteration %f is %f 47 -123.838771496\n",
      "Likelihood in iteration %f is %f 48 -75.4655267651\n",
      "Likelihood in iteration %f is %f 49 -123.838771497\n",
      "Likelihood in iteration %f is %f 50 -75.4655267668\n",
      "Likelihood in iteration %f is %f 51 -123.838771497\n",
      "Likelihood in iteration %f is %f 52 -75.4655267675\n",
      "Likelihood in iteration %f is %f 53 -123.838771497\n",
      "Likelihood in iteration %f is %f 54 -75.4655267678\n",
      "Likelihood in iteration %f is %f 55 -123.838771498\n",
      "Likelihood in iteration %f is %f 56 -75.4655267679\n",
      "Likelihood in iteration %f is %f 57 -123.838771498\n",
      "Likelihood in iteration %f is %f 58 -75.465526768\n",
      "Likelihood in iteration %f is %f 59 -123.838771498\n",
      "Likelihood in iteration %f is %f 60 -75.465526768\n",
      "Likelihood in iteration %f is %f 61 -123.838771498\n",
      "Likelihood in iteration %f is %f 62 -75.465526768\n",
      "Likelihood in iteration %f is %f 63 -123.838771498\n",
      "Likelihood in iteration %f is %f 64 -75.465526768\n",
      "Likelihood in iteration %f is %f 65 -123.838771498\n",
      "Likelihood in iteration %f is %f 66 -75.465526768\n",
      "Likelihood in iteration %f is %f 67 -123.838771498\n",
      "Likelihood in iteration %f is %f 68 -75.465526768\n",
      "Likelihood in iteration %f is %f 69 -123.838771498\n",
      "Likelihood in iteration %f is %f 70 -75.465526768\n",
      "Likelihood in iteration %f is %f 71 -123.838771498\n",
      "Likelihood in iteration %f is %f 72 -75.465526768\n",
      "Likelihood in iteration %f is %f 73 -123.838771498\n",
      "Likelihood in iteration %f is %f 74 -75.465526768\n",
      "Likelihood in iteration %f is %f 75 -123.838771498\n",
      "Likelihood in iteration %f is %f 76 -75.465526768\n",
      "Likelihood in iteration %f is %f 77 -123.838771498\n",
      "Likelihood in iteration %f is %f 78 -75.465526768\n",
      "Likelihood in iteration %f is %f 79 -123.838771498\n",
      "Likelihood in iteration %f is %f 80 -75.465526768\n",
      "Likelihood in iteration %f is %f 81 -123.838771498\n",
      "Likelihood in iteration %f is %f 82 -75.465526768\n",
      "Likelihood in iteration %f is %f 83 -123.838771498\n",
      "Likelihood in iteration %f is %f 84 -75.465526768\n",
      "Likelihood in iteration %f is %f 85 -123.838771498\n",
      "Likelihood in iteration %f is %f 86 -75.465526768\n",
      "Likelihood in iteration %f is %f 87 -123.838771498\n",
      "Likelihood in iteration %f is %f 88 -75.465526768\n",
      "Likelihood in iteration %f is %f 89 -123.838771498\n",
      "Likelihood in iteration %f is %f 90 -75.465526768\n",
      "Likelihood in iteration %f is %f 91 -123.838771498\n",
      "Likelihood in iteration %f is %f 92 -75.465526768\n",
      "Likelihood in iteration %f is %f 93 -123.838771498\n",
      "Likelihood in iteration %f is %f 94 -75.465526768\n",
      "Likelihood in iteration %f is %f 95 -123.838771498\n",
      "Likelihood in iteration %f is %f 96 -75.465526768\n",
      "Likelihood in iteration %f is %f 97 -123.838771498\n",
      "Likelihood in iteration %f is %f 98 -75.465526768\n",
      "Likelihood in iteration %f is %f 99 -123.838771498\n",
      "Likelihood in iteration %f is %f 100 -75.465526768\n",
      "Likelihood in iteration %f is %f 101 -123.838771498\n",
      "Likelihood in iteration %f is %f 102 -75.465526768\n",
      "Likelihood in iteration %f is %f 103 -123.838771498\n",
      "Likelihood in iteration %f is %f 104 -75.465526768\n",
      "Likelihood in iteration %f is %f 105 -123.838771498\n",
      "Likelihood in iteration %f is %f 106 -75.465526768\n",
      "Likelihood in iteration %f is %f 107 -123.838771498\n",
      "Likelihood in iteration %f is %f 108 -75.465526768\n",
      "Likelihood in iteration %f is %f 109 -123.838771498\n",
      "Likelihood in iteration %f is %f 110 -75.465526768\n",
      "Likelihood in iteration %f is %f 111 -123.838771498\n",
      "Likelihood in iteration %f is %f 112 -75.465526768\n",
      "Likelihood in iteration %f is %f 113 -123.838771498\n",
      "Likelihood in iteration %f is %f 114 -75.465526768\n",
      "Likelihood in iteration %f is %f 115 -123.838771498\n",
      "Likelihood in iteration %f is %f 116 -75.465526768\n",
      "Likelihood in iteration %f is %f 117 -123.838771498\n",
      "Likelihood in iteration %f is %f 118 -75.465526768\n",
      "Likelihood in iteration %f is %f 119 -123.838771498\n",
      "Likelihood in iteration %f is %f 120 -75.465526768\n",
      "Likelihood in iteration %f is %f 121 -123.838771498\n",
      "Likelihood in iteration %f is %f 122 -75.465526768\n",
      "Likelihood in iteration %f is %f 123 -123.838771498\n",
      "Likelihood in iteration %f is %f 124 -75.465526768\n",
      "Likelihood in iteration %f is %f 125 -123.838771498\n",
      "Likelihood in iteration %f is %f 126 -75.465526768\n",
      "Likelihood in iteration %f is %f 127 -123.838771498\n",
      "Likelihood in iteration %f is %f 128 -75.465526768\n",
      "Likelihood in iteration %f is %f 129 -123.838771498\n",
      "Likelihood in iteration %f is %f 130 -75.465526768\n",
      "Likelihood in iteration %f is %f 131 -123.838771498\n",
      "Likelihood in iteration %f is %f 132 -75.465526768\n",
      "Likelihood in iteration %f is %f 133 -123.838771498\n",
      "Likelihood in iteration %f is %f 134 -75.465526768\n",
      "Likelihood in iteration %f is %f 135 -123.838771498\n",
      "Likelihood in iteration %f is %f 136 -75.465526768\n",
      "Likelihood in iteration %f is %f 137 -123.838771498\n",
      "Likelihood in iteration %f is %f 138 -75.465526768\n",
      "Likelihood in iteration %f is %f 139 -123.838771498\n",
      "Likelihood in iteration %f is %f 140 -75.465526768\n",
      "Likelihood in iteration %f is %f 141 -123.838771498\n",
      "Likelihood in iteration %f is %f 142 -75.465526768\n",
      "Likelihood in iteration %f is %f 143 -123.838771498\n",
      "Likelihood in iteration %f is %f 144 -75.465526768\n",
      "Likelihood in iteration %f is %f 145 -123.838771498\n",
      "Likelihood in iteration %f is %f 146 -75.465526768\n",
      "Likelihood in iteration %f is %f 147 -123.838771498\n",
      "Likelihood in iteration %f is %f 148 -75.465526768\n",
      "Likelihood in iteration %f is %f 149 -123.838771498\n",
      "Likelihood in iteration %f is %f 150 -75.465526768\n",
      "Likelihood in iteration %f is %f 151 -123.838771498\n",
      "Likelihood in iteration %f is %f 152 -75.465526768\n",
      "Likelihood in iteration %f is %f 153 -123.838771498\n",
      "Likelihood in iteration %f is %f 154 -75.465526768\n",
      "Likelihood in iteration %f is %f 155 -123.838771498\n",
      "Likelihood in iteration %f is %f 156 -75.465526768\n",
      "Likelihood in iteration %f is %f 157 -123.838771498\n",
      "Likelihood in iteration %f is %f 158 -75.465526768\n",
      "Likelihood in iteration %f is %f 159 -123.838771498\n",
      "Likelihood in iteration %f is %f 160 -75.465526768\n",
      "Likelihood in iteration %f is %f 161 -123.838771498\n",
      "Likelihood in iteration %f is %f 162 -75.465526768\n",
      "Likelihood in iteration %f is %f 163 -123.838771498\n",
      "Likelihood in iteration %f is %f 164 -75.465526768\n",
      "Likelihood in iteration %f is %f 165 -123.838771498\n",
      "Likelihood in iteration %f is %f 166 -75.465526768\n",
      "Likelihood in iteration %f is %f 167 -123.838771498\n",
      "Likelihood in iteration %f is %f 168 -75.465526768\n",
      "Likelihood in iteration %f is %f 169 -123.838771498\n",
      "Likelihood in iteration %f is %f 170 -75.465526768\n",
      "Likelihood in iteration %f is %f 171 -123.838771498\n",
      "Likelihood in iteration %f is %f 172 -75.465526768\n",
      "Likelihood in iteration %f is %f 173 -123.838771498\n",
      "Likelihood in iteration %f is %f 174 -75.465526768\n",
      "Likelihood in iteration %f is %f 175 -123.838771498\n",
      "Likelihood in iteration %f is %f 176 -75.465526768\n",
      "Likelihood in iteration %f is %f 177 -123.838771498\n",
      "Likelihood in iteration %f is %f 178 -75.465526768\n",
      "Likelihood in iteration %f is %f 179 -123.838771498\n",
      "Likelihood in iteration %f is %f 180 -75.465526768\n",
      "Likelihood in iteration %f is %f 181 -123.838771498\n",
      "Likelihood in iteration %f is %f 182 -75.465526768\n",
      "Likelihood in iteration %f is %f 183 -123.838771498\n",
      "Likelihood in iteration %f is %f 184 -75.465526768\n",
      "Likelihood in iteration %f is %f 185 -123.838771498\n",
      "Likelihood in iteration %f is %f 186 -75.465526768\n",
      "Likelihood in iteration %f is %f 187 -123.838771498\n",
      "Likelihood in iteration %f is %f 188 -75.465526768\n",
      "Likelihood in iteration %f is %f 189 -123.838771498\n",
      "Likelihood in iteration %f is %f 190 -75.465526768\n",
      "Likelihood in iteration %f is %f 191 -123.838771498\n",
      "Likelihood in iteration %f is %f 192 -75.465526768\n",
      "Likelihood in iteration %f is %f 193 -123.838771498\n",
      "Likelihood in iteration %f is %f 194 -75.465526768\n",
      "Likelihood in iteration %f is %f 195 -123.838771498\n",
      "Likelihood in iteration %f is %f 196 -75.465526768\n",
      "Likelihood in iteration %f is %f 197 -123.838771498\n",
      "Likelihood in iteration %f is %f 198 -75.465526768\n",
      "Likelihood in iteration %f is %f 199 -123.838771498\n",
      "Likelihood in iteration %f is %f 200 -75.465526768\n"
     ]
    }
   ],
   "source": [
    "for i in range(200):\n",
    "    z = E_step(data, confMatArray, pi, np.argmax(z,axis=1))\n",
    "    confMatArray, pi = M_Step(data, z)\n",
    "    print \"Likelihood in iteration %f is %f\", i+1, compute_LL(data, confMatArray, z, pi)"
   ]
  },
  {
   "cell_type": "code",
   "execution_count": 1100,
   "metadata": {
    "collapsed": false
   },
   "outputs": [
    {
     "data": {
      "text/plain": [
       "array([ 0.37047953,  0.15441723,  0.22194622,  0.25315702])"
      ]
     },
     "execution_count": 1100,
     "metadata": {},
     "output_type": "execute_result"
    }
   ],
   "source": [
    "np.mean(z,axis=0)"
   ]
  },
  {
   "cell_type": "code",
   "execution_count": 1101,
   "metadata": {
    "collapsed": false
   },
   "outputs": [
    {
     "data": {
      "text/plain": [
       "array([2, 0, 0, 0, 1, 0, 0, 2, 3, 3, 0, 0, 0, 0, 0, 0, 0, 2, 2, 0, 0, 3, 0,\n",
       "       3, 0, 0, 0, 0, 0, 3, 1, 2, 3, 2, 2, 3, 2, 3, 0, 3, 0, 0, 0, 2, 0, 3,\n",
       "       0, 3, 3, 3])"
      ]
     },
     "execution_count": 1101,
     "metadata": {},
     "output_type": "execute_result"
    }
   ],
   "source": [
    "np.argmax(z,axis=1)"
   ]
  },
  {
   "cell_type": "code",
   "execution_count": 1102,
   "metadata": {
    "collapsed": false
   },
   "outputs": [
    {
     "data": {
      "text/plain": [
       "array([3, 1, 1, 2, 2, 2, 3, 1, 1, 2, 2, 1, 1, 1, 1, 1, 1, 0, 0, 3, 2, 0, 2,\n",
       "       0, 1, 1, 3, 3, 2, 2, 3, 0, 0, 3, 1, 0, 0, 0, 2, 0, 2, 3, 1, 3, 2, 2,\n",
       "       3, 2, 2, 0])"
      ]
     },
     "execution_count": 1102,
     "metadata": {},
     "output_type": "execute_result"
    }
   ],
   "source": [
    "trueCls"
   ]
  },
  {
   "cell_type": "code",
   "execution_count": 1069,
   "metadata": {
    "collapsed": false
   },
   "outputs": [
    {
     "name": "stdout",
     "output_type": "stream",
     "text": [
      "Confusion matrix: \n",
      "[[  9.99942854e-01   1.90526755e-05   1.90477692e-05   1.90455914e-05]\n",
      " [  2.49994137e-01   2.49994137e-01   2.50017588e-01   2.49994137e-01]\n",
      " [  2.67434419e-01   2.44188530e-01   2.44188525e-01   2.44188525e-01]\n",
      " [  1.22569626e-02   1.22555974e-02   9.63231843e-01   1.22555974e-02]]\n",
      "Confusion matrix: \n",
      "[[  9.99862782e-01   9.34809038e-05   2.03134683e-05   2.34240330e-05]\n",
      " [  2.49994137e-01   2.49994137e-01   2.50017588e-01   2.49994137e-01]\n",
      " [  9.34846736e-01   4.73364102e-02   8.90663705e-03   8.91021707e-03]\n",
      " [  3.14489801e-01   2.65735203e-02   6.55715733e-01   3.22094624e-03]]\n",
      "Confusion matrix: \n",
      "[[  9.57062440e-01   3.98158230e-02   3.10310690e-03   1.86302609e-05]\n",
      " [  9.08291046e-03   9.08291046e-03   9.72751269e-01   9.08291046e-03]\n",
      " [  9.34720491e-01   4.74350610e-02   8.91768545e-03   8.92676286e-03]\n",
      " [  6.40852841e-01   4.81657545e-02   3.03594829e-01   7.38657574e-03]]\n",
      "Confusion matrix: \n",
      "[[  4.67166977e-04   9.98598226e-01   4.67186224e-04   4.67420701e-04]\n",
      " [  9.75287825e-01   8.23739183e-03   8.23739183e-03   8.23739183e-03]\n",
      " [  9.72161184e-01   9.28091138e-03   9.27895248e-03   9.27895248e-03]\n",
      " [  2.58425057e-01   2.47214713e-01   2.47188601e-01   2.47171629e-01]]\n",
      "Confusion matrix: \n",
      "[[  7.11870478e-06   4.86224073e-05   9.99937137e-01   7.12154298e-06]\n",
      " [  9.75258787e-01   8.24582119e-03   8.24582119e-03   8.24957085e-03]\n",
      " [  2.76340646e-01   2.41253734e-01   2.41202810e-01   2.41202810e-01]\n",
      " [  2.83705702e-01   5.59553678e-03   7.05103758e-01   5.59500238e-03]]\n"
     ]
    }
   ],
   "source": [
    "for c in confMatArray:\n",
    "    print \"Confusion matrix: \"\n",
    "    print c"
   ]
  },
  {
   "cell_type": "code",
   "execution_count": 1013,
   "metadata": {
    "collapsed": false
   },
   "outputs": [
    {
     "data": {
      "text/plain": [
       "array([  1.00000000e+00,   4.16535353e-39,   2.50803880e-41,\n",
       "         8.66487509e-31])"
      ]
     },
     "execution_count": 1013,
     "metadata": {},
     "output_type": "execute_result"
    }
   ],
   "source": [
    "pi"
   ]
  },
  {
   "cell_type": "markdown",
   "metadata": {},
   "source": [
    "Liu, C.,. 2013. How we taught AM207 and lived to tell the tale. IACS Journal 1:1–3.\n",
    "The students of AM207. 2013. Everything we know, we learned in AM207. IACS Journal 1:3–5. "
   ]
  },
  {
   "cell_type": "markdown",
   "metadata": {},
   "source": [
    "We used two data sets: an easy data set and a hard data set. Both have 5 workers and 4 classes, but the difference is in the confusion matrices. The easy data have confusion matrices close to an identity matrix, while the hard confusion matrices are much more muddled. We compared accuracy (the percentage of predicted labels that match the true labels) for 40, 80, 100, 200, and 500 data points, on both the easy and hard data. For EM, we also looked how having a single confusion matrix shared between all workers impacted our results.\n",
    "\n",
    "\n"
   ]
  },
  {
   "cell_type": "markdown",
   "metadata": {},
   "source": [
    "The conclusion that we draw from the results is that the YN paradigm is better suited for scenarios where the confusion matrix for the worker poor; that is, when the diagonal of the confusion matrices aren't as heavily weighted. This aligns with our results from our PyMC simulations. The drawback though comes in the form of computation – the number of questions increases linearly with increasing number of classes. Regardless of the method or difficultly of data set, our accuracy increased as we increased the number of data points. "
   ]
  },
  {
   "cell_type": "code",
   "execution_count": null,
   "metadata": {
    "collapsed": true
   },
   "outputs": [],
   "source": []
  }
 ],
 "metadata": {
  "kernelspec": {
   "display_name": "Python 2",
   "language": "python",
   "name": "python2"
  },
  "language_info": {
   "codemirror_mode": {
    "name": "ipython",
    "version": 2
   },
   "file_extension": ".py",
   "mimetype": "text/x-python",
   "name": "python",
   "nbconvert_exporter": "python",
   "pygments_lexer": "ipython2",
   "version": "2.7.11"
  }
 },
 "nbformat": 4,
 "nbformat_minor": 0
}
