{
 "cells": [
  {
   "cell_type": "code",
   "execution_count": 18,
   "metadata": {
    "collapsed": true
   },
   "outputs": [],
   "source": [
    "import numpy as np\n",
    "import pymc as pm\n",
    "import matplotlib.pyplot as plt\n",
    "%matplotlib inline"
   ]
  },
  {
   "cell_type": "code",
   "execution_count": 75,
   "metadata": {
    "collapsed": false
   },
   "outputs": [],
   "source": [
    "#Reading in the data\n",
    "data = np.load('MC_50_5_4.npz.npy')"
   ]
  },
  {
   "cell_type": "code",
   "execution_count": 76,
   "metadata": {
    "collapsed": false
   },
   "outputs": [
    {
     "data": {
      "text/plain": [
       "(50, 5, 4)"
      ]
     },
     "execution_count": 76,
     "metadata": {},
     "output_type": "execute_result"
    }
   ],
   "source": [
    "data.shape"
   ]
  },
  {
   "cell_type": "code",
   "execution_count": 77,
   "metadata": {
    "collapsed": true
   },
   "outputs": [],
   "source": [
    "#Inferring the number of classes and data length\n",
    "numData = data.shape[0]\n",
    "numExperts = data.shape[1]\n",
    "numClasses = data.shape[2]"
   ]
  },
  {
   "cell_type": "code",
   "execution_count": 78,
   "metadata": {
    "collapsed": false
   },
   "outputs": [],
   "source": [
    "#Since we know the class distribution is equal\n",
    "alpha = [1, 1, 1, 1]\n",
    "rho = pm.Dirichlet('rho',theta=alpha, plot=False)\n",
    "rho_completedD = pm.CompletedDirichlet('rho_completed', rho, plot=False)\n",
    "z = pm.Container([pm.Multinomial('z_%i' %i,n=1,p=rho, plot=False) for i in range(numData)])\n",
    "lam = 10\n",
    "lambda_mat = lam*np.eye( numClasses) + np.ones((numClasses, numClasses))\n",
    "confMatList = []\n",
    "confMatHatList = []\n",
    "for idx in range(numExperts):\n",
    "    confMat = pm.Container([pm.Dirichlet(name='theta_row_'+str(i)+str(idx), theta=lambda_mat[i,:], plot=False)\\\n",
    "                      for i in range(numClasses)])\n",
    "    confMatHat = pm.Container([pm.CompletedDirichlet('theta_row_hat'+str(i)+str(idx),\\\n",
    "                                                     confMat[i], plot=False)\\\n",
    "                      for i in range(numClasses)])\n",
    "    confMatList.append(confMat)\n",
    "    confMatHatList.append(confMatHat)"
   ]
  },
  {
   "cell_type": "code",
   "execution_count": 79,
   "metadata": {
    "collapsed": true
   },
   "outputs": [],
   "source": [
    "confMatList = pm.Container(confMatList)\n",
    "confMatHatList = pm.Container(confMatHatList)"
   ]
  },
  {
   "cell_type": "code",
   "execution_count": 80,
   "metadata": {
    "collapsed": false
   },
   "outputs": [],
   "source": [
    "@pm.observed\n",
    "def mc_log_likelihood(value=data, z=z, confMatList=confMatHatList):\n",
    "    \"\"\"\n",
    "    value - data\n",
    "    z - observed classes\n",
    "    confMat - confidence matrix\n",
    "    \"\"\"\n",
    "    log_like = 0\n",
    "    numData = data.shape[0]\n",
    "    numExperts = data.shape[1]\n",
    "    numClasses = data.shape[2]\n",
    "    for data_idx in range(numData):\n",
    "        dat = data[data_idx]\n",
    "        observed_cls = z[data_idx]\n",
    "        for expert_idx in range(numExperts):\n",
    "            dat_exp = dat[expert_idx]\n",
    "            confMat = confMatList[expert_idx]\n",
    "            for class_idx_row in range(numClasses):\n",
    "                for class_idx_column in range(numClasses):\n",
    "                    log_like += observed_cls[class_idx_row]\\\n",
    "                    *np.sum(np.multiply(dat_exp ,np.log(confMat[class_idx_row])))\n",
    "    return log_like"
   ]
  },
  {
   "cell_type": "code",
   "execution_count": 81,
   "metadata": {
    "collapsed": true
   },
   "outputs": [],
   "source": [
    "mod = pm.Model([rho, rho_completedD, z, confMatList, confMatHatList, mc_log_likelihood])"
   ]
  },
  {
   "cell_type": "code",
   "execution_count": 82,
   "metadata": {
    "collapsed": false
   },
   "outputs": [
    {
     "name": "stdout",
     "output_type": "stream",
     "text": [
      " [-----------------100%-----------------] 10001 of 10000 complete in 8038.3 sec"
     ]
    }
   ],
   "source": [
    "mcmc = pm.MCMC(mod)\n",
    "mcmc.sample(iter=10000, burn=1000, thin=5)\n",
    "pm.Matplot.plot(mcmc)"
   ]
  },
  {
   "cell_type": "code",
   "execution_count": 83,
   "metadata": {
    "collapsed": false
   },
   "outputs": [
    {
     "name": "stdout",
     "output_type": "stream",
     "text": [
      "Confusion Matrix for expert  1\n",
      "[[ 0.85659685  0.02146113  0.11070047  0.01124155]]\n",
      "[[ 0.02579119  0.82787302  0.0335672   0.11276859]]\n",
      "[[ 0.02287433  0.01491114  0.94858034  0.0136342 ]]\n",
      "[[ 0.02856769  0.01160149  0.01608913  0.94374169]]\n",
      "Confusion Matrix for expert  2\n",
      "[[ 0.59664259  0.18321612  0.0637488   0.15639249]]\n",
      "[[ 0.129656    0.77531912  0.06876543  0.02625945]]\n",
      "[[ 0.00354765  0.23035683  0.75196428  0.01413124]]\n",
      "[[ 0.01779601  0.23104574  0.13848052  0.61267774]]\n",
      "Confusion Matrix for expert  3\n",
      "[[ 0.68115803  0.19699838  0.05717661  0.06466698]]\n",
      "[[ 0.03211415  0.74050633  0.02187245  0.20550708]]\n",
      "[[ 0.13424786  0.01367836  0.62712251  0.22495126]]\n",
      "[[ 0.16582071  0.16117385  0.0180226   0.65498284]]\n",
      "Confusion Matrix for expert  4\n",
      "[[ 0.78708279  0.10548511  0.09308596  0.01434614]]\n",
      "[[ 0.06807938  0.87772615  0.03303473  0.02115975]]\n",
      "[[ 0.06599089  0.06733619  0.69012503  0.17654789]]\n",
      "[[ 0.15971064  0.01844529  0.01866387  0.8031802 ]]\n",
      "Confusion Matrix for expert  5\n",
      "[[ 0.47786088  0.12181696  0.29718838  0.10313378]]\n",
      "[[ 0.12491858  0.67977227  0.05711772  0.13819143]]\n",
      "[[ 0.17622521  0.06394066  0.6384501   0.12138404]]\n",
      "[[ 0.15967014  0.01653327  0.08606338  0.73773321]]\n"
     ]
    }
   ],
   "source": [
    "for e_idx in range(numExperts):\n",
    "    print \"Confusion Matrix for expert \",str(e_idx+1)\n",
    "    confMatHat = confMatHatList[e_idx]\n",
    "    for idx in range(numClasses):\n",
    "        print np.mean(confMatHat[idx].trace()[:], axis=0)"
   ]
  },
  {
   "cell_type": "code",
   "execution_count": null,
   "metadata": {
    "collapsed": true
   },
   "outputs": [],
   "source": [
    "Confusion Matrix for expert  1\n",
    "[[ 0.97115385  0.00961538  0.00961538  0.00961538]\n",
    " [ 0.00961538  0.97115385  0.00961538  0.00961538]\n",
    " [ 0.00961538  0.00961538  0.97115385  0.00961538]\n",
    " [ 0.00961538  0.00961538  0.00961538  0.97115385]]\n",
    "Confusion Matrix for expert  2\n",
    "[[ 0.66666667  0.11111111  0.11111111  0.11111111]\n",
    " [ 0.11111111  0.66666667  0.11111111  0.11111111]\n",
    " [ 0.11111111  0.11111111  0.66666667  0.11111111]\n",
    " [ 0.11111111  0.11111111  0.11111111  0.66666667]]\n",
    "Confusion Matrix for expert  3\n",
    "[[ 0.53846154  0.15384615  0.15384615  0.15384615]\n",
    " [ 0.15384615  0.53846154  0.15384615  0.15384615]\n",
    " [ 0.15384615  0.15384615  0.53846154  0.15384615]\n",
    " [ 0.15384615  0.15384615  0.15384615  0.53846154]]\n",
    "Confusion Matrix for expert  4\n",
    "[[ 0.875       0.04166667  0.04166667  0.04166667]\n",
    " [ 0.04166667  0.875       0.04166667  0.04166667]\n",
    " [ 0.04166667  0.04166667  0.875       0.04166667]\n",
    " [ 0.04166667  0.04166667  0.04166667  0.875     ]]\n",
    "Confusion Matrix for expert  5\n",
    "[[ 0.625  0.125  0.125  0.125]\n",
    " [ 0.125  0.625  0.125  0.125]\n",
    " [ 0.125  0.125  0.625  0.125]\n",
    " [ 0.125  0.125  0.125  0.625]]"
   ]
  }
 ],
 "metadata": {
  "kernelspec": {
   "display_name": "Python 2",
   "language": "python",
   "name": "python2"
  },
  "language_info": {
   "codemirror_mode": {
    "name": "ipython",
    "version": 2
   },
   "file_extension": ".py",
   "mimetype": "text/x-python",
   "name": "python",
   "nbconvert_exporter": "python",
   "pygments_lexer": "ipython2",
   "version": "2.7.11"
  }
 },
 "nbformat": 4,
 "nbformat_minor": 0
}
