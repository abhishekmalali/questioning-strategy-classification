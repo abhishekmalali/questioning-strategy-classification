{
 "cells": [
  {
   "cell_type": "code",
   "execution_count": 2,
   "metadata": {
    "collapsed": true
   },
   "outputs": [],
   "source": [
    "import numpy as np"
   ]
  },
  {
   "cell_type": "markdown",
   "metadata": {},
   "source": [
    "#### Multiclass classification case"
   ]
  },
  {
   "cell_type": "code",
   "execution_count": 101,
   "metadata": {
    "collapsed": true
   },
   "outputs": [],
   "source": [
    "numExperts = 5\n",
    "numClasses = 4\n",
    "numData = 10\n",
    "biases = [0.01, 0.2, 0.4, 0.05, 0.25]"
   ]
  },
  {
   "cell_type": "code",
   "execution_count": 102,
   "metadata": {
    "collapsed": true
   },
   "outputs": [],
   "source": [
    "def genConfMat(numExperts, numClasses, biases):\n",
    "    \"\"\"\n",
    "    INPUT-\n",
    "    numExperts - number of Experts\n",
    "    numClasses - number of Classes\n",
    "    biases - biases for each expert - Chance of misclassification to be encoded in Conf Matrix\n",
    "    \n",
    "    OUTPUT-\n",
    "    List of confusion matrices\n",
    "    \"\"\"\n",
    "    confMatList = []\n",
    "    #Mandatory check before generating the data\n",
    "    assert len(biases) == numExperts\n",
    "    #Iterating over each expert to create a confusion matrix\n",
    "    for exp in range(numExperts):\n",
    "        confMat = np.eye(numClasses, dtype=float)\n",
    "        confMat = confMat + biases[exp]*np.ones((numClasses, numClasses), dtype=float)\n",
    "        rowSum = np.sum(confMat, axis=1)\n",
    "        #normalizing the confusion matrix\n",
    "        confMatNorm = confMat/rowSum[:,np.newaxis]\n",
    "        confMatList.append(confMatNorm)\n",
    "    return confMatList"
   ]
  },
  {
   "cell_type": "code",
   "execution_count": 103,
   "metadata": {
    "collapsed": false
   },
   "outputs": [],
   "source": [
    "def genTrueClasses(numData, numClasses, classDist='uniform'):\n",
    "    \"\"\"\n",
    "    INPUT\n",
    "    numData - number of data points to be generated\n",
    "    numClasses - number of classes\n",
    "    classDist - type of distribution governing true classes in the data\n",
    "    \n",
    "    OUTPUT\n",
    "    data - one hot vectorized data\n",
    "    data_num - data with the classes as integers\n",
    "    \"\"\"\n",
    "    if classDist=='uniform':\n",
    "        data_num = np.random.choice(range(numClasses), numData)\n",
    "        data = np.eye(numClasses)[data_num]\n",
    "        return data, data_num"
   ]
  },
  {
   "cell_type": "code",
   "execution_count": 104,
   "metadata": {
    "collapsed": false
   },
   "outputs": [],
   "source": [
    "def genExpertLabels_MC(trueClsNum, confMatList, numExperts, numClasses):\n",
    "    \"\"\"\n",
    "    INPUT\n",
    "    trueClsNum - data with the classes as integers\n",
    "    confMatList - List of confusion matrices\n",
    "    numExperts - number of Experts\n",
    "    numClasses - number of classes\n",
    "    \n",
    "    OUTPUT\n",
    "    Data in a 3d array format\n",
    "    \"\"\"\n",
    "    #Mandatory check before generating expert labels\n",
    "    assert len(confMatList) == numExperts\n",
    "    numData = len(trueClsNum)\n",
    "    dataList = []\n",
    "    for data_idx in range(numData):\n",
    "        true_class = trueClsNum[data_idx]\n",
    "        expert_val = np.zeros((numExperts, numClasses))\n",
    "        for exp in range(numExperts):\n",
    "            confMat = confMatList[exp]\n",
    "            predClass = np.random.choice(range(numClasses), p=confMat[true_class,:])\n",
    "            expert_val[exp, predClass] = 1\n",
    "        dataList.append(expert_val)\n",
    "    return np.array(dataList)"
   ]
  },
  {
   "cell_type": "code",
   "execution_count": 105,
   "metadata": {
    "collapsed": false
   },
   "outputs": [],
   "source": [
    "confMatList = genConfMat(numExperts, numClasses, biases)"
   ]
  },
  {
   "cell_type": "code",
   "execution_count": 106,
   "metadata": {
    "collapsed": true
   },
   "outputs": [],
   "source": [
    "trueClasses, trueClsNum = genTrueClasses(numData, numClasses)"
   ]
  },
  {
   "cell_type": "code",
   "execution_count": 107,
   "metadata": {
    "collapsed": false
   },
   "outputs": [],
   "source": [
    "expertData = genExpertLabels_MC(trueClsNum, confMatList, numExperts, numClasses)"
   ]
  },
  {
   "cell_type": "code",
   "execution_count": 114,
   "metadata": {
    "collapsed": false
   },
   "outputs": [
    {
     "data": {
      "text/plain": [
       "(10, 5, 4)"
      ]
     },
     "execution_count": 114,
     "metadata": {},
     "output_type": "execute_result"
    }
   ],
   "source": [
    "expertData.shape"
   ]
  },
  {
   "cell_type": "markdown",
   "metadata": {},
   "source": [
    "#### Yes/No Question data generation"
   ]
  },
  {
   "cell_type": "markdown",
   "metadata": {},
   "source": [
    "The assumption is that all the questions are asked in the same order. This is done to maintain uniformity while generating the data."
   ]
  },
  {
   "cell_type": "markdown",
   "metadata": {},
   "source": [
    "The first column indicates NO, whereas the second column indicates YES."
   ]
  },
  {
   "cell_type": "code",
   "execution_count": 79,
   "metadata": {
    "collapsed": true
   },
   "outputs": [],
   "source": [
    "def genExpertLabels_YN(trueClsNum, confMatList, numExperts, numClasses):\n",
    "    \"\"\"\n",
    "    INPUT\n",
    "    trueClsNum - data with the classes as integers\n",
    "    confMatList - List of confusion matrices\n",
    "    numExperts - number of Experts\n",
    "    numClasses - number of classes\n",
    "    \n",
    "    OUTPUT\n",
    "    Data in a 4d array format\n",
    "    \"\"\"\n",
    "    #Mandatory check before generating expert labels\n",
    "    assert len(confMatList) == numExperts\n",
    "    numData = len(trueClsNum)\n",
    "    dataList = []\n",
    "    for data_idx in range(numData):\n",
    "        true_class = trueClsNum[data_idx]\n",
    "        expert_val = np.zeros((numExperts, numClasses, 2))\n",
    "        for exp in range(numExperts):\n",
    "            confMat = confMatList[exp]\n",
    "            for qClass in range(numClasses):\n",
    "                prob = confMat[true_class, qClass]\n",
    "                val = np.random.binomial(1, prob)\n",
    "                expert_val[exp, qClass, val] = 1\n",
    "        dataList.append(expert_val)\n",
    "    return np.array(dataList)"
   ]
  },
  {
   "cell_type": "code",
   "execution_count": 80,
   "metadata": {
    "collapsed": false
   },
   "outputs": [],
   "source": [
    "expertData_YN = genExpertLabels_YN(trueClsNum, confMatList, numExperts, numClasses)"
   ]
  },
  {
   "cell_type": "code",
   "execution_count": 81,
   "metadata": {
    "collapsed": false
   },
   "outputs": [
    {
     "data": {
      "text/plain": [
       "(10, 5, 4, 2)"
      ]
     },
     "execution_count": 81,
     "metadata": {},
     "output_type": "execute_result"
    }
   ],
   "source": [
    "expertData_YN.shape"
   ]
  },
  {
   "cell_type": "markdown",
   "metadata": {},
   "source": [
    "#### Comparing two classes and asking the expert to pick either"
   ]
  },
  {
   "cell_type": "markdown",
   "metadata": {},
   "source": [
    "The number of questions for every datapoint if we have $k$ classes will be $\\frac{k(k-1)}{2}$"
   ]
  },
  {
   "cell_type": "code",
   "execution_count": 82,
   "metadata": {
    "collapsed": true
   },
   "outputs": [],
   "source": [
    "import itertools"
   ]
  },
  {
   "cell_type": "code",
   "execution_count": 83,
   "metadata": {
    "collapsed": false
   },
   "outputs": [],
   "source": [
    "order = []\n",
    "for subset in itertools.combinations(range(numClasses), 2):\n",
    "    order.append(subset)"
   ]
  },
  {
   "cell_type": "markdown",
   "metadata": {},
   "source": [
    "Make sure to save order as well, just in case we might need it in the inference process."
   ]
  },
  {
   "cell_type": "code",
   "execution_count": 89,
   "metadata": {
    "collapsed": true
   },
   "outputs": [],
   "source": [
    "def genExpertLabels_CC(trueClsNum, confMatList, numExperts, numClasses, order):\n",
    "    \"\"\"\n",
    "    INPUT\n",
    "    trueClsNum - data with the classes as integers\n",
    "    confMatList - List of confusion matrices\n",
    "    numExperts - number of Experts\n",
    "    numClasses - number of classes\n",
    "    order - List with tuples of classes being compared (All combinations)\n",
    "    OUTPUT\n",
    "    Data in a 4d array format\n",
    "    \"\"\"\n",
    "    #Mandatory check before generating expert labels\n",
    "    assert len(confMatList) == numExperts\n",
    "    numData = len(trueClsNum)\n",
    "    dataList = []\n",
    "    for data_idx in range(numData):\n",
    "        true_class = trueClsNum[data_idx]\n",
    "        expert_val = np.zeros((numExperts, len(order), 2))\n",
    "        for exp in range(numExperts):\n",
    "            confMat = confMatList[exp]\n",
    "            for qClass_idx in range(len(order)):\n",
    "                qClass = order[qClass_idx]\n",
    "                prob_neg = confMat[true_class, qClass[0]]\n",
    "                prob_pos = confMat[true_class, qClass[1]]\n",
    "                prob = prob_pos/(prob_pos + prob_neg)\n",
    "                val = np.random.binomial(1, prob)\n",
    "                expert_val[exp, qClass_idx, val] = 1\n",
    "        dataList.append(expert_val)\n",
    "    return np.array(dataList)"
   ]
  },
  {
   "cell_type": "code",
   "execution_count": 108,
   "metadata": {
    "collapsed": false
   },
   "outputs": [],
   "source": [
    "expertData_CC = genExpertLabels_CC(trueClsNum, confMatList, numExperts, numClasses, order)"
   ]
  },
  {
   "cell_type": "code",
   "execution_count": 113,
   "metadata": {
    "collapsed": false
   },
   "outputs": [
    {
     "data": {
      "text/plain": [
       "(10, 5, 6, 2)"
      ]
     },
     "execution_count": 113,
     "metadata": {},
     "output_type": "execute_result"
    }
   ],
   "source": [
    "expertData_CC.shape"
   ]
  },
  {
   "cell_type": "code",
   "execution_count": null,
   "metadata": {
    "collapsed": true
   },
   "outputs": [],
   "source": []
  }
 ],
 "metadata": {
  "kernelspec": {
   "display_name": "Python 2",
   "language": "python",
   "name": "python2"
  },
  "language_info": {
   "codemirror_mode": {
    "name": "ipython",
    "version": 2
   },
   "file_extension": ".py",
   "mimetype": "text/x-python",
   "name": "python",
   "nbconvert_exporter": "python",
   "pygments_lexer": "ipython2",
   "version": "2.7.11"
  }
 },
 "nbformat": 4,
 "nbformat_minor": 0
}
