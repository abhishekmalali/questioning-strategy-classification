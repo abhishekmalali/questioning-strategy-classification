{
 "cells": [
  {
   "cell_type": "code",
   "execution_count": 1,
   "metadata": {
    "collapsed": true
   },
   "outputs": [],
   "source": [
    "import numpy as np"
   ]
  },
  {
   "cell_type": "markdown",
   "metadata": {},
   "source": [
    "#### Multiclass classification case"
   ]
  },
  {
   "cell_type": "code",
   "execution_count": 183,
   "metadata": {
    "collapsed": true
   },
   "outputs": [],
   "source": [
    "numExperts = 5\n",
    "numClasses = 4\n",
    "numData = 80\n",
    "#used this for preset prefix data\n",
    "#biases = [0.01, 0.15, 0.07, 0.05, 0.03]\n",
    "#used this for same_preset prefix data\n",
    "biases = [0.05, 0.05, 0.05, 0.05, 0.05]\n",
    "#used this for hard_preset prefix data\n",
    "#biases = [0.15, 0.20, 0.12, 0.10, 0.05]\n",
    "#used this for extra_hard prefix data\n",
    "#biases = [0.02, 0.2, 0.25, 0.15, 0.4]"
   ]
  },
  {
   "cell_type": "code",
   "execution_count": 184,
   "metadata": {
    "collapsed": true
   },
   "outputs": [],
   "source": [
    "def genConfMat(numExperts, numClasses, biases):\n",
    "    \"\"\"\n",
    "    INPUT-\n",
    "    numExperts - number of Experts\n",
    "    numClasses - number of Classes\n",
    "    biases - biases for each expert - Chance of misclassification to be encoded in Conf Matrix\n",
    "    \n",
    "    OUTPUT-\n",
    "    List of confusion matrices\n",
    "    \"\"\"\n",
    "    confMatList = []\n",
    "    #Mandatory check before generating the data\n",
    "    assert len(biases) == numExperts\n",
    "    #Iterating over each expert to create a confusion matrix\n",
    "    for exp in range(numExperts):\n",
    "        confMat = np.eye(numClasses, dtype=float)\n",
    "        confMat = confMat + biases[exp]*np.ones((numClasses, numClasses), dtype=float)\n",
    "        rowSum = np.sum(confMat, axis=1)\n",
    "        #normalizing the confusion matrix\n",
    "        confMatNorm = confMat/rowSum[:,np.newaxis]\n",
    "        confMatList.append(confMatNorm)\n",
    "    return confMatList"
   ]
  },
  {
   "cell_type": "code",
   "execution_count": 185,
   "metadata": {
    "collapsed": false
   },
   "outputs": [],
   "source": [
    "def genTrueClasses(numData, numClasses, classDist='uniform'):\n",
    "    \"\"\"\n",
    "    INPUT\n",
    "    numData - number of data points to be generated\n",
    "    numClasses - number of classes\n",
    "    classDist - type of distribution governing true classes in the data\n",
    "    \n",
    "    OUTPUT\n",
    "    data - one hot vectorized data\n",
    "    data_num - data with the classes as integers\n",
    "    \"\"\"\n",
    "    if classDist=='uniform':\n",
    "        data_num = np.random.choice(range(numClasses), numData)\n",
    "        data = np.eye(numClasses)[data_num]\n",
    "        return data, data_num\n",
    "    if classDist=='pre-selected-uniform':\n",
    "        data_list = []\n",
    "        for k in range(numClasses):\n",
    "            class_dat = [k for i in range(numData/numClasses)]\n",
    "            data_list = data_list + class_dat\n",
    "        data_num = np.array(data_list)\n",
    "        np.random.shuffle(data_num)\n",
    "        data = np.eye(numClasses)[data_num]\n",
    "        return data, data_num"
   ]
  },
  {
   "cell_type": "code",
   "execution_count": 186,
   "metadata": {
    "collapsed": false
   },
   "outputs": [],
   "source": [
    "def genExpertLabels_MC(trueClsNum, confMatList, numExperts, numClasses):\n",
    "    \"\"\"\n",
    "    INPUT\n",
    "    trueClsNum - data with the classes as integers\n",
    "    confMatList - List of confusion matrices\n",
    "    numExperts - number of Experts\n",
    "    numClasses - number of classes\n",
    "    \n",
    "    OUTPUT\n",
    "    Data in a 3d array format\n",
    "    \"\"\"\n",
    "    #Mandatory check before generating expert labels\n",
    "    assert len(confMatList) == numExperts\n",
    "    numData = len(trueClsNum)\n",
    "    dataList = []\n",
    "    for data_idx in range(numData):\n",
    "        true_class = trueClsNum[data_idx]\n",
    "        expert_val = np.zeros((numExperts, numClasses))\n",
    "        for exp in range(numExperts):\n",
    "            confMat = confMatList[exp]\n",
    "            predClass = np.random.choice(range(numClasses), p=confMat[true_class,:])\n",
    "            expert_val[exp, predClass] = 1\n",
    "        dataList.append(expert_val)\n",
    "    return np.array(dataList)"
   ]
  },
  {
   "cell_type": "code",
   "execution_count": 187,
   "metadata": {
    "collapsed": false
   },
   "outputs": [],
   "source": [
    "confMatList = genConfMat(numExperts, numClasses, biases)"
   ]
  },
  {
   "cell_type": "code",
   "execution_count": 188,
   "metadata": {
    "collapsed": false
   },
   "outputs": [],
   "source": [
    "trueClasses, trueClsNum = genTrueClasses(numData, numClasses, classDist='pre-selected-uniform')"
   ]
  },
  {
   "cell_type": "code",
   "execution_count": 189,
   "metadata": {
    "collapsed": false
   },
   "outputs": [],
   "source": [
    "expertData = genExpertLabels_MC(trueClsNum, confMatList, numExperts, numClasses)"
   ]
  },
  {
   "cell_type": "code",
   "execution_count": 190,
   "metadata": {
    "collapsed": false
   },
   "outputs": [
    {
     "data": {
      "text/plain": [
       "(80, 5, 4)"
      ]
     },
     "execution_count": 190,
     "metadata": {},
     "output_type": "execute_result"
    }
   ],
   "source": [
    "expertData.shape"
   ]
  },
  {
   "cell_type": "code",
   "execution_count": 191,
   "metadata": {
    "collapsed": true
   },
   "outputs": [],
   "source": [
    "np.save('../data/same_preset_MC_'+str(numData)+'_'+str(numExperts)+'_'+str(numClasses)+'.npz',expertData)"
   ]
  },
  {
   "cell_type": "code",
   "execution_count": 192,
   "metadata": {
    "collapsed": true
   },
   "outputs": [],
   "source": [
    "np.save('../data/same_preset_MC_'+str(numData)+'_'+str(numExperts)+\\\n",
    "        '_'+str(numClasses)+'_reference_classes', trueClsNum)"
   ]
  },
  {
   "cell_type": "code",
   "execution_count": 193,
   "metadata": {
    "collapsed": false
   },
   "outputs": [
    {
     "name": "stdout",
     "output_type": "stream",
     "text": [
      "Confusion Matrix for expert  1\n",
      "[[ 0.875       0.04166667  0.04166667  0.04166667]\n",
      " [ 0.04166667  0.875       0.04166667  0.04166667]\n",
      " [ 0.04166667  0.04166667  0.875       0.04166667]\n",
      " [ 0.04166667  0.04166667  0.04166667  0.875     ]]\n",
      "Confusion Matrix for expert  2\n",
      "[[ 0.875       0.04166667  0.04166667  0.04166667]\n",
      " [ 0.04166667  0.875       0.04166667  0.04166667]\n",
      " [ 0.04166667  0.04166667  0.875       0.04166667]\n",
      " [ 0.04166667  0.04166667  0.04166667  0.875     ]]\n",
      "Confusion Matrix for expert  3\n",
      "[[ 0.875       0.04166667  0.04166667  0.04166667]\n",
      " [ 0.04166667  0.875       0.04166667  0.04166667]\n",
      " [ 0.04166667  0.04166667  0.875       0.04166667]\n",
      " [ 0.04166667  0.04166667  0.04166667  0.875     ]]\n",
      "Confusion Matrix for expert  4\n",
      "[[ 0.875       0.04166667  0.04166667  0.04166667]\n",
      " [ 0.04166667  0.875       0.04166667  0.04166667]\n",
      " [ 0.04166667  0.04166667  0.875       0.04166667]\n",
      " [ 0.04166667  0.04166667  0.04166667  0.875     ]]\n",
      "Confusion Matrix for expert  5\n",
      "[[ 0.875       0.04166667  0.04166667  0.04166667]\n",
      " [ 0.04166667  0.875       0.04166667  0.04166667]\n",
      " [ 0.04166667  0.04166667  0.875       0.04166667]\n",
      " [ 0.04166667  0.04166667  0.04166667  0.875     ]]\n"
     ]
    }
   ],
   "source": [
    "for i in range(numExperts):\n",
    "    print \"Confusion Matrix for expert \",str(i+1)\n",
    "    print confMatList[i]"
   ]
  },
  {
   "cell_type": "markdown",
   "metadata": {},
   "source": [
    "#### Yes/No Question data generation"
   ]
  },
  {
   "cell_type": "markdown",
   "metadata": {},
   "source": [
    "The assumption is that all the questions are asked in the same order. This is done to maintain uniformity while generating the data."
   ]
  },
  {
   "cell_type": "markdown",
   "metadata": {},
   "source": [
    "The first column indicates NO, whereas the second column indicates YES."
   ]
  },
  {
   "cell_type": "code",
   "execution_count": 194,
   "metadata": {
    "collapsed": true
   },
   "outputs": [],
   "source": [
    "def genExpertLabels_YN(trueClsNum, confMatList, numExperts, numClasses):\n",
    "    \"\"\"\n",
    "    INPUT\n",
    "    trueClsNum - data with the classes as integers\n",
    "    confMatList - List of confusion matrices\n",
    "    numExperts - number of Experts\n",
    "    numClasses - number of classes\n",
    "    \n",
    "    OUTPUT\n",
    "    Data in a 4d array format\n",
    "    \"\"\"\n",
    "    #Mandatory check before generating expert labels\n",
    "    assert len(confMatList) == numExperts\n",
    "    numData = len(trueClsNum)\n",
    "    dataList = []\n",
    "    for data_idx in range(numData):\n",
    "        true_class = trueClsNum[data_idx]\n",
    "        expert_val = np.zeros((numExperts, numClasses, 2))\n",
    "        for exp in range(numExperts):\n",
    "            confMat = confMatList[exp]\n",
    "            for qClass in range(numClasses):\n",
    "                prob = confMat[true_class, qClass]\n",
    "                val = np.random.binomial(1, prob)\n",
    "                expert_val[exp, qClass, val] = 1\n",
    "        dataList.append(expert_val)\n",
    "    return np.array(dataList)"
   ]
  },
  {
   "cell_type": "code",
   "execution_count": 195,
   "metadata": {
    "collapsed": false
   },
   "outputs": [],
   "source": [
    "expertData_YN = genExpertLabels_YN(trueClsNum, confMatList, numExperts, numClasses)"
   ]
  },
  {
   "cell_type": "code",
   "execution_count": 196,
   "metadata": {
    "collapsed": false
   },
   "outputs": [],
   "source": [
    "np.save('../data/same_preset_YN_'+str(numData)+'_'+str(numExperts)+'_'+str(numClasses)+'.npz',expertData_YN)"
   ]
  },
  {
   "cell_type": "markdown",
   "metadata": {},
   "source": [
    "#### Comparing two classes and asking the expert to pick either"
   ]
  },
  {
   "cell_type": "markdown",
   "metadata": {},
   "source": [
    "The number of questions for every datapoint if we have $k$ classes will be $\\frac{k(k-1)}{2}$"
   ]
  },
  {
   "cell_type": "code",
   "execution_count": 82,
   "metadata": {
    "collapsed": true
   },
   "outputs": [],
   "source": [
    "import itertools"
   ]
  },
  {
   "cell_type": "code",
   "execution_count": 83,
   "metadata": {
    "collapsed": false
   },
   "outputs": [],
   "source": [
    "order = []\n",
    "for subset in itertools.combinations(range(numClasses), 2):\n",
    "    order.append(subset)"
   ]
  },
  {
   "cell_type": "markdown",
   "metadata": {},
   "source": [
    "Make sure to save order as well, just in case we might need it in the inference process."
   ]
  },
  {
   "cell_type": "code",
   "execution_count": 89,
   "metadata": {
    "collapsed": true
   },
   "outputs": [],
   "source": [
    "def genExpertLabels_CC(trueClsNum, confMatList, numExperts, numClasses, order):\n",
    "    \"\"\"\n",
    "    INPUT\n",
    "    trueClsNum - data with the classes as integers\n",
    "    confMatList - List of confusion matrices\n",
    "    numExperts - number of Experts\n",
    "    numClasses - number of classes\n",
    "    order - List with tuples of classes being compared (All combinations)\n",
    "    OUTPUT\n",
    "    Data in a 4d array format\n",
    "    \"\"\"\n",
    "    #Mandatory check before generating expert labels\n",
    "    assert len(confMatList) == numExperts\n",
    "    numData = len(trueClsNum)\n",
    "    dataList = []\n",
    "    for data_idx in range(numData):\n",
    "        true_class = trueClsNum[data_idx]\n",
    "        expert_val = np.zeros((numExperts, len(order), 2))\n",
    "        for exp in range(numExperts):\n",
    "            confMat = confMatList[exp]\n",
    "            for qClass_idx in range(len(order)):\n",
    "                qClass = order[qClass_idx]\n",
    "                prob_neg = confMat[true_class, qClass[0]]\n",
    "                prob_pos = confMat[true_class, qClass[1]]\n",
    "                prob = prob_pos/(prob_pos + prob_neg)\n",
    "                val = np.random.binomial(1, prob)\n",
    "                expert_val[exp, qClass_idx, val] = 1\n",
    "        dataList.append(expert_val)\n",
    "    return np.array(dataList)"
   ]
  },
  {
   "cell_type": "code",
   "execution_count": 108,
   "metadata": {
    "collapsed": false
   },
   "outputs": [],
   "source": [
    "expertData_CC = genExpertLabels_CC(trueClsNum, confMatList, numExperts, numClasses, order)"
   ]
  },
  {
   "cell_type": "code",
   "execution_count": 113,
   "metadata": {
    "collapsed": false
   },
   "outputs": [
    {
     "data": {
      "text/plain": [
       "(10, 5, 6, 2)"
      ]
     },
     "execution_count": 113,
     "metadata": {},
     "output_type": "execute_result"
    }
   ],
   "source": [
    "expertData_CC.shape"
   ]
  },
  {
   "cell_type": "code",
   "execution_count": null,
   "metadata": {
    "collapsed": true
   },
   "outputs": [],
   "source": []
  }
 ],
 "metadata": {
  "kernelspec": {
   "display_name": "Python 2",
   "language": "python",
   "name": "python2"
  },
  "language_info": {
   "codemirror_mode": {
    "name": "ipython",
    "version": 2
   },
   "file_extension": ".py",
   "mimetype": "text/x-python",
   "name": "python",
   "nbconvert_exporter": "python",
   "pygments_lexer": "ipython2",
   "version": "2.7.11"
  }
 },
 "nbformat": 4,
 "nbformat_minor": 0
}
